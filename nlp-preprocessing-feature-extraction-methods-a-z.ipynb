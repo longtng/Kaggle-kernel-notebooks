{
 "cells": [
  {
   "cell_type": "markdown",
   "execution_count": null,
   "metadata": {
    "papermill": {
     "duration": 0.034785,
     "end_time": "2020-08-26T20:59:06.072538",
     "exception": false,
     "start_time": "2020-08-26T20:59:06.037753",
     "status": "completed"
    },
    "tags": []
   },
   "source": [
    "<a id=\"top_section\"></a>\n",
    "<div align='center'><font size=\"6\" color=\"#000000\"><b>NLP Preprocessing and Feature Extraction Methods A-Z</b></font></div>\n",
    "<hr>\n",
    "<div align='center'><font size=\"4\" color=\"#000000\">The Beginning to Intermediate Guide</font></div>\n",
    "<hr>"
   ]
  },
  {
   "cell_type": "markdown",
   "execution_count": null,
   "metadata": {
    "papermill": {
     "duration": 0.0245,
     "end_time": "2020-08-26T20:59:06.122101",
     "exception": false,
     "start_time": "2020-08-26T20:59:06.097601",
     "status": "completed"
    },
    "tags": []
   },
   "source": [
    "<a id=\"Introduction\"></a>\n",
    "# Introduction\n",
    "\n",
    "This notebook's motivation is to create a ready-to-made all-in-one-place of NLP preprocessing and feature extraction techniques and codes. Furthermore, as we would not use all of those techniques simultaneously as it would depend on different specific NLP problems, each task was design as a separate module with its quick and straightforward explanation, then the implementation that we could pick out, plug-and-play independently and conveniently. We will mainly use the [Real or Not? NLP with Disaster Tweets](https://www.kaggle.com/c/nlp-getting-started) dataset for illustration and other dataset such as [Jigsaw Multilingual Toxic Comment Classification](https://www.kaggle.com/c/jigsaw-multilingual-toxic-comment-classification), and [Toxic Comment Classification Challenge](https://www.kaggle.com/c/jigsaw-toxic-comment-classification-challenge) for some specific tasks too.\n",
    "\n",
    "The NLP pipeline could be represent and below image and this notebook only focus on three stages: Text Cleaning, Pre-Processing and Feature Engineering/ Extraction.\n",
    "\n",
    "<img src=\"https://miro.medium.com/max/1750/1*rJQVqDjbhI3k22lHqa4dFw.png\" align=\"center\"/>\n",
    "\n",
    "image source: [Natural Language Processing Pipeline](https://towardsdatascience.com/natural-language-processing-pipeline-93df02ecd03f)\n",
    "\n",
    "The paper [Text Classification Algorithms: A Survey](https://arxiv.org/abs/1904.08067) has been inspired me a lot for this notebook and most of the definition of each tasks also could be found from the paper. "
   ]
  },
  {
   "cell_type": "markdown",
   "execution_count": null,
   "metadata": {
    "papermill": {
     "duration": 0.024932,
     "end_time": "2020-08-26T20:59:06.172080",
     "exception": false,
     "start_time": "2020-08-26T20:59:06.147148",
     "status": "completed"
    },
    "tags": []
   },
   "source": [
    "# Table of Contents\n",
    "* [Introduction](#Introduction)\n",
    "* [Read and explore data](#Read_and_explore_data)\n",
    "    - [Importing Main Packages](#Importing_Main_Packages)\n",
    "    - [Read the Data](#Read_the_Data)\n",
    "* [Text Cleaning](#Text_Cleaning)\n",
    "    - [Capitalization/ Lower case](#Capitalization)\n",
    "    - [Expand the Contractions](#Expand_the_Contractions)\n",
    "    - [Noise Removal](#Noise_Removal)\n",
    "        - [Remove URLs](#Remove_urls)\n",
    "        - [Remove HTML tags](#Remove_HTML_tags)\n",
    "        - [Remove Non-ASCII](#Remove_Non_ASCII)\n",
    "        - [Remove special characters](#Remove_special_characters)\n",
    "    - [Remove punctuations](#Remove_punctuations)\n",
    "    - [Other Manual Text Cleaning Tasks](#Other_Manual_Text_Cleaning_Tasks)\n",
    "        - [Replace the Typos, slang, acronyms or informal abbreviations](#Replace_Typos)\n",
    "        - [Spelling correction](#Spelling_correction)    \n",
    "* [Text Preprocessing](#Text_Preprocessing)\n",
    "    - [Tokenization](#Tokenization)\n",
    "    - [Remove Stop Words (or/and Frequent words/ Rare words)](#Remove_Stop_Words)\n",
    "    - [Stemming](#Stemming)\n",
    "        - [PorterStemmer](#PorterStemmer)\n",
    "        - [SnowballStemmer](#SnowballStemmer)\n",
    "        - [LancasterStemmer](#LancasterStemmer)\n",
    "    - [Part of Speech Tagging (POS Tagging)](#POS_Tagging)    \n",
    "    - [Lemmatization](#Lemmatization)\n",
    "        - [Lemmatization without POS Tagging](#Lemmatization_wo_pos)\n",
    "        - [Lemmatization with POS tagging](#Lemmatization_w_pos)\n",
    "    - [Other (Optional) Text Preprocessing Techniques:](#Other_Text_Preprocessing)\n",
    "        - [Language Detection](#Language_Detection)\n",
    "* [Text Features Extraction](#Text_Features_Extraction)\n",
    "    - [Weighted Words - Bag of Words (BoW)](#BoW)\n",
    "        - [Frequency Vectors - CountVectorizer](#CountVectorizer)\n",
    "        - [Term Frequency-Inverse Document Frequency](#TF_IDF)\n",
    "    - [Word Embedding](#Word_Embedding)\n",
    "        - [Basic Word Embedding Methods](#Basic_Word_Embedding)\n",
    "            - [Word2Vec](#Word2Vec)\n",
    "            - [Global Vectors for Word Representation](#GloVe)\n",
    "            - [FastText](#FastText)\n",
    "        - [Advanced Word Embedding Methods - Deep Contextualized Word Representations](#Advanced_methods)\n",
    "            - [Bidirectional Encoder Representations from Transformers (BERT)](#BERT)\n",
    "    - [Comparison of Feature Extraction Techniques](#Comparison)\n",
    "* [References](#References)\n",
    "    - [Paper](#Paper)\n",
    "    - [Books](#Books)\n",
    "    - [Blogs/ Notebooks](#Blogs_Notebooks)"
   ]
  },
  {
   "cell_type": "markdown",
   "execution_count": null,
   "metadata": {
    "papermill": {
     "duration": 0.024347,
     "end_time": "2020-08-26T20:59:06.221201",
     "exception": false,
     "start_time": "2020-08-26T20:59:06.196854",
     "status": "completed"
    },
    "tags": []
   },
   "source": [
    "<a id=\"Read_and_explore_data\"></a>\n",
    "\n",
    "# Read and explore data\n",
    "\n",
    "<a id=\"Importing_Main_Packages\"></a>\n",
    "## Importing Main Packages\n",
    "\n",
    "[Back To Table of Contents](#top_section)"
   ]
  },
  {
   "cell_type": "code",
   "execution_count": 1,
   "metadata": {
    "execution": {
     "iopub.execute_input": "2020-08-26T20:59:06.289122Z",
     "iopub.status.busy": "2020-08-26T20:59:06.288192Z",
     "iopub.status.idle": "2020-08-26T20:59:08.802804Z",
     "shell.execute_reply": "2020-08-26T20:59:08.802075Z"
    },
    "papermill": {
     "duration": 2.557066,
     "end_time": "2020-08-26T20:59:08.802938",
     "exception": false,
     "start_time": "2020-08-26T20:59:06.245872",
     "status": "completed"
    },
    "scrolled": true,
    "tags": []
   },
   "outputs": [
    {
     "name": "stdout",
     "output_type": "stream",
     "text": [
      "CPU times: user 3 µs, sys: 1 µs, total: 4 µs\n",
      "Wall time: 6.91 µs\n",
      "Python version: 3.7.6 | packaged by conda-forge | (default, Mar 23 2020, 23:03:20) \n",
      "[GCC 7.3.0]\n",
      "Version info.: sys.version_info(major=3, minor=7, micro=6, releaselevel='final', serial=0)\n",
      "pandas version: 1.1.0\n",
      "numpy version: 1.18.5\n",
      "skearn version: 0.23.2\n",
      "re version: 2.2.1\n",
      "nltk version: 3.2.4\n",
      "/kaggle/input/jigsaw-toxic-comment-classification-challenge/test_labels.csv.zip\n",
      "/kaggle/input/jigsaw-toxic-comment-classification-challenge/train.csv.zip\n",
      "/kaggle/input/jigsaw-toxic-comment-classification-challenge/test.csv.zip\n",
      "/kaggle/input/jigsaw-toxic-comment-classification-challenge/sample_submission.csv.zip\n",
      "/kaggle/input/fasttext-wikinews/wiki-news-300d-1M.vec\n",
      "/kaggle/input/glove6b/glove.6B.50d.txt\n",
      "/kaggle/input/glove6b/glove.6B.200d.txt\n",
      "/kaggle/input/glove6b/glove.6B.100d.txt\n",
      "/kaggle/input/glove6b/glove.6B.300d.txt\n",
      "/kaggle/input/nlp-getting-started/train.csv\n",
      "/kaggle/input/nlp-getting-started/test.csv\n",
      "/kaggle/input/nlp-getting-started/sample_submission.csv\n",
      "/kaggle/input/tweet-sentiment-extraction/train.csv\n",
      "/kaggle/input/tweet-sentiment-extraction/test.csv\n",
      "/kaggle/input/tweet-sentiment-extraction/sample_submission.csv\n",
      "/kaggle/input/googlenewsvectorsnegative300/GoogleNews-vectors-negative300.bin\n",
      "/kaggle/input/googlenewsvectorsnegative300/GoogleNews-vectors-negative300.bin.gz\n",
      "/kaggle/input/jigsaw-multilingual-toxic-comment-classification/jigsaw-unintended-bias-train.csv\n",
      "/kaggle/input/jigsaw-multilingual-toxic-comment-classification/validation-processed-seqlen128.csv\n",
      "/kaggle/input/jigsaw-multilingual-toxic-comment-classification/jigsaw-toxic-comment-train-processed-seqlen128.csv\n",
      "/kaggle/input/jigsaw-multilingual-toxic-comment-classification/validation.csv\n",
      "/kaggle/input/jigsaw-multilingual-toxic-comment-classification/test-processed-seqlen128.csv\n",
      "/kaggle/input/jigsaw-multilingual-toxic-comment-classification/jigsaw-toxic-comment-train.csv\n",
      "/kaggle/input/jigsaw-multilingual-toxic-comment-classification/test.csv\n",
      "/kaggle/input/jigsaw-multilingual-toxic-comment-classification/sample_submission.csv\n",
      "/kaggle/input/jigsaw-multilingual-toxic-comment-classification/jigsaw-unintended-bias-train-processed-seqlen128.csv\n"
     ]
    }
   ],
   "source": [
    "%time\n",
    "import os\n",
    "import sys\n",
    "import warnings\n",
    "if not sys.warnoptions:\n",
    "    warnings.simplefilter(\"ignore\")\n",
    "    \n",
    "import numpy as np\n",
    "import pandas as pd\n",
    "import sklearn\n",
    "\n",
    "# Libraries and packages for text (pre-)processing \n",
    "import string\n",
    "import re\n",
    "import nltk\n",
    "\n",
    "print(\"Python version:\", sys.version)\n",
    "print(\"Version info.:\", sys.version_info)\n",
    "print(\"pandas version:\", pd.__version__)\n",
    "print(\"numpy version:\", np.__version__)\n",
    "print(\"skearn version:\", sklearn.__version__)\n",
    "print(\"re version:\", re.__version__)\n",
    "print(\"nltk version:\", nltk.__version__)\n",
    "\n",
    "for dirname, _, filenames in os.walk('/kaggle/input'):\n",
    "    for filename in filenames:\n",
    "        print(os.path.join(dirname, filename))"
   ]
  },
  {
   "cell_type": "markdown",
   "execution_count": null,
   "metadata": {
    "papermill": {
     "duration": 0.02595,
     "end_time": "2020-08-26T20:59:08.856139",
     "exception": false,
     "start_time": "2020-08-26T20:59:08.830189",
     "status": "completed"
    },
    "tags": []
   },
   "source": [
    "<a id=\"Read_the_Data\"></a>\n",
    "## Read the Data"
   ]
  },
  {
   "cell_type": "code",
   "execution_count": 2,
   "metadata": {
    "execution": {
     "iopub.execute_input": "2020-08-26T20:59:08.927014Z",
     "iopub.status.busy": "2020-08-26T20:59:08.926218Z",
     "iopub.status.idle": "2020-08-26T20:59:09.022472Z",
     "shell.execute_reply": "2020-08-26T20:59:09.021511Z"
    },
    "papermill": {
     "duration": 0.140845,
     "end_time": "2020-08-26T20:59:09.022636",
     "exception": false,
     "start_time": "2020-08-26T20:59:08.881791",
     "status": "completed"
    },
    "tags": []
   },
   "outputs": [
    {
     "name": "stdout",
     "output_type": "stream",
     "text": [
      "CPU times: user 3 µs, sys: 1e+03 ns, total: 4 µs\n",
      "Wall time: 6.91 µs\n"
     ]
    },
    {
     "data": {
      "text/plain": [
       "(7613, 5)"
      ]
     },
     "metadata": {},
     "output_type": "display_data"
    },
    {
     "data": {
      "text/html": [
       "<div>\n",
       "<style scoped>\n",
       "    .dataframe tbody tr th:only-of-type {\n",
       "        vertical-align: middle;\n",
       "    }\n",
       "\n",
       "    .dataframe tbody tr th {\n",
       "        vertical-align: top;\n",
       "    }\n",
       "\n",
       "    .dataframe thead th {\n",
       "        text-align: right;\n",
       "    }\n",
       "</style>\n",
       "<table border=\"1\" class=\"dataframe\">\n",
       "  <thead>\n",
       "    <tr style=\"text-align: right;\">\n",
       "      <th></th>\n",
       "      <th>id</th>\n",
       "      <th>keyword</th>\n",
       "      <th>location</th>\n",
       "      <th>text</th>\n",
       "      <th>target</th>\n",
       "    </tr>\n",
       "  </thead>\n",
       "  <tbody>\n",
       "    <tr>\n",
       "      <th>0</th>\n",
       "      <td>1</td>\n",
       "      <td>NaN</td>\n",
       "      <td>NaN</td>\n",
       "      <td>Our Deeds are the Reason of this #earthquake M...</td>\n",
       "      <td>1</td>\n",
       "    </tr>\n",
       "    <tr>\n",
       "      <th>1</th>\n",
       "      <td>4</td>\n",
       "      <td>NaN</td>\n",
       "      <td>NaN</td>\n",
       "      <td>Forest fire near La Ronge Sask. Canada</td>\n",
       "      <td>1</td>\n",
       "    </tr>\n",
       "    <tr>\n",
       "      <th>2</th>\n",
       "      <td>5</td>\n",
       "      <td>NaN</td>\n",
       "      <td>NaN</td>\n",
       "      <td>All residents asked to 'shelter in place' are ...</td>\n",
       "      <td>1</td>\n",
       "    </tr>\n",
       "    <tr>\n",
       "      <th>3</th>\n",
       "      <td>6</td>\n",
       "      <td>NaN</td>\n",
       "      <td>NaN</td>\n",
       "      <td>13,000 people receive #wildfires evacuation or...</td>\n",
       "      <td>1</td>\n",
       "    </tr>\n",
       "    <tr>\n",
       "      <th>4</th>\n",
       "      <td>7</td>\n",
       "      <td>NaN</td>\n",
       "      <td>NaN</td>\n",
       "      <td>Just got sent this photo from Ruby #Alaska as ...</td>\n",
       "      <td>1</td>\n",
       "    </tr>\n",
       "  </tbody>\n",
       "</table>\n",
       "</div>"
      ],
      "text/plain": [
       "   id keyword location                                               text  \\\n",
       "0   1     NaN      NaN  Our Deeds are the Reason of this #earthquake M...   \n",
       "1   4     NaN      NaN             Forest fire near La Ronge Sask. Canada   \n",
       "2   5     NaN      NaN  All residents asked to 'shelter in place' are ...   \n",
       "3   6     NaN      NaN  13,000 people receive #wildfires evacuation or...   \n",
       "4   7     NaN      NaN  Just got sent this photo from Ruby #Alaska as ...   \n",
       "\n",
       "   target  \n",
       "0       1  \n",
       "1       1  \n",
       "2       1  \n",
       "3       1  \n",
       "4       1  "
      ]
     },
     "metadata": {},
     "output_type": "display_data"
    }
   ],
   "source": [
    "%time\n",
    "\n",
    "# read the csv file\n",
    "train_df = pd.read_csv(\"/kaggle/input/nlp-getting-started/train.csv\")\n",
    "display(train_df.shape, train_df.head())"
   ]
  },
  {
   "cell_type": "code",
   "execution_count": 3,
   "metadata": {
    "execution": {
     "iopub.execute_input": "2020-08-26T20:59:09.090933Z",
     "iopub.status.busy": "2020-08-26T20:59:09.090124Z",
     "iopub.status.idle": "2020-08-26T20:59:09.141147Z",
     "shell.execute_reply": "2020-08-26T20:59:09.140354Z"
    },
    "papermill": {
     "duration": 0.088601,
     "end_time": "2020-08-26T20:59:09.141296",
     "exception": false,
     "start_time": "2020-08-26T20:59:09.052695",
     "status": "completed"
    },
    "scrolled": true,
    "tags": []
   },
   "outputs": [
    {
     "data": {
      "text/html": [
       "<div>\n",
       "<style scoped>\n",
       "    .dataframe tbody tr th:only-of-type {\n",
       "        vertical-align: middle;\n",
       "    }\n",
       "\n",
       "    .dataframe tbody tr th {\n",
       "        vertical-align: top;\n",
       "    }\n",
       "\n",
       "    .dataframe thead th {\n",
       "        text-align: right;\n",
       "    }\n",
       "</style>\n",
       "<table border=\"1\" class=\"dataframe\">\n",
       "  <thead>\n",
       "    <tr style=\"text-align: right;\">\n",
       "      <th></th>\n",
       "      <th>id</th>\n",
       "      <th>keyword</th>\n",
       "      <th>location</th>\n",
       "      <th>text</th>\n",
       "      <th>target</th>\n",
       "    </tr>\n",
       "  </thead>\n",
       "  <tbody>\n",
       "    <tr>\n",
       "      <th>31</th>\n",
       "      <td>48</td>\n",
       "      <td>ablaze</td>\n",
       "      <td>Birmingham</td>\n",
       "      <td>@bbcmtd Wholesale Markets ablaze http://t.co/l...</td>\n",
       "      <td>1</td>\n",
       "    </tr>\n",
       "    <tr>\n",
       "      <th>32</th>\n",
       "      <td>49</td>\n",
       "      <td>ablaze</td>\n",
       "      <td>Est. September 2012 - Bristol</td>\n",
       "      <td>We always try to bring the heavy. #metal #RT h...</td>\n",
       "      <td>0</td>\n",
       "    </tr>\n",
       "    <tr>\n",
       "      <th>33</th>\n",
       "      <td>50</td>\n",
       "      <td>ablaze</td>\n",
       "      <td>AFRICA</td>\n",
       "      <td>#AFRICANBAZE: Breaking news:Nigeria flag set a...</td>\n",
       "      <td>1</td>\n",
       "    </tr>\n",
       "    <tr>\n",
       "      <th>34</th>\n",
       "      <td>52</td>\n",
       "      <td>ablaze</td>\n",
       "      <td>Philadelphia, PA</td>\n",
       "      <td>Crying out for more! Set me ablaze</td>\n",
       "      <td>0</td>\n",
       "    </tr>\n",
       "    <tr>\n",
       "      <th>35</th>\n",
       "      <td>53</td>\n",
       "      <td>ablaze</td>\n",
       "      <td>London, UK</td>\n",
       "      <td>On plus side LOOK AT THE SKY LAST NIGHT IT WAS...</td>\n",
       "      <td>0</td>\n",
       "    </tr>\n",
       "  </tbody>\n",
       "</table>\n",
       "</div>"
      ],
      "text/plain": [
       "    id keyword                       location  \\\n",
       "31  48  ablaze                     Birmingham   \n",
       "32  49  ablaze  Est. September 2012 - Bristol   \n",
       "33  50  ablaze                         AFRICA   \n",
       "34  52  ablaze               Philadelphia, PA   \n",
       "35  53  ablaze                     London, UK   \n",
       "\n",
       "                                                 text  target  \n",
       "31  @bbcmtd Wholesale Markets ablaze http://t.co/l...       1  \n",
       "32  We always try to bring the heavy. #metal #RT h...       0  \n",
       "33  #AFRICANBAZE: Breaking news:Nigeria flag set a...       1  \n",
       "34                 Crying out for more! Set me ablaze       0  \n",
       "35  On plus side LOOK AT THE SKY LAST NIGHT IT WAS...       0  "
      ]
     },
     "metadata": {},
     "output_type": "display_data"
    },
    {
     "data": {
      "text/plain": [
       "'I love fruits'"
      ]
     },
     "metadata": {},
     "output_type": "display_data"
    },
    {
     "data": {
      "text/plain": [
       "'Forest fire near La Ronge Sask. Canada'"
      ]
     },
     "metadata": {},
     "output_type": "display_data"
    }
   ],
   "source": [
    "# some early explorations\n",
    "\n",
    "display(train_df[~train_df[\"location\"].isnull()].head())\n",
    "display(train_df[train_df[\"target\"] == 0][\"text\"].values[1])\n",
    "display(train_df[train_df[\"target\"] == 1][\"text\"].values[1])"
   ]
  },
  {
   "cell_type": "markdown",
   "execution_count": null,
   "metadata": {
    "papermill": {
     "duration": 0.026565,
     "end_time": "2020-08-26T20:59:09.195828",
     "exception": false,
     "start_time": "2020-08-26T20:59:09.169263",
     "status": "completed"
    },
    "tags": []
   },
   "source": [
    "<a id=\"Text_Cleaning\"></a>\n",
    "\n",
    "# Text Cleaning:\n",
    "\n",
    "<a id=\"Capitalization\"></a>\n",
    "## Capitalization/ Lower case\n",
    "The most common approach in text cleaning is capitalization or lower case due to the diversity of capitalization to form a sentence. This technique will project all words in text and document into the same feature space. However, it would also cause problems with exceptional cases such as the USA or UK, which could be solved by replacing typos, slang, acronyms or informal abbreviations technique.\n",
    "\n",
    "[Back To Table of Contents](#top_section)"
   ]
  },
  {
   "cell_type": "code",
   "execution_count": 4,
   "metadata": {
    "execution": {
     "iopub.execute_input": "2020-08-26T20:59:09.275497Z",
     "iopub.status.busy": "2020-08-26T20:59:09.274491Z",
     "iopub.status.idle": "2020-08-26T20:59:09.278913Z",
     "shell.execute_reply": "2020-08-26T20:59:09.279556Z"
    },
    "papermill": {
     "duration": 0.057135,
     "end_time": "2020-08-26T20:59:09.279754",
     "exception": false,
     "start_time": "2020-08-26T20:59:09.222619",
     "status": "completed"
    },
    "scrolled": true,
    "tags": []
   },
   "outputs": [
    {
     "data": {
      "text/html": [
       "<div>\n",
       "<style scoped>\n",
       "    .dataframe tbody tr th:only-of-type {\n",
       "        vertical-align: middle;\n",
       "    }\n",
       "\n",
       "    .dataframe tbody tr th {\n",
       "        vertical-align: top;\n",
       "    }\n",
       "\n",
       "    .dataframe thead th {\n",
       "        text-align: right;\n",
       "    }\n",
       "</style>\n",
       "<table border=\"1\" class=\"dataframe\">\n",
       "  <thead>\n",
       "    <tr style=\"text-align: right;\">\n",
       "      <th></th>\n",
       "      <th>id</th>\n",
       "      <th>keyword</th>\n",
       "      <th>location</th>\n",
       "      <th>text</th>\n",
       "      <th>target</th>\n",
       "      <th>text_clean</th>\n",
       "    </tr>\n",
       "  </thead>\n",
       "  <tbody>\n",
       "    <tr>\n",
       "      <th>0</th>\n",
       "      <td>1</td>\n",
       "      <td>NaN</td>\n",
       "      <td>NaN</td>\n",
       "      <td>Our Deeds are the Reason of this #earthquake M...</td>\n",
       "      <td>1</td>\n",
       "      <td>our deeds are the reason of this #earthquake m...</td>\n",
       "    </tr>\n",
       "    <tr>\n",
       "      <th>1</th>\n",
       "      <td>4</td>\n",
       "      <td>NaN</td>\n",
       "      <td>NaN</td>\n",
       "      <td>Forest fire near La Ronge Sask. Canada</td>\n",
       "      <td>1</td>\n",
       "      <td>forest fire near la ronge sask. canada</td>\n",
       "    </tr>\n",
       "    <tr>\n",
       "      <th>2</th>\n",
       "      <td>5</td>\n",
       "      <td>NaN</td>\n",
       "      <td>NaN</td>\n",
       "      <td>All residents asked to 'shelter in place' are ...</td>\n",
       "      <td>1</td>\n",
       "      <td>all residents asked to 'shelter in place' are ...</td>\n",
       "    </tr>\n",
       "    <tr>\n",
       "      <th>3</th>\n",
       "      <td>6</td>\n",
       "      <td>NaN</td>\n",
       "      <td>NaN</td>\n",
       "      <td>13,000 people receive #wildfires evacuation or...</td>\n",
       "      <td>1</td>\n",
       "      <td>13,000 people receive #wildfires evacuation or...</td>\n",
       "    </tr>\n",
       "    <tr>\n",
       "      <th>4</th>\n",
       "      <td>7</td>\n",
       "      <td>NaN</td>\n",
       "      <td>NaN</td>\n",
       "      <td>Just got sent this photo from Ruby #Alaska as ...</td>\n",
       "      <td>1</td>\n",
       "      <td>just got sent this photo from ruby #alaska as ...</td>\n",
       "    </tr>\n",
       "  </tbody>\n",
       "</table>\n",
       "</div>"
      ],
      "text/plain": [
       "   id keyword location                                               text  \\\n",
       "0   1     NaN      NaN  Our Deeds are the Reason of this #earthquake M...   \n",
       "1   4     NaN      NaN             Forest fire near La Ronge Sask. Canada   \n",
       "2   5     NaN      NaN  All residents asked to 'shelter in place' are ...   \n",
       "3   6     NaN      NaN  13,000 people receive #wildfires evacuation or...   \n",
       "4   7     NaN      NaN  Just got sent this photo from Ruby #Alaska as ...   \n",
       "\n",
       "   target                                         text_clean  \n",
       "0       1  our deeds are the reason of this #earthquake m...  \n",
       "1       1             forest fire near la ronge sask. canada  \n",
       "2       1  all residents asked to 'shelter in place' are ...  \n",
       "3       1  13,000 people receive #wildfires evacuation or...  \n",
       "4       1  just got sent this photo from ruby #alaska as ...  "
      ]
     },
     "metadata": {},
     "output_type": "display_data"
    }
   ],
   "source": [
    "train_df[\"text_clean\"] = train_df[\"text\"].apply(lambda x: x.lower())\n",
    "display(train_df.head())"
   ]
  },
  {
   "cell_type": "markdown",
   "execution_count": null,
   "metadata": {
    "papermill": {
     "duration": 0.02658,
     "end_time": "2020-08-26T20:59:09.333380",
     "exception": false,
     "start_time": "2020-08-26T20:59:09.306800",
     "status": "completed"
    },
    "tags": []
   },
   "source": [
    "<a id=\"Expand_the_Contractions\"></a>\n",
    "## Expand the Contractions\n",
    "We use the [contractions package](https://github.com/kootenpv/contractions) to expand the contraction in English such as we'll -> we will or we shouldn't've -> we should not have.\n",
    "\n",
    "[Back To Table of Contents](#top_section)"
   ]
  },
  {
   "cell_type": "code",
   "execution_count": 5,
   "metadata": {
    "execution": {
     "iopub.execute_input": "2020-08-26T20:59:09.394349Z",
     "iopub.status.busy": "2020-08-26T20:59:09.393305Z",
     "iopub.status.idle": "2020-08-26T20:59:20.812872Z",
     "shell.execute_reply": "2020-08-26T20:59:20.812234Z"
    },
    "papermill": {
     "duration": 11.452844,
     "end_time": "2020-08-26T20:59:20.813018",
     "exception": false,
     "start_time": "2020-08-26T20:59:09.360174",
     "status": "completed"
    },
    "scrolled": true,
    "tags": []
   },
   "outputs": [
    {
     "name": "stdout",
     "output_type": "stream",
     "text": [
      "Collecting contractions\r\n",
      "  Downloading contractions-0.0.25-py2.py3-none-any.whl (3.2 kB)\r\n",
      "Collecting textsearch\r\n",
      "  Downloading textsearch-0.0.17-py2.py3-none-any.whl (7.5 kB)\r\n",
      "Requirement already satisfied: Unidecode in /opt/conda/lib/python3.7/site-packages (from textsearch->contractions) (1.1.1)\r\n",
      "Requirement already satisfied: pyahocorasick in /opt/conda/lib/python3.7/site-packages (from textsearch->contractions) (1.4.0)\r\n",
      "Installing collected packages: textsearch, contractions\r\n",
      "Successfully installed contractions-0.0.25 textsearch-0.0.17\r\n",
      "\u001b[33mWARNING: You are using pip version 20.2.1; however, version 20.2.2 is available.\r\n",
      "You should consider upgrading via the '/opt/conda/bin/python3.7 -m pip install --upgrade pip' command.\u001b[0m\r\n"
     ]
    }
   ],
   "source": [
    "# Intall the contractions package - https://github.com/kootenpv/contractions\n",
    "!pip install contractions"
   ]
  },
  {
   "cell_type": "code",
   "execution_count": 6,
   "metadata": {
    "execution": {
     "iopub.execute_input": "2020-08-26T20:59:20.881166Z",
     "iopub.status.busy": "2020-08-26T20:59:20.880391Z",
     "iopub.status.idle": "2020-08-26T20:59:21.016950Z",
     "shell.execute_reply": "2020-08-26T20:59:21.016289Z"
    },
    "papermill": {
     "duration": 0.176973,
     "end_time": "2020-08-26T20:59:21.017078",
     "exception": false,
     "start_time": "2020-08-26T20:59:20.840105",
     "status": "completed"
    },
    "scrolled": true,
    "tags": []
   },
   "outputs": [
    {
     "name": "stdout",
     "output_type": "stream",
     "text": [
      "CPU times: user 3 µs, sys: 1e+03 ns, total: 4 µs\n",
      "Wall time: 7.39 µs\n",
      "Test:  \n",
      "            you all can not expand contractions I would think. I would like to know how I would done that! \n",
      "            we are going to the zoo and I do not think I will be home for dinner.\n",
      "            they are going to the zoo and she will be home for dinner.\n",
      "            We should have do it in here but we should not have eat it\n",
      "            \n",
      "'I can't have kids cuz I got in a bicycle accident &amp; split my testicles. it's impossible for me to have kids' MICHAEL YOU ARE THE FATHER\n",
      "'i can not have kids cuz i got in a bicycle accident &amp; split my testicles. it is impossible for me to have kids' michael you are the father\n",
      "#raining #flooding #Florida #TampaBay #Tampa 18 or 19 days. I've lost count \n",
      "#raining #flooding #florida #tampabay #tampa 18 or 19 days. I have lost count \n"
     ]
    }
   ],
   "source": [
    "%time\n",
    "import contractions\n",
    "\n",
    "# Test\n",
    "test_text = \"\"\"\n",
    "            Y'all can't expand contractions I'd think. I'd like to know how I'd done that! \n",
    "            We're going to the zoo and I don't think I'll be home for dinner.\n",
    "            Theyre going to the zoo and she'll be home for dinner.\n",
    "            We should've do it in here but we shouldn't've eat it\n",
    "            \"\"\"\n",
    "print(\"Test: \", contractions.fix(test_text))\n",
    "\n",
    "train_df[\"text_clean\"] = train_df[\"text_clean\"].apply(lambda x: contractions.fix(x))\n",
    "\n",
    "# double check\n",
    "print(train_df[\"text\"][67])\n",
    "print(train_df[\"text_clean\"][67])\n",
    "print(train_df[\"text\"][12])\n",
    "print(train_df[\"text_clean\"][12])"
   ]
  },
  {
   "cell_type": "markdown",
   "execution_count": null,
   "metadata": {
    "papermill": {
     "duration": 0.026638,
     "end_time": "2020-08-26T20:59:21.070764",
     "exception": false,
     "start_time": "2020-08-26T20:59:21.044126",
     "status": "completed"
    },
    "tags": []
   },
   "source": [
    "<a id=\"Noise_Removal\"></a>\n",
    "\n",
    "## Noise Removal \n",
    "Text data could include various unnecessary characters or punctuation such as URLs, HTML tags, non-ASCII characters, or other special characters (symbols, emojis, and other graphic characters). \n",
    "\n",
    "<a id=\"Remove_urls\"></a>\n",
    "### Remove URLs\n",
    "[Back To Table of Contents](#top_section)"
   ]
  },
  {
   "cell_type": "code",
   "execution_count": 7,
   "metadata": {
    "execution": {
     "iopub.execute_input": "2020-08-26T20:59:21.132334Z",
     "iopub.status.busy": "2020-08-26T20:59:21.131270Z",
     "iopub.status.idle": "2020-08-26T20:59:21.134995Z",
     "shell.execute_reply": "2020-08-26T20:59:21.134330Z"
    },
    "papermill": {
     "duration": 0.037228,
     "end_time": "2020-08-26T20:59:21.135116",
     "exception": false,
     "start_time": "2020-08-26T20:59:21.097888",
     "status": "completed"
    },
    "scrolled": true,
    "tags": []
   },
   "outputs": [],
   "source": [
    "def remove_URL(text):\n",
    "    \"\"\"\n",
    "        Remove URLs from a sample string\n",
    "    \"\"\"\n",
    "    return re.sub(r\"https?://\\S+|www\\.\\S+\", \"\", text)"
   ]
  },
  {
   "cell_type": "code",
   "execution_count": 8,
   "metadata": {
    "execution": {
     "iopub.execute_input": "2020-08-26T20:59:21.218656Z",
     "iopub.status.busy": "2020-08-26T20:59:21.203116Z",
     "iopub.status.idle": "2020-08-26T20:59:21.245760Z",
     "shell.execute_reply": "2020-08-26T20:59:21.246348Z"
    },
    "papermill": {
     "duration": 0.083724,
     "end_time": "2020-08-26T20:59:21.246550",
     "exception": false,
     "start_time": "2020-08-26T20:59:21.162826",
     "status": "completed"
    },
    "scrolled": true,
    "tags": []
   },
   "outputs": [
    {
     "name": "stdout",
     "output_type": "stream",
     "text": [
      "@bbcmtd Wholesale Markets ablaze http://t.co/lHYXEOHY6C\n",
      "@bbcmtd wholesale markets ablaze \n",
      "INEC Office in Abia Set Ablaze - http://t.co/3ImaomknnA\n",
      "inec office in abia set ablaze - \n",
      "Rene Ablaze &amp; Jacinta - Secret 2k13 (Fallen Skies Edit) - Mar 30 2013  https://t.co/7MLMsUzV1Z\n",
      "rene ablaze &amp; jacinta - secret 2k13 (fallen skies edit) - mar 30 2013  \n"
     ]
    }
   ],
   "source": [
    "# remove urls from the text\n",
    "train_df[\"text_clean\"] = train_df[\"text_clean\"].apply(lambda x: remove_URL(x))\n",
    "\n",
    "# double check\n",
    "print(train_df[\"text\"][31])\n",
    "print(train_df[\"text_clean\"][31])\n",
    "print(train_df[\"text\"][37])\n",
    "print(train_df[\"text_clean\"][37])\n",
    "print(train_df[\"text\"][62])\n",
    "print(train_df[\"text_clean\"][62])"
   ]
  },
  {
   "cell_type": "markdown",
   "execution_count": null,
   "metadata": {
    "papermill": {
     "duration": 0.026797,
     "end_time": "2020-08-26T20:59:21.300542",
     "exception": false,
     "start_time": "2020-08-26T20:59:21.273745",
     "status": "completed"
    },
    "tags": []
   },
   "source": [
    "<a id=\"Remove_HTML_tags\"></a>\n",
    "\n",
    "### Remove HTML tags\n",
    "[Back To Table of Contents](#top_section)"
   ]
  },
  {
   "cell_type": "code",
   "execution_count": 9,
   "metadata": {
    "execution": {
     "iopub.execute_input": "2020-08-26T20:59:21.361323Z",
     "iopub.status.busy": "2020-08-26T20:59:21.360273Z",
     "iopub.status.idle": "2020-08-26T20:59:21.363627Z",
     "shell.execute_reply": "2020-08-26T20:59:21.362882Z"
    },
    "papermill": {
     "duration": 0.036117,
     "end_time": "2020-08-26T20:59:21.363750",
     "exception": false,
     "start_time": "2020-08-26T20:59:21.327633",
     "status": "completed"
    },
    "scrolled": true,
    "tags": []
   },
   "outputs": [],
   "source": [
    "def remove_html(text):\n",
    "    \"\"\"\n",
    "        Remove the html in sample text\n",
    "    \"\"\"\n",
    "    html = re.compile(r\"<.*?>|&([a-z0-9]+|#[0-9]{1,6}|#x[0-9a-f]{1,6});\")\n",
    "    return re.sub(html, \"\", text)"
   ]
  },
  {
   "cell_type": "code",
   "execution_count": 10,
   "metadata": {
    "execution": {
     "iopub.execute_input": "2020-08-26T20:59:21.451321Z",
     "iopub.status.busy": "2020-08-26T20:59:21.446250Z",
     "iopub.status.idle": "2020-08-26T20:59:21.482235Z",
     "shell.execute_reply": "2020-08-26T20:59:21.482996Z"
    },
    "papermill": {
     "duration": 0.091888,
     "end_time": "2020-08-26T20:59:21.483233",
     "exception": false,
     "start_time": "2020-08-26T20:59:21.391345",
     "status": "completed"
    },
    "scrolled": true,
    "tags": []
   },
   "outputs": [
    {
     "name": "stdout",
     "output_type": "stream",
     "text": [
      "Rene Ablaze &amp; Jacinta - Secret 2k13 (Fallen Skies Edit) - Mar 30 2013  https://t.co/7MLMsUzV1Z\n",
      "rene ablaze  jacinta - secret 2k13 (fallen skies edit) - mar 30 2013  \n",
      "NW Michigan #WindStorm (Sheer) Recovery Updates: Leelanau &amp; Grand Traverse - State of Emergency 2b extended http://t.co/OSKfyj8CK7 #BeSafe\n",
      "nw michigan #windstorm (sheer) recovery updates: leelanau  grand traverse - state of emergency 2b extended  #besafe\n"
     ]
    }
   ],
   "source": [
    "# remove html from the text\n",
    "train_df[\"text_clean\"] = train_df[\"text_clean\"].apply(lambda x: remove_html(x))\n",
    "\n",
    "# double check\n",
    "print(train_df[\"text\"][62])\n",
    "print(train_df[\"text_clean\"][62])\n",
    "print(train_df[\"text\"][7385])\n",
    "print(train_df[\"text_clean\"][7385])"
   ]
  },
  {
   "cell_type": "markdown",
   "execution_count": null,
   "metadata": {
    "papermill": {
     "duration": 0.026932,
     "end_time": "2020-08-26T20:59:21.538212",
     "exception": false,
     "start_time": "2020-08-26T20:59:21.511280",
     "status": "completed"
    },
    "tags": []
   },
   "source": [
    "<a id=\"Remove_Non_ASCII\"></a>\n",
    "\n",
    "### Remove Non-ASCI:\n",
    "[Back To Table of Contents](#top_section)"
   ]
  },
  {
   "cell_type": "code",
   "execution_count": 11,
   "metadata": {
    "execution": {
     "iopub.execute_input": "2020-08-26T20:59:21.599433Z",
     "iopub.status.busy": "2020-08-26T20:59:21.598384Z",
     "iopub.status.idle": "2020-08-26T20:59:21.601701Z",
     "shell.execute_reply": "2020-08-26T20:59:21.601019Z"
    },
    "papermill": {
     "duration": 0.036156,
     "end_time": "2020-08-26T20:59:21.601832",
     "exception": false,
     "start_time": "2020-08-26T20:59:21.565676",
     "status": "completed"
    },
    "scrolled": true,
    "tags": []
   },
   "outputs": [],
   "source": [
    "def remove_non_ascii(text):\n",
    "    \"\"\"\n",
    "        Remove non-ASCII characters \n",
    "    \"\"\"\n",
    "    return re.sub(r'[^\\x00-\\x7f]',r'', text) # or ''.join([x for x in text if x in string.printable]) "
   ]
  },
  {
   "cell_type": "code",
   "execution_count": 12,
   "metadata": {
    "execution": {
     "iopub.execute_input": "2020-08-26T20:59:21.685029Z",
     "iopub.status.busy": "2020-08-26T20:59:21.679885Z",
     "iopub.status.idle": "2020-08-26T20:59:21.698384Z",
     "shell.execute_reply": "2020-08-26T20:59:21.699011Z"
    },
    "papermill": {
     "duration": 0.069283,
     "end_time": "2020-08-26T20:59:21.699171",
     "exception": false,
     "start_time": "2020-08-26T20:59:21.629888",
     "status": "completed"
    },
    "scrolled": true,
    "tags": []
   },
   "outputs": [
    {
     "name": "stdout",
     "output_type": "stream",
     "text": [
      "Barbados #Bridgetown JAMAICA ÛÒ Two cars set ablaze: SANTA CRUZ ÛÓ Head of the St Elizabeth Police Superintende...  http://t.co/wDUEaj8Q4J\n",
      "barbados #bridgetown jamaica  two cars set ablaze: santa cruz  head of the st elizabeth police superintende...  \n",
      "#Sismo DETECTADO #JapÌ_n 15:41:07 Seismic intensity 0 Iwate Miyagi JST #?? http://t.co/gMoUl9zQ2Q\n",
      "#sismo detectado #jap_n 15:41:07 seismic intensity 0 iwate miyagi jst #?? \n"
     ]
    }
   ],
   "source": [
    "# remove non-ascii characters from the text\n",
    "train_df[\"text_clean\"] = train_df[\"text_clean\"].apply(lambda x: remove_non_ascii(x))\n",
    "\n",
    "# double check\n",
    "print(train_df[\"text\"][38])\n",
    "print(train_df[\"text_clean\"][38])\n",
    "print(train_df[\"text\"][7586])\n",
    "print(train_df[\"text_clean\"][7586])"
   ]
  },
  {
   "cell_type": "markdown",
   "execution_count": null,
   "metadata": {
    "papermill": {
     "duration": 0.027395,
     "end_time": "2020-08-26T20:59:21.754458",
     "exception": false,
     "start_time": "2020-08-26T20:59:21.727063",
     "status": "completed"
    },
    "tags": []
   },
   "source": [
    "<a id=\"Remove_special_characters\"></a>\n",
    "\n",
    "### Remove special characters: \n",
    "The special characters could be symbols, emojis, and other graphic characters.\n",
    "We use the \"Toxic Comment Classification Challenge\" dataset as the \"Real or Not? NLP with Disaster Tweets\" dataset do not have any special charaters in their text.\n",
    "\n",
    "[Back To Table of Contents](#top_section)"
   ]
  },
  {
   "cell_type": "code",
   "execution_count": 13,
   "metadata": {
    "execution": {
     "iopub.execute_input": "2020-08-26T20:59:21.815747Z",
     "iopub.status.busy": "2020-08-26T20:59:21.814965Z",
     "iopub.status.idle": "2020-08-26T20:59:23.296308Z",
     "shell.execute_reply": "2020-08-26T20:59:23.295493Z"
    },
    "papermill": {
     "duration": 1.514475,
     "end_time": "2020-08-26T20:59:23.296494",
     "exception": false,
     "start_time": "2020-08-26T20:59:21.782019",
     "status": "completed"
    },
    "scrolled": true,
    "tags": []
   },
   "outputs": [
    {
     "name": "stdout",
     "output_type": "stream",
     "text": [
      "(159571, 8)\n"
     ]
    },
    {
     "data": {
      "text/html": [
       "<div>\n",
       "<style scoped>\n",
       "    .dataframe tbody tr th:only-of-type {\n",
       "        vertical-align: middle;\n",
       "    }\n",
       "\n",
       "    .dataframe tbody tr th {\n",
       "        vertical-align: top;\n",
       "    }\n",
       "\n",
       "    .dataframe thead th {\n",
       "        text-align: right;\n",
       "    }\n",
       "</style>\n",
       "<table border=\"1\" class=\"dataframe\">\n",
       "  <thead>\n",
       "    <tr style=\"text-align: right;\">\n",
       "      <th></th>\n",
       "      <th>id</th>\n",
       "      <th>comment_text</th>\n",
       "      <th>toxic</th>\n",
       "      <th>severe_toxic</th>\n",
       "      <th>obscene</th>\n",
       "      <th>threat</th>\n",
       "      <th>insult</th>\n",
       "      <th>identity_hate</th>\n",
       "    </tr>\n",
       "  </thead>\n",
       "  <tbody>\n",
       "    <tr>\n",
       "      <th>0</th>\n",
       "      <td>0000997932d777bf</td>\n",
       "      <td>Explanation\\nWhy the edits made under my usern...</td>\n",
       "      <td>0</td>\n",
       "      <td>0</td>\n",
       "      <td>0</td>\n",
       "      <td>0</td>\n",
       "      <td>0</td>\n",
       "      <td>0</td>\n",
       "    </tr>\n",
       "    <tr>\n",
       "      <th>1</th>\n",
       "      <td>000103f0d9cfb60f</td>\n",
       "      <td>D'aww! He matches this background colour I'm s...</td>\n",
       "      <td>0</td>\n",
       "      <td>0</td>\n",
       "      <td>0</td>\n",
       "      <td>0</td>\n",
       "      <td>0</td>\n",
       "      <td>0</td>\n",
       "    </tr>\n",
       "    <tr>\n",
       "      <th>2</th>\n",
       "      <td>000113f07ec002fd</td>\n",
       "      <td>Hey man, I'm really not trying to edit war. It...</td>\n",
       "      <td>0</td>\n",
       "      <td>0</td>\n",
       "      <td>0</td>\n",
       "      <td>0</td>\n",
       "      <td>0</td>\n",
       "      <td>0</td>\n",
       "    </tr>\n",
       "    <tr>\n",
       "      <th>3</th>\n",
       "      <td>0001b41b1c6bb37e</td>\n",
       "      <td>\"\\nMore\\nI can't make any real suggestions on ...</td>\n",
       "      <td>0</td>\n",
       "      <td>0</td>\n",
       "      <td>0</td>\n",
       "      <td>0</td>\n",
       "      <td>0</td>\n",
       "      <td>0</td>\n",
       "    </tr>\n",
       "    <tr>\n",
       "      <th>4</th>\n",
       "      <td>0001d958c54c6e35</td>\n",
       "      <td>You, sir, are my hero. Any chance you remember...</td>\n",
       "      <td>0</td>\n",
       "      <td>0</td>\n",
       "      <td>0</td>\n",
       "      <td>0</td>\n",
       "      <td>0</td>\n",
       "      <td>0</td>\n",
       "    </tr>\n",
       "  </tbody>\n",
       "</table>\n",
       "</div>"
      ],
      "text/plain": [
       "                 id                                       comment_text  toxic  \\\n",
       "0  0000997932d777bf  Explanation\\nWhy the edits made under my usern...      0   \n",
       "1  000103f0d9cfb60f  D'aww! He matches this background colour I'm s...      0   \n",
       "2  000113f07ec002fd  Hey man, I'm really not trying to edit war. It...      0   \n",
       "3  0001b41b1c6bb37e  \"\\nMore\\nI can't make any real suggestions on ...      0   \n",
       "4  0001d958c54c6e35  You, sir, are my hero. Any chance you remember...      0   \n",
       "\n",
       "   severe_toxic  obscene  threat  insult  identity_hate  \n",
       "0             0        0       0       0              0  \n",
       "1             0        0       0       0              0  \n",
       "2             0        0       0       0              0  \n",
       "3             0        0       0       0              0  \n",
       "4             0        0       0       0              0  "
      ]
     },
     "execution_count": 13,
     "metadata": {},
     "output_type": "execute_result"
    }
   ],
   "source": [
    "train_df_jtcc = pd.read_csv(\"/kaggle/input/jigsaw-toxic-comment-classification-challenge/train.csv.zip\")\n",
    "print(train_df_jtcc.shape)\n",
    "train_df_jtcc.head()"
   ]
  },
  {
   "cell_type": "code",
   "execution_count": 14,
   "metadata": {
    "execution": {
     "iopub.execute_input": "2020-08-26T20:59:23.360999Z",
     "iopub.status.busy": "2020-08-26T20:59:23.359781Z",
     "iopub.status.idle": "2020-08-26T20:59:23.363344Z",
     "shell.execute_reply": "2020-08-26T20:59:23.362616Z"
    },
    "papermill": {
     "duration": 0.038707,
     "end_time": "2020-08-26T20:59:23.363493",
     "exception": false,
     "start_time": "2020-08-26T20:59:23.324786",
     "status": "completed"
    },
    "scrolled": true,
    "tags": []
   },
   "outputs": [],
   "source": [
    "def remove_special_characters(text):\n",
    "    \"\"\"\n",
    "        Remove special special characters, including symbols, emojis, and other graphic characters\n",
    "    \"\"\"\n",
    "    emoji_pattern = re.compile(\n",
    "        '['\n",
    "        u'\\U0001F600-\\U0001F64F'  # emoticons\n",
    "        u'\\U0001F300-\\U0001F5FF'  # symbols & pictographs\n",
    "        u'\\U0001F680-\\U0001F6FF'  # transport & map symbols\n",
    "        u'\\U0001F1E0-\\U0001F1FF'  # flags (iOS)\n",
    "        u'\\U00002702-\\U000027B0'\n",
    "        u'\\U000024C2-\\U0001F251'\n",
    "        ']+',\n",
    "        flags=re.UNICODE)\n",
    "    return emoji_pattern.sub(r'', text)"
   ]
  },
  {
   "cell_type": "code",
   "execution_count": 15,
   "metadata": {
    "execution": {
     "iopub.execute_input": "2020-08-26T20:59:23.432480Z",
     "iopub.status.busy": "2020-08-26T20:59:23.431182Z",
     "iopub.status.idle": "2020-08-26T20:59:28.299779Z",
     "shell.execute_reply": "2020-08-26T20:59:28.298942Z"
    },
    "papermill": {
     "duration": 4.908173,
     "end_time": "2020-08-26T20:59:28.299951",
     "exception": false,
     "start_time": "2020-08-26T20:59:23.391778",
     "status": "completed"
    },
    "tags": []
   },
   "outputs": [
    {
     "name": "stdout",
     "output_type": "stream",
     "text": [
      "CPU times: user 3 µs, sys: 1 µs, total: 4 µs\n",
      "Wall time: 7.15 µs\n"
     ]
    },
    {
     "data": {
      "text/html": [
       "<div>\n",
       "<style scoped>\n",
       "    .dataframe tbody tr th:only-of-type {\n",
       "        vertical-align: middle;\n",
       "    }\n",
       "\n",
       "    .dataframe tbody tr th {\n",
       "        vertical-align: top;\n",
       "    }\n",
       "\n",
       "    .dataframe thead th {\n",
       "        text-align: right;\n",
       "    }\n",
       "</style>\n",
       "<table border=\"1\" class=\"dataframe\">\n",
       "  <thead>\n",
       "    <tr style=\"text-align: right;\">\n",
       "      <th></th>\n",
       "      <th>id</th>\n",
       "      <th>comment_text</th>\n",
       "      <th>toxic</th>\n",
       "      <th>severe_toxic</th>\n",
       "      <th>obscene</th>\n",
       "      <th>threat</th>\n",
       "      <th>insult</th>\n",
       "      <th>identity_hate</th>\n",
       "      <th>text_clean</th>\n",
       "    </tr>\n",
       "  </thead>\n",
       "  <tbody>\n",
       "    <tr>\n",
       "      <th>0</th>\n",
       "      <td>0000997932d777bf</td>\n",
       "      <td>Explanation\\nWhy the edits made under my usern...</td>\n",
       "      <td>0</td>\n",
       "      <td>0</td>\n",
       "      <td>0</td>\n",
       "      <td>0</td>\n",
       "      <td>0</td>\n",
       "      <td>0</td>\n",
       "      <td>Explanation\\nWhy the edits made under my usern...</td>\n",
       "    </tr>\n",
       "    <tr>\n",
       "      <th>1</th>\n",
       "      <td>000103f0d9cfb60f</td>\n",
       "      <td>D'aww! He matches this background colour I'm s...</td>\n",
       "      <td>0</td>\n",
       "      <td>0</td>\n",
       "      <td>0</td>\n",
       "      <td>0</td>\n",
       "      <td>0</td>\n",
       "      <td>0</td>\n",
       "      <td>D'aww! He matches this background colour I'm s...</td>\n",
       "    </tr>\n",
       "    <tr>\n",
       "      <th>2</th>\n",
       "      <td>000113f07ec002fd</td>\n",
       "      <td>Hey man, I'm really not trying to edit war. It...</td>\n",
       "      <td>0</td>\n",
       "      <td>0</td>\n",
       "      <td>0</td>\n",
       "      <td>0</td>\n",
       "      <td>0</td>\n",
       "      <td>0</td>\n",
       "      <td>Hey man, I'm really not trying to edit war. It...</td>\n",
       "    </tr>\n",
       "    <tr>\n",
       "      <th>3</th>\n",
       "      <td>0001b41b1c6bb37e</td>\n",
       "      <td>\"\\nMore\\nI can't make any real suggestions on ...</td>\n",
       "      <td>0</td>\n",
       "      <td>0</td>\n",
       "      <td>0</td>\n",
       "      <td>0</td>\n",
       "      <td>0</td>\n",
       "      <td>0</td>\n",
       "      <td>\"\\nMore\\nI can't make any real suggestions on ...</td>\n",
       "    </tr>\n",
       "    <tr>\n",
       "      <th>4</th>\n",
       "      <td>0001d958c54c6e35</td>\n",
       "      <td>You, sir, are my hero. Any chance you remember...</td>\n",
       "      <td>0</td>\n",
       "      <td>0</td>\n",
       "      <td>0</td>\n",
       "      <td>0</td>\n",
       "      <td>0</td>\n",
       "      <td>0</td>\n",
       "      <td>You, sir, are my hero. Any chance you remember...</td>\n",
       "    </tr>\n",
       "  </tbody>\n",
       "</table>\n",
       "</div>"
      ],
      "text/plain": [
       "                 id                                       comment_text  toxic  \\\n",
       "0  0000997932d777bf  Explanation\\nWhy the edits made under my usern...      0   \n",
       "1  000103f0d9cfb60f  D'aww! He matches this background colour I'm s...      0   \n",
       "2  000113f07ec002fd  Hey man, I'm really not trying to edit war. It...      0   \n",
       "3  0001b41b1c6bb37e  \"\\nMore\\nI can't make any real suggestions on ...      0   \n",
       "4  0001d958c54c6e35  You, sir, are my hero. Any chance you remember...      0   \n",
       "\n",
       "   severe_toxic  obscene  threat  insult  identity_hate  \\\n",
       "0             0        0       0       0              0   \n",
       "1             0        0       0       0              0   \n",
       "2             0        0       0       0              0   \n",
       "3             0        0       0       0              0   \n",
       "4             0        0       0       0              0   \n",
       "\n",
       "                                          text_clean  \n",
       "0  Explanation\\nWhy the edits made under my usern...  \n",
       "1  D'aww! He matches this background colour I'm s...  \n",
       "2  Hey man, I'm really not trying to edit war. It...  \n",
       "3  \"\\nMore\\nI can't make any real suggestions on ...  \n",
       "4  You, sir, are my hero. Any chance you remember...  "
      ]
     },
     "metadata": {},
     "output_type": "display_data"
    },
    {
     "name": "stdout",
     "output_type": "stream",
     "text": [
      "\"P.S. It's not polite to talk to people behind their backs, please remove your comments from Mrph's talk page.\n",
      "\n",
      "Vaughan\n",
      "You're right; I went to check your previous edit and found a page on the Marvel site that spelled it \"\"Vaughn\"\", but now I am finding many more that spell it correctly. Thanks for the edits.   (☎☓) \n",
      "\n",
      "\"\n",
      "\"P.S. It's not polite to talk to people behind their backs, please remove your comments from Mrph's talk page.\n",
      "\n",
      "Vaughan\n",
      "You're right; I went to check your previous edit and found a page on the Marvel site that spelled it \"\"Vaughn\"\", but now I am finding many more that spell it correctly. Thanks for the edits.   () \n",
      "\n",
      "\"\n",
      "\"\n",
      "\n",
      "Sorry to interrupt but I'm at 1200 edits now... the first 200 were likely just on my own pages and because I was asking for help so much so maybe just 1000... or maybe less... but it still kind of counts. ♥♥Amulet♥♥ \"\n",
      "\"\n",
      "\n",
      "Sorry to interrupt but I'm at 1200 edits now... the first 200 were likely just on my own pages and because I was asking for help so much so maybe just 1000... or maybe less... but it still kind of counts. Amulet \"\n"
     ]
    }
   ],
   "source": [
    "%time\n",
    "# remove non-ascii characters from the text\n",
    "train_df_jtcc[\"text_clean\"] = train_df_jtcc[\"comment_text\"].apply(lambda x: remove_special_characters(x))\n",
    "display(train_df_jtcc.head())\n",
    "\n",
    "# double check\n",
    "print(train_df_jtcc[\"comment_text\"][143])\n",
    "print(train_df_jtcc[\"text_clean\"][143])\n",
    "print(train_df_jtcc[\"comment_text\"][189])\n",
    "print(train_df_jtcc[\"text_clean\"][189])"
   ]
  },
  {
   "cell_type": "code",
   "execution_count": 16,
   "metadata": {
    "execution": {
     "iopub.execute_input": "2020-08-26T20:59:28.365925Z",
     "iopub.status.busy": "2020-08-26T20:59:28.364835Z",
     "iopub.status.idle": "2020-08-26T20:59:28.367873Z",
     "shell.execute_reply": "2020-08-26T20:59:28.367125Z"
    },
    "papermill": {
     "duration": 0.038813,
     "end_time": "2020-08-26T20:59:28.367996",
     "exception": false,
     "start_time": "2020-08-26T20:59:28.329183",
     "status": "completed"
    },
    "tags": []
   },
   "outputs": [],
   "source": [
    "# Saving disk space\n",
    "del train_df_jtcc"
   ]
  },
  {
   "cell_type": "markdown",
   "execution_count": null,
   "metadata": {
    "papermill": {
     "duration": 0.028683,
     "end_time": "2020-08-26T20:59:28.425735",
     "exception": false,
     "start_time": "2020-08-26T20:59:28.397052",
     "status": "completed"
    },
    "tags": []
   },
   "source": [
    "<a id=\"Remove_punctuations\"></a>\n",
    "\n",
    "## Remove punctuations:\n",
    "[Back To Table of Contents](#top_section)"
   ]
  },
  {
   "cell_type": "code",
   "execution_count": 17,
   "metadata": {
    "execution": {
     "iopub.execute_input": "2020-08-26T20:59:28.490134Z",
     "iopub.status.busy": "2020-08-26T20:59:28.489283Z",
     "iopub.status.idle": "2020-08-26T20:59:28.492915Z",
     "shell.execute_reply": "2020-08-26T20:59:28.492164Z"
    },
    "papermill": {
     "duration": 0.038435,
     "end_time": "2020-08-26T20:59:28.493040",
     "exception": false,
     "start_time": "2020-08-26T20:59:28.454605",
     "status": "completed"
    },
    "scrolled": true,
    "tags": []
   },
   "outputs": [],
   "source": [
    "def remove_punct(text):\n",
    "    \"\"\"\n",
    "        Remove the punctuation\n",
    "    \"\"\"\n",
    "#     return re.sub(r'[]!\"$%&\\'()*+,./:;=#@?[\\\\^_`{|}~-]+', \"\", text)\n",
    "    return text.translate(str.maketrans('', '', string.punctuation))"
   ]
  },
  {
   "cell_type": "code",
   "execution_count": 18,
   "metadata": {
    "execution": {
     "iopub.execute_input": "2020-08-26T20:59:28.584146Z",
     "iopub.status.busy": "2020-08-26T20:59:28.563395Z",
     "iopub.status.idle": "2020-08-26T20:59:28.608911Z",
     "shell.execute_reply": "2020-08-26T20:59:28.608274Z"
    },
    "papermill": {
     "duration": 0.086809,
     "end_time": "2020-08-26T20:59:28.609046",
     "exception": false,
     "start_time": "2020-08-26T20:59:28.522237",
     "status": "completed"
    },
    "scrolled": true,
    "tags": []
   },
   "outputs": [
    {
     "name": "stdout",
     "output_type": "stream",
     "text": [
      "#RockyFire Update => California Hwy. 20 closed in both directions due to Lake County fire - #CAfire #wildfires\n",
      "rockyfire update  california hwy 20 closed in both directions due to lake county fire  cafire wildfires\n",
      "#??? #?? #??? #??? MH370: Aircraft debris found on La Reunion is from missing Malaysia Airlines ... http://t.co/5B7qT2YxdA\n",
      "    mh370 aircraft debris found on la reunion is from missing malaysia airlines  \n"
     ]
    }
   ],
   "source": [
    "# remove punctuations from the text\n",
    "train_df[\"text_clean\"] = train_df[\"text_clean\"].apply(lambda x: remove_punct(x))\n",
    "\n",
    "# double check\n",
    "print(train_df[\"text\"][5])\n",
    "print(train_df[\"text_clean\"][5])\n",
    "print(train_df[\"text\"][7597])\n",
    "print(train_df[\"text_clean\"][7597])"
   ]
  },
  {
   "cell_type": "markdown",
   "execution_count": null,
   "metadata": {
    "papermill": {
     "duration": 0.028583,
     "end_time": "2020-08-26T20:59:28.666653",
     "exception": false,
     "start_time": "2020-08-26T20:59:28.638070",
     "status": "completed"
    },
    "tags": []
   },
   "source": [
    "<a id=\"Other_Manual_Text_Cleaning_Tasks\"></a>\n",
    "\n",
    "## Other Manual Text Cleaning Tasks: \n",
    "\n",
    "Other techniques could be considered and manually processed case by case: \n",
    "    - Replace the Unicode character with equivalent ASCII character (instead of removing)\n",
    "    - Replace the entity references with their actual symbols  instead of removing as HTML tags\n",
    "    - Replace the Typos, slang, acronyms or informal abbreviations - depend on different situations or main topics of the NLP such as finance or medical topics.\n",
    "    - List out all the hashtags/ usernames then replace with equivalent words\n",
    "    - Replace the emoticon/ emoji with equivalant word meaning such as \":)\" with \"smile\" \n",
    "    - Spelling correction\n",
    "\n",
    "<a id=\"Replace_Typos\"></a>\n",
    "### Replace the Typos, slang, acronyms or informal abbreviations: \n",
    "[Back To Table of Contents](#top_section)"
   ]
  },
  {
   "cell_type": "code",
   "execution_count": 19,
   "metadata": {
    "execution": {
     "iopub.execute_input": "2020-08-26T20:59:28.758566Z",
     "iopub.status.busy": "2020-08-26T20:59:28.752967Z",
     "iopub.status.idle": "2020-08-26T20:59:28.791447Z",
     "shell.execute_reply": "2020-08-26T20:59:28.790657Z"
    },
    "papermill": {
     "duration": 0.095233,
     "end_time": "2020-08-26T20:59:28.791582",
     "exception": false,
     "start_time": "2020-08-26T20:59:28.696349",
     "status": "completed"
    },
    "scrolled": true,
    "tags": []
   },
   "outputs": [],
   "source": [
    "def other_clean(text):\n",
    "        \"\"\"\n",
    "            Other manual text cleaning techniques\n",
    "        \"\"\"\n",
    "        # Typos, slang and other\n",
    "        sample_typos_slang = {\n",
    "                                \"w/e\": \"whatever\",\n",
    "                                \"usagov\": \"usa government\",\n",
    "                                \"recentlu\": \"recently\",\n",
    "                                \"ph0tos\": \"photos\",\n",
    "                                \"amirite\": \"am i right\",\n",
    "                                \"exp0sed\": \"exposed\",\n",
    "                                \"<3\": \"love\",\n",
    "                                \"luv\": \"love\",\n",
    "                                \"amageddon\": \"armageddon\",\n",
    "                                \"trfc\": \"traffic\",\n",
    "                                \"16yr\": \"16 year\"\n",
    "                                }\n",
    "\n",
    "        # Acronyms\n",
    "        sample_acronyms =  { \n",
    "                            \"mh370\": \"malaysia airlines flight 370\",\n",
    "                            \"okwx\": \"oklahoma city weather\",\n",
    "                            \"arwx\": \"arkansas weather\",    \n",
    "                            \"gawx\": \"georgia weather\",  \n",
    "                            \"scwx\": \"south carolina weather\",  \n",
    "                            \"cawx\": \"california weather\",\n",
    "                            \"tnwx\": \"tennessee weather\",\n",
    "                            \"azwx\": \"arizona weather\",  \n",
    "                            \"alwx\": \"alabama weather\",\n",
    "                            \"usnwsgov\": \"united states national weather service\",\n",
    "                            \"2mw\": \"tomorrow\"\n",
    "                            }\n",
    "\n",
    "        \n",
    "        # Some common abbreviations \n",
    "        sample_abbr = {\n",
    "                        \"$\" : \" dollar \",\n",
    "                        \"€\" : \" euro \",\n",
    "                        \"4ao\" : \"for adults only\",\n",
    "                        \"a.m\" : \"before midday\",\n",
    "                        \"a3\" : \"anytime anywhere anyplace\",\n",
    "                        \"aamof\" : \"as a matter of fact\",\n",
    "                        \"acct\" : \"account\",\n",
    "                        \"adih\" : \"another day in hell\",\n",
    "                        \"afaic\" : \"as far as i am concerned\",\n",
    "                        \"afaict\" : \"as far as i can tell\",\n",
    "                        \"afaik\" : \"as far as i know\",\n",
    "                        \"afair\" : \"as far as i remember\",\n",
    "                        \"afk\" : \"away from keyboard\",\n",
    "                        \"app\" : \"application\",\n",
    "                        \"approx\" : \"approximately\",\n",
    "                        \"apps\" : \"applications\",\n",
    "                        \"asap\" : \"as soon as possible\",\n",
    "                        \"asl\" : \"age, sex, location\",\n",
    "                        \"atk\" : \"at the keyboard\",\n",
    "                        \"ave.\" : \"avenue\",\n",
    "                        \"aymm\" : \"are you my mother\",\n",
    "                        \"ayor\" : \"at your own risk\", \n",
    "                        \"b&b\" : \"bed and breakfast\",\n",
    "                        \"b+b\" : \"bed and breakfast\",\n",
    "                        \"b.c\" : \"before christ\",\n",
    "                        \"b2b\" : \"business to business\",\n",
    "                        \"b2c\" : \"business to customer\",\n",
    "                        \"b4\" : \"before\",\n",
    "                        \"b4n\" : \"bye for now\",\n",
    "                        \"b@u\" : \"back at you\",\n",
    "                        \"bae\" : \"before anyone else\",\n",
    "                        \"bak\" : \"back at keyboard\",\n",
    "                        \"bbbg\" : \"bye bye be good\",\n",
    "                        \"bbc\" : \"british broadcasting corporation\",\n",
    "                        \"bbias\" : \"be back in a second\",\n",
    "                        \"bbl\" : \"be back later\",\n",
    "                        \"bbs\" : \"be back soon\",\n",
    "                        \"be4\" : \"before\",\n",
    "                        \"bfn\" : \"bye for now\",\n",
    "                        \"blvd\" : \"boulevard\",\n",
    "                        \"bout\" : \"about\",\n",
    "                        \"brb\" : \"be right back\",\n",
    "                        \"bros\" : \"brothers\",\n",
    "                        \"brt\" : \"be right there\",\n",
    "                        \"bsaaw\" : \"big smile and a wink\",\n",
    "                        \"btw\" : \"by the way\",\n",
    "                        \"bwl\" : \"bursting with laughter\",\n",
    "                        \"c/o\" : \"care of\",\n",
    "                        \"cet\" : \"central european time\",\n",
    "                        \"cf\" : \"compare\",\n",
    "                        \"cia\" : \"central intelligence agency\",\n",
    "                        \"csl\" : \"can not stop laughing\",\n",
    "                        \"cu\" : \"see you\",\n",
    "                        \"cul8r\" : \"see you later\",\n",
    "                        \"cv\" : \"curriculum vitae\",\n",
    "                        \"cwot\" : \"complete waste of time\",\n",
    "                        \"cya\" : \"see you\",\n",
    "                        \"cyt\" : \"see you tomorrow\",\n",
    "                        \"dae\" : \"does anyone else\",\n",
    "                        \"dbmib\" : \"do not bother me i am busy\",\n",
    "                        \"diy\" : \"do it yourself\",\n",
    "                        \"dm\" : \"direct message\",\n",
    "                        \"dwh\" : \"during work hours\",\n",
    "                        \"e123\" : \"easy as one two three\",\n",
    "                        \"eet\" : \"eastern european time\",\n",
    "                        \"eg\" : \"example\",\n",
    "                        \"embm\" : \"early morning business meeting\",\n",
    "                        \"encl\" : \"enclosed\",\n",
    "                        \"encl.\" : \"enclosed\",\n",
    "                        \"etc\" : \"and so on\",\n",
    "                        \"faq\" : \"frequently asked questions\",\n",
    "                        \"fawc\" : \"for anyone who cares\",\n",
    "                        \"fb\" : \"facebook\",\n",
    "                        \"fc\" : \"fingers crossed\",\n",
    "                        \"fig\" : \"figure\",\n",
    "                        \"fimh\" : \"forever in my heart\", \n",
    "                        \"ft.\" : \"feet\",\n",
    "                        \"ft\" : \"featuring\",\n",
    "                        \"ftl\" : \"for the loss\",\n",
    "                        \"ftw\" : \"for the win\",\n",
    "                        \"fwiw\" : \"for what it is worth\",\n",
    "                        \"fyi\" : \"for your information\",\n",
    "                        \"g9\" : \"genius\",\n",
    "                        \"gahoy\" : \"get a hold of yourself\",\n",
    "                        \"gal\" : \"get a life\",\n",
    "                        \"gcse\" : \"general certificate of secondary education\",\n",
    "                        \"gfn\" : \"gone for now\",\n",
    "                        \"gg\" : \"good game\",\n",
    "                        \"gl\" : \"good luck\",\n",
    "                        \"glhf\" : \"good luck have fun\",\n",
    "                        \"gmt\" : \"greenwich mean time\",\n",
    "                        \"gmta\" : \"great minds think alike\",\n",
    "                        \"gn\" : \"good night\",\n",
    "                        \"g.o.a.t\" : \"greatest of all time\",\n",
    "                        \"goat\" : \"greatest of all time\",\n",
    "                        \"goi\" : \"get over it\",\n",
    "                        \"gps\" : \"global positioning system\",\n",
    "                        \"gr8\" : \"great\",\n",
    "                        \"gratz\" : \"congratulations\",\n",
    "                        \"gyal\" : \"girl\",\n",
    "                        \"h&c\" : \"hot and cold\",\n",
    "                        \"hp\" : \"horsepower\",\n",
    "                        \"hr\" : \"hour\",\n",
    "                        \"hrh\" : \"his royal highness\",\n",
    "                        \"ht\" : \"height\",\n",
    "                        \"ibrb\" : \"i will be right back\",\n",
    "                        \"ic\" : \"i see\",\n",
    "                        \"icq\" : \"i seek you\",\n",
    "                        \"icymi\" : \"in case you missed it\",\n",
    "                        \"idc\" : \"i do not care\",\n",
    "                        \"idgadf\" : \"i do not give a damn fuck\",\n",
    "                        \"idgaf\" : \"i do not give a fuck\",\n",
    "                        \"idk\" : \"i do not know\",\n",
    "                        \"ie\" : \"that is\",\n",
    "                        \"i.e\" : \"that is\",\n",
    "                        \"ifyp\" : \"i feel your pain\",\n",
    "                        \"IG\" : \"instagram\",\n",
    "                        \"iirc\" : \"if i remember correctly\",\n",
    "                        \"ilu\" : \"i love you\",\n",
    "                        \"ily\" : \"i love you\",\n",
    "                        \"imho\" : \"in my humble opinion\",\n",
    "                        \"imo\" : \"in my opinion\",\n",
    "                        \"imu\" : \"i miss you\",\n",
    "                        \"iow\" : \"in other words\",\n",
    "                        \"irl\" : \"in real life\",\n",
    "                        \"j4f\" : \"just for fun\",\n",
    "                        \"jic\" : \"just in case\",\n",
    "                        \"jk\" : \"just kidding\",\n",
    "                        \"jsyk\" : \"just so you know\",\n",
    "                        \"l8r\" : \"later\",\n",
    "                        \"lb\" : \"pound\",\n",
    "                        \"lbs\" : \"pounds\",\n",
    "                        \"ldr\" : \"long distance relationship\",\n",
    "                        \"lmao\" : \"laugh my ass off\",\n",
    "                        \"lmfao\" : \"laugh my fucking ass off\",\n",
    "                        \"lol\" : \"laughing out loud\",\n",
    "                        \"ltd\" : \"limited\",\n",
    "                        \"ltns\" : \"long time no see\",\n",
    "                        \"m8\" : \"mate\",\n",
    "                        \"mf\" : \"motherfucker\",\n",
    "                        \"mfs\" : \"motherfuckers\",\n",
    "                        \"mfw\" : \"my face when\",\n",
    "                        \"mofo\" : \"motherfucker\",\n",
    "                        \"mph\" : \"miles per hour\",\n",
    "                        \"mr\" : \"mister\",\n",
    "                        \"mrw\" : \"my reaction when\",\n",
    "                        \"ms\" : \"miss\",\n",
    "                        \"mte\" : \"my thoughts exactly\",\n",
    "                        \"nagi\" : \"not a good idea\",\n",
    "                        \"nbc\" : \"national broadcasting company\",\n",
    "                        \"nbd\" : \"not big deal\",\n",
    "                        \"nfs\" : \"not for sale\",\n",
    "                        \"ngl\" : \"not going to lie\",\n",
    "                        \"nhs\" : \"national health service\",\n",
    "                        \"nrn\" : \"no reply necessary\",\n",
    "                        \"nsfl\" : \"not safe for life\",\n",
    "                        \"nsfw\" : \"not safe for work\",\n",
    "                        \"nth\" : \"nice to have\",\n",
    "                        \"nvr\" : \"never\",\n",
    "                        \"nyc\" : \"new york city\",\n",
    "                        \"oc\" : \"original content\",\n",
    "                        \"og\" : \"original\",\n",
    "                        \"ohp\" : \"overhead projector\",\n",
    "                        \"oic\" : \"oh i see\",\n",
    "                        \"omdb\" : \"over my dead body\",\n",
    "                        \"omg\" : \"oh my god\",\n",
    "                        \"omw\" : \"on my way\",\n",
    "                        \"p.a\" : \"per annum\",\n",
    "                        \"p.m\" : \"after midday\",\n",
    "                        \"pm\" : \"prime minister\",\n",
    "                        \"poc\" : \"people of color\",\n",
    "                        \"pov\" : \"point of view\",\n",
    "                        \"pp\" : \"pages\",\n",
    "                        \"ppl\" : \"people\",\n",
    "                        \"prw\" : \"parents are watching\",\n",
    "                        \"ps\" : \"postscript\",\n",
    "                        \"pt\" : \"point\",\n",
    "                        \"ptb\" : \"please text back\",\n",
    "                        \"pto\" : \"please turn over\",\n",
    "                        \"qpsa\" : \"what happens\", #\"que pasa\",\n",
    "                        \"ratchet\" : \"rude\",\n",
    "                        \"rbtl\" : \"read between the lines\",\n",
    "                        \"rlrt\" : \"real life retweet\", \n",
    "                        \"rofl\" : \"rolling on the floor laughing\",\n",
    "                        \"roflol\" : \"rolling on the floor laughing out loud\",\n",
    "                        \"rotflmao\" : \"rolling on the floor laughing my ass off\",\n",
    "                        \"rt\" : \"retweet\",\n",
    "                        \"ruok\" : \"are you ok\",\n",
    "                        \"sfw\" : \"safe for work\",\n",
    "                        \"sk8\" : \"skate\",\n",
    "                        \"smh\" : \"shake my head\",\n",
    "                        \"sq\" : \"square\",\n",
    "                        \"srsly\" : \"seriously\", \n",
    "                        \"ssdd\" : \"same stuff different day\",\n",
    "                        \"tbh\" : \"to be honest\",\n",
    "                        \"tbs\" : \"tablespooful\",\n",
    "                        \"tbsp\" : \"tablespooful\",\n",
    "                        \"tfw\" : \"that feeling when\",\n",
    "                        \"thks\" : \"thank you\",\n",
    "                        \"tho\" : \"though\",\n",
    "                        \"thx\" : \"thank you\",\n",
    "                        \"tia\" : \"thanks in advance\",\n",
    "                        \"til\" : \"today i learned\",\n",
    "                        \"tl;dr\" : \"too long i did not read\",\n",
    "                        \"tldr\" : \"too long i did not read\",\n",
    "                        \"tmb\" : \"tweet me back\",\n",
    "                        \"tntl\" : \"trying not to laugh\",\n",
    "                        \"ttyl\" : \"talk to you later\",\n",
    "                        \"u\" : \"you\",\n",
    "                        \"u2\" : \"you too\",\n",
    "                        \"u4e\" : \"yours for ever\",\n",
    "                        \"utc\" : \"coordinated universal time\",\n",
    "                        \"w/\" : \"with\",\n",
    "                        \"w/o\" : \"without\",\n",
    "                        \"w8\" : \"wait\",\n",
    "                        \"wassup\" : \"what is up\",\n",
    "                        \"wb\" : \"welcome back\",\n",
    "                        \"wtf\" : \"what the fuck\",\n",
    "                        \"wtg\" : \"way to go\",\n",
    "                        \"wtpa\" : \"where the party at\",\n",
    "                        \"wuf\" : \"where are you from\",\n",
    "                        \"wuzup\" : \"what is up\",\n",
    "                        \"wywh\" : \"wish you were here\",\n",
    "                        \"yd\" : \"yard\",\n",
    "                        \"ygtr\" : \"you got that right\",\n",
    "                        \"ynk\" : \"you never know\",\n",
    "                        \"zzz\" : \"sleeping bored and tired\"\n",
    "                        }\n",
    "            \n",
    "        sample_typos_slang_pattern = re.compile(r'(?<!\\w)(' + '|'.join(re.escape(key) for key in sample_typos_slang.keys()) + r')(?!\\w)')\n",
    "        sample_acronyms_pattern = re.compile(r'(?<!\\w)(' + '|'.join(re.escape(key) for key in sample_acronyms.keys()) + r')(?!\\w)')\n",
    "        sample_abbr_pattern = re.compile(r'(?<!\\w)(' + '|'.join(re.escape(key) for key in sample_abbr.keys()) + r')(?!\\w)')\n",
    "        \n",
    "        text = sample_typos_slang_pattern.sub(lambda x: sample_typos_slang[x.group()], text)\n",
    "        text = sample_acronyms_pattern.sub(lambda x: sample_acronyms[x.group()], text)\n",
    "        text = sample_abbr_pattern.sub(lambda x: sample_abbr[x.group()], text)\n",
    "        \n",
    "        return text"
   ]
  },
  {
   "cell_type": "code",
   "execution_count": 20,
   "metadata": {
    "execution": {
     "iopub.execute_input": "2020-08-26T20:59:28.940907Z",
     "iopub.status.busy": "2020-08-26T20:59:28.935609Z",
     "iopub.status.idle": "2020-08-26T20:59:31.262624Z",
     "shell.execute_reply": "2020-08-26T20:59:31.261947Z"
    },
    "papermill": {
     "duration": 2.441884,
     "end_time": "2020-08-26T20:59:31.262758",
     "exception": false,
     "start_time": "2020-08-26T20:59:28.820874",
     "status": "completed"
    },
    "scrolled": true,
    "tags": []
   },
   "outputs": [
    {
     "name": "stdout",
     "output_type": "stream",
     "text": [
      "CPU times: user 3 µs, sys: 0 ns, total: 3 µs\n",
      "Wall time: 7.39 µs\n",
      "Test:  \n",
      "            be right back with some sample photos I lov you. I need some  dollar  for tomorrow.\n",
      "            \n",
      "MH370: Intact part lifts odds plane glided not crashed into sea http://t.co/8pdnHH6tzH\n",
      "malaysia airlines flight 370 intact part lifts odds plane glided not crashed into sea \n",
      "@USAgov Koreans are performing hijacking of the Tokyo Olympic Games.https://t.co/APkSnpLXZj\n",
      "usa government koreans are performing hijacking of the tokyo olympic games\n"
     ]
    }
   ],
   "source": [
    "%time\n",
    "\n",
    "# Test\n",
    "test_text = \"\"\"\n",
    "            brb with some sample ph0tos I lov u. I need some $ for 2mw.\n",
    "            \"\"\"\n",
    "print(\"Test: \", other_clean(test_text))\n",
    "\n",
    "# remove punctuations from the text\n",
    "train_df[\"text_clean\"] = train_df[\"text_clean\"].apply(lambda x: other_clean(x))\n",
    "\n",
    "# double check\n",
    "print(train_df[\"text\"][1844])\n",
    "print(train_df[\"text_clean\"][1844])\n",
    "print(train_df[\"text\"][4409])\n",
    "print(train_df[\"text_clean\"][4409])"
   ]
  },
  {
   "cell_type": "markdown",
   "execution_count": null,
   "metadata": {
    "papermill": {
     "duration": 0.028834,
     "end_time": "2020-08-26T20:59:31.320910",
     "exception": false,
     "start_time": "2020-08-26T20:59:31.292076",
     "status": "completed"
    },
    "tags": []
   },
   "source": [
    "<a id=\"Spelling_correction\"></a>\n",
    "\n",
    "### Spelling Correction\n",
    "Spelling correction could also be considered an optional preprocessing task as the social media text data is often are typos or mistyped. However, the spelling correction output should be carefully double-checked with the original text input as it could be a mistake.\n",
    "\n",
    "[Back To Table of Contents](#top_section)"
   ]
  },
  {
   "cell_type": "code",
   "execution_count": 21,
   "metadata": {
    "execution": {
     "iopub.execute_input": "2020-08-26T20:59:31.385066Z",
     "iopub.status.busy": "2020-08-26T20:59:31.384256Z",
     "iopub.status.idle": "2020-08-26T20:59:31.784477Z",
     "shell.execute_reply": "2020-08-26T20:59:31.783884Z"
    },
    "papermill": {
     "duration": 0.434558,
     "end_time": "2020-08-26T20:59:31.784605",
     "exception": false,
     "start_time": "2020-08-26T20:59:31.350047",
     "status": "completed"
    },
    "scrolled": true,
    "tags": []
   },
   "outputs": [
    {
     "name": "stdout",
     "output_type": "stream",
     "text": [
      "Test:  sleepy and there is no place I'm going to.\n"
     ]
    }
   ],
   "source": [
    "from textblob import TextBlob\n",
    "print(\"Test: \", TextBlob(\"sleapy and tehre is no plaxe I'm gioong to.\").correct())"
   ]
  },
  {
   "cell_type": "markdown",
   "execution_count": null,
   "metadata": {
    "papermill": {
     "duration": 0.029169,
     "end_time": "2020-08-26T20:59:31.843035",
     "exception": false,
     "start_time": "2020-08-26T20:59:31.813866",
     "status": "completed"
    },
    "tags": []
   },
   "source": [
    "<a id=\"Text_Preprocessing\"></a>\n",
    "\n",
    "# Text Preprocessing:\n",
    "\n",
    "<a id=\"Tokenization\"></a>\n",
    "## Tokenization\n",
    "Tokenization is a common technique that split a sentence into tokens, where a token could be characters, words, phrases, symbols, or other meaningful elements. By breaking sentences into smaller chunks, that would help to investigate the words in a sentence and also the subsequent steps in the NLP pipeline, such as stemming. \n",
    "\n",
    "[Back To Table of Contents](#top_section)"
   ]
  },
  {
   "cell_type": "code",
   "execution_count": 22,
   "metadata": {
    "execution": {
     "iopub.execute_input": "2020-08-26T20:59:31.908884Z",
     "iopub.status.busy": "2020-08-26T20:59:31.908113Z",
     "iopub.status.idle": "2020-08-26T20:59:33.781583Z",
     "shell.execute_reply": "2020-08-26T20:59:33.780761Z"
    },
    "papermill": {
     "duration": 1.909077,
     "end_time": "2020-08-26T20:59:33.781711",
     "exception": false,
     "start_time": "2020-08-26T20:59:31.872634",
     "status": "completed"
    },
    "scrolled": true,
    "tags": []
   },
   "outputs": [
    {
     "data": {
      "text/html": [
       "<div>\n",
       "<style scoped>\n",
       "    .dataframe tbody tr th:only-of-type {\n",
       "        vertical-align: middle;\n",
       "    }\n",
       "\n",
       "    .dataframe tbody tr th {\n",
       "        vertical-align: top;\n",
       "    }\n",
       "\n",
       "    .dataframe thead th {\n",
       "        text-align: right;\n",
       "    }\n",
       "</style>\n",
       "<table border=\"1\" class=\"dataframe\">\n",
       "  <thead>\n",
       "    <tr style=\"text-align: right;\">\n",
       "      <th></th>\n",
       "      <th>id</th>\n",
       "      <th>keyword</th>\n",
       "      <th>location</th>\n",
       "      <th>text</th>\n",
       "      <th>target</th>\n",
       "      <th>text_clean</th>\n",
       "      <th>tokenized</th>\n",
       "    </tr>\n",
       "  </thead>\n",
       "  <tbody>\n",
       "    <tr>\n",
       "      <th>0</th>\n",
       "      <td>1</td>\n",
       "      <td>NaN</td>\n",
       "      <td>NaN</td>\n",
       "      <td>Our Deeds are the Reason of this #earthquake M...</td>\n",
       "      <td>1</td>\n",
       "      <td>our deeds are the reason of this earthquake ma...</td>\n",
       "      <td>[our, deeds, are, the, reason, of, this, earth...</td>\n",
       "    </tr>\n",
       "    <tr>\n",
       "      <th>1</th>\n",
       "      <td>4</td>\n",
       "      <td>NaN</td>\n",
       "      <td>NaN</td>\n",
       "      <td>Forest fire near La Ronge Sask. Canada</td>\n",
       "      <td>1</td>\n",
       "      <td>forest fire near la ronge sask canada</td>\n",
       "      <td>[forest, fire, near, la, ronge, sask, canada]</td>\n",
       "    </tr>\n",
       "    <tr>\n",
       "      <th>2</th>\n",
       "      <td>5</td>\n",
       "      <td>NaN</td>\n",
       "      <td>NaN</td>\n",
       "      <td>All residents asked to 'shelter in place' are ...</td>\n",
       "      <td>1</td>\n",
       "      <td>all residents asked to shelter in place are be...</td>\n",
       "      <td>[all, residents, asked, to, shelter, in, place...</td>\n",
       "    </tr>\n",
       "    <tr>\n",
       "      <th>3</th>\n",
       "      <td>6</td>\n",
       "      <td>NaN</td>\n",
       "      <td>NaN</td>\n",
       "      <td>13,000 people receive #wildfires evacuation or...</td>\n",
       "      <td>1</td>\n",
       "      <td>13000 people receive wildfires evacuation orde...</td>\n",
       "      <td>[13000, people, receive, wildfires, evacuation...</td>\n",
       "    </tr>\n",
       "    <tr>\n",
       "      <th>4</th>\n",
       "      <td>7</td>\n",
       "      <td>NaN</td>\n",
       "      <td>NaN</td>\n",
       "      <td>Just got sent this photo from Ruby #Alaska as ...</td>\n",
       "      <td>1</td>\n",
       "      <td>just got sent this photo from ruby alaska as s...</td>\n",
       "      <td>[just, got, sent, this, photo, from, ruby, ala...</td>\n",
       "    </tr>\n",
       "  </tbody>\n",
       "</table>\n",
       "</div>"
      ],
      "text/plain": [
       "   id keyword location                                               text  \\\n",
       "0   1     NaN      NaN  Our Deeds are the Reason of this #earthquake M...   \n",
       "1   4     NaN      NaN             Forest fire near La Ronge Sask. Canada   \n",
       "2   5     NaN      NaN  All residents asked to 'shelter in place' are ...   \n",
       "3   6     NaN      NaN  13,000 people receive #wildfires evacuation or...   \n",
       "4   7     NaN      NaN  Just got sent this photo from Ruby #Alaska as ...   \n",
       "\n",
       "   target                                         text_clean  \\\n",
       "0       1  our deeds are the reason of this earthquake ma...   \n",
       "1       1              forest fire near la ronge sask canada   \n",
       "2       1  all residents asked to shelter in place are be...   \n",
       "3       1  13000 people receive wildfires evacuation orde...   \n",
       "4       1  just got sent this photo from ruby alaska as s...   \n",
       "\n",
       "                                           tokenized  \n",
       "0  [our, deeds, are, the, reason, of, this, earth...  \n",
       "1      [forest, fire, near, la, ronge, sask, canada]  \n",
       "2  [all, residents, asked, to, shelter, in, place...  \n",
       "3  [13000, people, receive, wildfires, evacuation...  \n",
       "4  [just, got, sent, this, photo, from, ruby, ala...  "
      ]
     },
     "execution_count": 22,
     "metadata": {},
     "output_type": "execute_result"
    }
   ],
   "source": [
    "# Tokenizing the tweet base texts.\n",
    "from nltk.tokenize import word_tokenize\n",
    "\n",
    "train_df['tokenized'] = train_df['text_clean'].apply(word_tokenize)\n",
    "train_df.head()"
   ]
  },
  {
   "cell_type": "markdown",
   "execution_count": null,
   "metadata": {
    "papermill": {
     "duration": 0.029715,
     "end_time": "2020-08-26T20:59:33.841282",
     "exception": false,
     "start_time": "2020-08-26T20:59:33.811567",
     "status": "completed"
    },
    "tags": []
   },
   "source": [
    "<a id=\"Remove_Stop_Words\"></a>\n",
    "\n",
    "## Remove Stop Words (or/and Frequent words/ Rare words):\n",
    "Stop words are common words in any language that occur with a high frequency but do not deliver meaningful information for the whole sentence. For example, {“a”, “about”, “above”, “across”, “after”, “afterward”, “again”, ...} can be considered as stop words. Traditionally, we could remove all of them in the text preprocessing stage. However, refer to the example from the [Natural Language Processing in Action](https://www.manning.com/books/natural-language-processing-in-action) book: \n",
    "> * Mark reported to the CEO\n",
    "> * Suzanne reported as the CEO to the board \n",
    "\n",
    "> In your NLP pipeline, you might create 4-grams such as reported to the CEO and reported as the CEO. If you remove the stop words from the 4-grams, both examples would be reduced to \"reported CEO\", and you would lack the information about the professional hierarchy. In the first example, Mark could have been an assistant to the CEO, whereas in the second example Suzanne was the CEO reporting to the board. Unfortunately, retaining the stop words within your pipeline creates another problem: it increases the length of the n-grams required to make use of these connections formed by the otherwise meaningless stop words. This issue forces us to retain at least 4-grams if you want to avoid the ambiguity of the human resources example.\n",
    "> Designing a filter for stop words depends on your particular application.\n",
    "\n",
    "In short, removing stop words is a common method in NLP text preprocessing, whereas, it needs to be experimented carefully depending on different situations. \n",
    "\n",
    "[Back To Table of Contents](#top_section)"
   ]
  },
  {
   "cell_type": "code",
   "execution_count": 23,
   "metadata": {
    "execution": {
     "iopub.execute_input": "2020-08-26T20:59:33.923706Z",
     "iopub.status.busy": "2020-08-26T20:59:33.908704Z",
     "iopub.status.idle": "2020-08-26T20:59:34.469036Z",
     "shell.execute_reply": "2020-08-26T20:59:34.468283Z"
    },
    "papermill": {
     "duration": 0.598333,
     "end_time": "2020-08-26T20:59:34.469158",
     "exception": false,
     "start_time": "2020-08-26T20:59:33.870825",
     "status": "completed"
    },
    "tags": []
   },
   "outputs": [
    {
     "name": "stdout",
     "output_type": "stream",
     "text": [
      "[nltk_data] Downloading package stopwords to /usr/share/nltk_data...\n",
      "[nltk_data]   Package stopwords is already up-to-date!\n"
     ]
    },
    {
     "data": {
      "text/html": [
       "<div>\n",
       "<style scoped>\n",
       "    .dataframe tbody tr th:only-of-type {\n",
       "        vertical-align: middle;\n",
       "    }\n",
       "\n",
       "    .dataframe tbody tr th {\n",
       "        vertical-align: top;\n",
       "    }\n",
       "\n",
       "    .dataframe thead th {\n",
       "        text-align: right;\n",
       "    }\n",
       "</style>\n",
       "<table border=\"1\" class=\"dataframe\">\n",
       "  <thead>\n",
       "    <tr style=\"text-align: right;\">\n",
       "      <th></th>\n",
       "      <th>id</th>\n",
       "      <th>keyword</th>\n",
       "      <th>location</th>\n",
       "      <th>text</th>\n",
       "      <th>target</th>\n",
       "      <th>text_clean</th>\n",
       "      <th>tokenized</th>\n",
       "      <th>stopwords_removed</th>\n",
       "    </tr>\n",
       "  </thead>\n",
       "  <tbody>\n",
       "    <tr>\n",
       "      <th>0</th>\n",
       "      <td>1</td>\n",
       "      <td>NaN</td>\n",
       "      <td>NaN</td>\n",
       "      <td>Our Deeds are the Reason of this #earthquake M...</td>\n",
       "      <td>1</td>\n",
       "      <td>our deeds are the reason of this earthquake ma...</td>\n",
       "      <td>[our, deeds, are, the, reason, of, this, earth...</td>\n",
       "      <td>[deeds, reason, earthquake, may, allah, forgiv...</td>\n",
       "    </tr>\n",
       "    <tr>\n",
       "      <th>1</th>\n",
       "      <td>4</td>\n",
       "      <td>NaN</td>\n",
       "      <td>NaN</td>\n",
       "      <td>Forest fire near La Ronge Sask. Canada</td>\n",
       "      <td>1</td>\n",
       "      <td>forest fire near la ronge sask canada</td>\n",
       "      <td>[forest, fire, near, la, ronge, sask, canada]</td>\n",
       "      <td>[forest, fire, near, la, ronge, sask, canada]</td>\n",
       "    </tr>\n",
       "    <tr>\n",
       "      <th>2</th>\n",
       "      <td>5</td>\n",
       "      <td>NaN</td>\n",
       "      <td>NaN</td>\n",
       "      <td>All residents asked to 'shelter in place' are ...</td>\n",
       "      <td>1</td>\n",
       "      <td>all residents asked to shelter in place are be...</td>\n",
       "      <td>[all, residents, asked, to, shelter, in, place...</td>\n",
       "      <td>[residents, asked, shelter, place, notified, o...</td>\n",
       "    </tr>\n",
       "    <tr>\n",
       "      <th>3</th>\n",
       "      <td>6</td>\n",
       "      <td>NaN</td>\n",
       "      <td>NaN</td>\n",
       "      <td>13,000 people receive #wildfires evacuation or...</td>\n",
       "      <td>1</td>\n",
       "      <td>13000 people receive wildfires evacuation orde...</td>\n",
       "      <td>[13000, people, receive, wildfires, evacuation...</td>\n",
       "      <td>[13000, people, receive, wildfires, evacuation...</td>\n",
       "    </tr>\n",
       "    <tr>\n",
       "      <th>4</th>\n",
       "      <td>7</td>\n",
       "      <td>NaN</td>\n",
       "      <td>NaN</td>\n",
       "      <td>Just got sent this photo from Ruby #Alaska as ...</td>\n",
       "      <td>1</td>\n",
       "      <td>just got sent this photo from ruby alaska as s...</td>\n",
       "      <td>[just, got, sent, this, photo, from, ruby, ala...</td>\n",
       "      <td>[got, sent, photo, ruby, alaska, smoke, wildfi...</td>\n",
       "    </tr>\n",
       "  </tbody>\n",
       "</table>\n",
       "</div>"
      ],
      "text/plain": [
       "   id keyword location                                               text  \\\n",
       "0   1     NaN      NaN  Our Deeds are the Reason of this #earthquake M...   \n",
       "1   4     NaN      NaN             Forest fire near La Ronge Sask. Canada   \n",
       "2   5     NaN      NaN  All residents asked to 'shelter in place' are ...   \n",
       "3   6     NaN      NaN  13,000 people receive #wildfires evacuation or...   \n",
       "4   7     NaN      NaN  Just got sent this photo from Ruby #Alaska as ...   \n",
       "\n",
       "   target                                         text_clean  \\\n",
       "0       1  our deeds are the reason of this earthquake ma...   \n",
       "1       1              forest fire near la ronge sask canada   \n",
       "2       1  all residents asked to shelter in place are be...   \n",
       "3       1  13000 people receive wildfires evacuation orde...   \n",
       "4       1  just got sent this photo from ruby alaska as s...   \n",
       "\n",
       "                                           tokenized  \\\n",
       "0  [our, deeds, are, the, reason, of, this, earth...   \n",
       "1      [forest, fire, near, la, ronge, sask, canada]   \n",
       "2  [all, residents, asked, to, shelter, in, place...   \n",
       "3  [13000, people, receive, wildfires, evacuation...   \n",
       "4  [just, got, sent, this, photo, from, ruby, ala...   \n",
       "\n",
       "                                   stopwords_removed  \n",
       "0  [deeds, reason, earthquake, may, allah, forgiv...  \n",
       "1      [forest, fire, near, la, ronge, sask, canada]  \n",
       "2  [residents, asked, shelter, place, notified, o...  \n",
       "3  [13000, people, receive, wildfires, evacuation...  \n",
       "4  [got, sent, photo, ruby, alaska, smoke, wildfi...  "
      ]
     },
     "execution_count": 23,
     "metadata": {},
     "output_type": "execute_result"
    }
   ],
   "source": [
    "# Removing stopwords.\n",
    "nltk.download(\"stopwords\")\n",
    "from nltk.corpus import stopwords\n",
    "\n",
    "stop = set(stopwords.words('english'))\n",
    "train_df['stopwords_removed'] = train_df['tokenized'].apply(lambda x: [word for word in x if word not in stop])\n",
    "train_df.head()"
   ]
  },
  {
   "cell_type": "markdown",
   "execution_count": null,
   "metadata": {
    "papermill": {
     "duration": 0.031803,
     "end_time": "2020-08-26T20:59:34.531281",
     "exception": false,
     "start_time": "2020-08-26T20:59:34.499478",
     "status": "completed"
    },
    "tags": []
   },
   "source": [
    "<a id=\"Stemming\"></a>\n",
    "\n",
    "## Stemming\n",
    "Stemming is a process of extracting a root word - identifying a common stem among various forms (e.g., singular and plural noun form) of a word, for example, the words \"gardening\", \"gardener\" or \"gardens\" share the same stem, garden. Stemming uproots suffixes from words to merge words with similar meanings under their standard stem.\n",
    "\n",
    "There are three major stemming algorithms in use nowadays:\n",
    "- **Porter** - PorterStemmer()): This stemming algorithm is an older one. It’s from the 1980s and its main concern is removing the common endings to words so that they can be resolved to a common form. It’s not too complex and development on it is frozen. Typically, it’s a nice starting basic stemmer, but it’s not really advised to use it for any production/complex application. Instead, it has its place in research as a nice, basic stemming algorithm that can guarantee reproducibility. It also is a very gentle stemming algorithm when compared to others.\n",
    "\n",
    "- **Snowball** - LancasterStemmer(): This algorithm is also known as the Porter2 stemming algorithm. It is almost universally accepted as better than the Porter stemmer, even being acknowledged as such by the individual who created the Porter stemmer. That being said, it is also more aggressive than the Porter stemmer. A lot of the things added to the Snowball stemmer were because of issues noticed with the Porter stemmer. There is about a 5% difference in the way that Snowball stems versus Porter.\n",
    "\n",
    "- **Lancaster** - SnowballStemmer(): Just for fun, the Lancaster stemming algorithm is another algorithm that you can use. This one is the most aggressive stemming algorithm of the bunch. However, if you use the stemmer in NLTK, you can add your own custom rules to this algorithm very easily. It’s a good choice for that. One complaint around this stemming algorithm though is that it sometimes is overly aggressive and can really transform words into strange stems. Just make sure it does what you want it to before you go with this option!\n",
    "\n",
    "source: http://hunterheidenreich.com/blog/stemming-lemmatization-what/\n",
    "\n",
    "<a id=\"PorterStemmer\"></a>\n",
    "### PorterStemmer\n",
    "[Back To Table of Contents](#top_section)"
   ]
  },
  {
   "cell_type": "code",
   "execution_count": 24,
   "metadata": {
    "execution": {
     "iopub.execute_input": "2020-08-26T20:59:34.601955Z",
     "iopub.status.busy": "2020-08-26T20:59:34.600775Z",
     "iopub.status.idle": "2020-08-26T20:59:34.604370Z",
     "shell.execute_reply": "2020-08-26T20:59:34.603636Z"
    },
    "papermill": {
     "duration": 0.041135,
     "end_time": "2020-08-26T20:59:34.604516",
     "exception": false,
     "start_time": "2020-08-26T20:59:34.563381",
     "status": "completed"
    },
    "scrolled": true,
    "tags": []
   },
   "outputs": [],
   "source": [
    "from nltk.stem import PorterStemmer\n",
    "\n",
    "def porter_stemmer(text):\n",
    "    \"\"\"\n",
    "        Stem words in list of tokenized words with PorterStemmer\n",
    "    \"\"\"\n",
    "    stemmer = nltk.PorterStemmer()\n",
    "    stems = [stemmer.stem(i) for i in text]\n",
    "    return stems"
   ]
  },
  {
   "cell_type": "code",
   "execution_count": 25,
   "metadata": {
    "execution": {
     "iopub.execute_input": "2020-08-26T20:59:34.688020Z",
     "iopub.status.busy": "2020-08-26T20:59:34.682903Z",
     "iopub.status.idle": "2020-08-26T20:59:37.585260Z",
     "shell.execute_reply": "2020-08-26T20:59:37.584674Z"
    },
    "papermill": {
     "duration": 2.950605,
     "end_time": "2020-08-26T20:59:37.585383",
     "exception": false,
     "start_time": "2020-08-26T20:59:34.634778",
     "status": "completed"
    },
    "tags": []
   },
   "outputs": [
    {
     "name": "stdout",
     "output_type": "stream",
     "text": [
      "CPU times: user 4 µs, sys: 0 ns, total: 4 µs\n",
      "Wall time: 7.87 µs\n"
     ]
    },
    {
     "data": {
      "text/html": [
       "<div>\n",
       "<style scoped>\n",
       "    .dataframe tbody tr th:only-of-type {\n",
       "        vertical-align: middle;\n",
       "    }\n",
       "\n",
       "    .dataframe tbody tr th {\n",
       "        vertical-align: top;\n",
       "    }\n",
       "\n",
       "    .dataframe thead th {\n",
       "        text-align: right;\n",
       "    }\n",
       "</style>\n",
       "<table border=\"1\" class=\"dataframe\">\n",
       "  <thead>\n",
       "    <tr style=\"text-align: right;\">\n",
       "      <th></th>\n",
       "      <th>id</th>\n",
       "      <th>keyword</th>\n",
       "      <th>location</th>\n",
       "      <th>text</th>\n",
       "      <th>target</th>\n",
       "      <th>text_clean</th>\n",
       "      <th>tokenized</th>\n",
       "      <th>stopwords_removed</th>\n",
       "      <th>porter_stemmer</th>\n",
       "    </tr>\n",
       "  </thead>\n",
       "  <tbody>\n",
       "    <tr>\n",
       "      <th>0</th>\n",
       "      <td>1</td>\n",
       "      <td>NaN</td>\n",
       "      <td>NaN</td>\n",
       "      <td>Our Deeds are the Reason of this #earthquake M...</td>\n",
       "      <td>1</td>\n",
       "      <td>our deeds are the reason of this earthquake ma...</td>\n",
       "      <td>[our, deeds, are, the, reason, of, this, earth...</td>\n",
       "      <td>[deeds, reason, earthquake, may, allah, forgiv...</td>\n",
       "      <td>[deed, reason, earthquak, may, allah, forgiv, us]</td>\n",
       "    </tr>\n",
       "    <tr>\n",
       "      <th>1</th>\n",
       "      <td>4</td>\n",
       "      <td>NaN</td>\n",
       "      <td>NaN</td>\n",
       "      <td>Forest fire near La Ronge Sask. Canada</td>\n",
       "      <td>1</td>\n",
       "      <td>forest fire near la ronge sask canada</td>\n",
       "      <td>[forest, fire, near, la, ronge, sask, canada]</td>\n",
       "      <td>[forest, fire, near, la, ronge, sask, canada]</td>\n",
       "      <td>[forest, fire, near, la, rong, sask, canada]</td>\n",
       "    </tr>\n",
       "    <tr>\n",
       "      <th>2</th>\n",
       "      <td>5</td>\n",
       "      <td>NaN</td>\n",
       "      <td>NaN</td>\n",
       "      <td>All residents asked to 'shelter in place' are ...</td>\n",
       "      <td>1</td>\n",
       "      <td>all residents asked to shelter in place are be...</td>\n",
       "      <td>[all, residents, asked, to, shelter, in, place...</td>\n",
       "      <td>[residents, asked, shelter, place, notified, o...</td>\n",
       "      <td>[resid, ask, shelter, place, notifi, offic, ev...</td>\n",
       "    </tr>\n",
       "    <tr>\n",
       "      <th>3</th>\n",
       "      <td>6</td>\n",
       "      <td>NaN</td>\n",
       "      <td>NaN</td>\n",
       "      <td>13,000 people receive #wildfires evacuation or...</td>\n",
       "      <td>1</td>\n",
       "      <td>13000 people receive wildfires evacuation orde...</td>\n",
       "      <td>[13000, people, receive, wildfires, evacuation...</td>\n",
       "      <td>[13000, people, receive, wildfires, evacuation...</td>\n",
       "      <td>[13000, peopl, receiv, wildfir, evacu, order, ...</td>\n",
       "    </tr>\n",
       "    <tr>\n",
       "      <th>4</th>\n",
       "      <td>7</td>\n",
       "      <td>NaN</td>\n",
       "      <td>NaN</td>\n",
       "      <td>Just got sent this photo from Ruby #Alaska as ...</td>\n",
       "      <td>1</td>\n",
       "      <td>just got sent this photo from ruby alaska as s...</td>\n",
       "      <td>[just, got, sent, this, photo, from, ruby, ala...</td>\n",
       "      <td>[got, sent, photo, ruby, alaska, smoke, wildfi...</td>\n",
       "      <td>[got, sent, photo, rubi, alaska, smoke, wildfi...</td>\n",
       "    </tr>\n",
       "  </tbody>\n",
       "</table>\n",
       "</div>"
      ],
      "text/plain": [
       "   id keyword location                                               text  \\\n",
       "0   1     NaN      NaN  Our Deeds are the Reason of this #earthquake M...   \n",
       "1   4     NaN      NaN             Forest fire near La Ronge Sask. Canada   \n",
       "2   5     NaN      NaN  All residents asked to 'shelter in place' are ...   \n",
       "3   6     NaN      NaN  13,000 people receive #wildfires evacuation or...   \n",
       "4   7     NaN      NaN  Just got sent this photo from Ruby #Alaska as ...   \n",
       "\n",
       "   target                                         text_clean  \\\n",
       "0       1  our deeds are the reason of this earthquake ma...   \n",
       "1       1              forest fire near la ronge sask canada   \n",
       "2       1  all residents asked to shelter in place are be...   \n",
       "3       1  13000 people receive wildfires evacuation orde...   \n",
       "4       1  just got sent this photo from ruby alaska as s...   \n",
       "\n",
       "                                           tokenized  \\\n",
       "0  [our, deeds, are, the, reason, of, this, earth...   \n",
       "1      [forest, fire, near, la, ronge, sask, canada]   \n",
       "2  [all, residents, asked, to, shelter, in, place...   \n",
       "3  [13000, people, receive, wildfires, evacuation...   \n",
       "4  [just, got, sent, this, photo, from, ruby, ala...   \n",
       "\n",
       "                                   stopwords_removed  \\\n",
       "0  [deeds, reason, earthquake, may, allah, forgiv...   \n",
       "1      [forest, fire, near, la, ronge, sask, canada]   \n",
       "2  [residents, asked, shelter, place, notified, o...   \n",
       "3  [13000, people, receive, wildfires, evacuation...   \n",
       "4  [got, sent, photo, ruby, alaska, smoke, wildfi...   \n",
       "\n",
       "                                      porter_stemmer  \n",
       "0  [deed, reason, earthquak, may, allah, forgiv, us]  \n",
       "1       [forest, fire, near, la, rong, sask, canada]  \n",
       "2  [resid, ask, shelter, place, notifi, offic, ev...  \n",
       "3  [13000, peopl, receiv, wildfir, evacu, order, ...  \n",
       "4  [got, sent, photo, rubi, alaska, smoke, wildfi...  "
      ]
     },
     "execution_count": 25,
     "metadata": {},
     "output_type": "execute_result"
    }
   ],
   "source": [
    "%time \n",
    "\n",
    "train_df['porter_stemmer'] = train_df['stopwords_removed'].apply(lambda x: porter_stemmer(x))\n",
    "train_df.head()"
   ]
  },
  {
   "cell_type": "markdown",
   "execution_count": null,
   "metadata": {
    "papermill": {
     "duration": 0.030736,
     "end_time": "2020-08-26T20:59:37.647402",
     "exception": false,
     "start_time": "2020-08-26T20:59:37.616666",
     "status": "completed"
    },
    "tags": []
   },
   "source": [
    "<a id=\"SnowballStemmer\"></a>\n",
    "### SnowballStemmer\n",
    "[Back To Table of Contents](#top_section)"
   ]
  },
  {
   "cell_type": "code",
   "execution_count": 26,
   "metadata": {
    "execution": {
     "iopub.execute_input": "2020-08-26T20:59:37.716183Z",
     "iopub.status.busy": "2020-08-26T20:59:37.715384Z",
     "iopub.status.idle": "2020-08-26T20:59:37.719337Z",
     "shell.execute_reply": "2020-08-26T20:59:37.718718Z"
    },
    "papermill": {
     "duration": 0.041258,
     "end_time": "2020-08-26T20:59:37.719477",
     "exception": false,
     "start_time": "2020-08-26T20:59:37.678219",
     "status": "completed"
    },
    "scrolled": true,
    "tags": []
   },
   "outputs": [],
   "source": [
    "from nltk.stem import SnowballStemmer\n",
    "\n",
    "def snowball_stemmer(text):\n",
    "    \"\"\"\n",
    "        Stem words in list of tokenized words with SnowballStemmer\n",
    "    \"\"\"\n",
    "    stemmer = nltk.SnowballStemmer(\"english\")\n",
    "    stems = [stemmer.stem(i) for i in text]\n",
    "    return stems"
   ]
  },
  {
   "cell_type": "code",
   "execution_count": 27,
   "metadata": {
    "execution": {
     "iopub.execute_input": "2020-08-26T20:59:37.789727Z",
     "iopub.status.busy": "2020-08-26T20:59:37.788703Z",
     "iopub.status.idle": "2020-08-26T20:59:39.459463Z",
     "shell.execute_reply": "2020-08-26T20:59:39.460035Z"
    },
    "papermill": {
     "duration": 1.709372,
     "end_time": "2020-08-26T20:59:39.460190",
     "exception": false,
     "start_time": "2020-08-26T20:59:37.750818",
     "status": "completed"
    },
    "tags": []
   },
   "outputs": [
    {
     "name": "stdout",
     "output_type": "stream",
     "text": [
      "CPU times: user 4 µs, sys: 0 ns, total: 4 µs\n",
      "Wall time: 7.87 µs\n"
     ]
    },
    {
     "data": {
      "text/html": [
       "<div>\n",
       "<style scoped>\n",
       "    .dataframe tbody tr th:only-of-type {\n",
       "        vertical-align: middle;\n",
       "    }\n",
       "\n",
       "    .dataframe tbody tr th {\n",
       "        vertical-align: top;\n",
       "    }\n",
       "\n",
       "    .dataframe thead th {\n",
       "        text-align: right;\n",
       "    }\n",
       "</style>\n",
       "<table border=\"1\" class=\"dataframe\">\n",
       "  <thead>\n",
       "    <tr style=\"text-align: right;\">\n",
       "      <th></th>\n",
       "      <th>id</th>\n",
       "      <th>keyword</th>\n",
       "      <th>location</th>\n",
       "      <th>text</th>\n",
       "      <th>target</th>\n",
       "      <th>text_clean</th>\n",
       "      <th>tokenized</th>\n",
       "      <th>stopwords_removed</th>\n",
       "      <th>porter_stemmer</th>\n",
       "      <th>snowball_stemmer</th>\n",
       "    </tr>\n",
       "  </thead>\n",
       "  <tbody>\n",
       "    <tr>\n",
       "      <th>0</th>\n",
       "      <td>1</td>\n",
       "      <td>NaN</td>\n",
       "      <td>NaN</td>\n",
       "      <td>Our Deeds are the Reason of this #earthquake M...</td>\n",
       "      <td>1</td>\n",
       "      <td>our deeds are the reason of this earthquake ma...</td>\n",
       "      <td>[our, deeds, are, the, reason, of, this, earth...</td>\n",
       "      <td>[deeds, reason, earthquake, may, allah, forgiv...</td>\n",
       "      <td>[deed, reason, earthquak, may, allah, forgiv, us]</td>\n",
       "      <td>[deed, reason, earthquak, may, allah, forgiv, us]</td>\n",
       "    </tr>\n",
       "    <tr>\n",
       "      <th>1</th>\n",
       "      <td>4</td>\n",
       "      <td>NaN</td>\n",
       "      <td>NaN</td>\n",
       "      <td>Forest fire near La Ronge Sask. Canada</td>\n",
       "      <td>1</td>\n",
       "      <td>forest fire near la ronge sask canada</td>\n",
       "      <td>[forest, fire, near, la, ronge, sask, canada]</td>\n",
       "      <td>[forest, fire, near, la, ronge, sask, canada]</td>\n",
       "      <td>[forest, fire, near, la, rong, sask, canada]</td>\n",
       "      <td>[forest, fire, near, la, rong, sask, canada]</td>\n",
       "    </tr>\n",
       "    <tr>\n",
       "      <th>2</th>\n",
       "      <td>5</td>\n",
       "      <td>NaN</td>\n",
       "      <td>NaN</td>\n",
       "      <td>All residents asked to 'shelter in place' are ...</td>\n",
       "      <td>1</td>\n",
       "      <td>all residents asked to shelter in place are be...</td>\n",
       "      <td>[all, residents, asked, to, shelter, in, place...</td>\n",
       "      <td>[residents, asked, shelter, place, notified, o...</td>\n",
       "      <td>[resid, ask, shelter, place, notifi, offic, ev...</td>\n",
       "      <td>[resid, ask, shelter, place, notifi, offic, ev...</td>\n",
       "    </tr>\n",
       "    <tr>\n",
       "      <th>3</th>\n",
       "      <td>6</td>\n",
       "      <td>NaN</td>\n",
       "      <td>NaN</td>\n",
       "      <td>13,000 people receive #wildfires evacuation or...</td>\n",
       "      <td>1</td>\n",
       "      <td>13000 people receive wildfires evacuation orde...</td>\n",
       "      <td>[13000, people, receive, wildfires, evacuation...</td>\n",
       "      <td>[13000, people, receive, wildfires, evacuation...</td>\n",
       "      <td>[13000, peopl, receiv, wildfir, evacu, order, ...</td>\n",
       "      <td>[13000, peopl, receiv, wildfir, evacu, order, ...</td>\n",
       "    </tr>\n",
       "    <tr>\n",
       "      <th>4</th>\n",
       "      <td>7</td>\n",
       "      <td>NaN</td>\n",
       "      <td>NaN</td>\n",
       "      <td>Just got sent this photo from Ruby #Alaska as ...</td>\n",
       "      <td>1</td>\n",
       "      <td>just got sent this photo from ruby alaska as s...</td>\n",
       "      <td>[just, got, sent, this, photo, from, ruby, ala...</td>\n",
       "      <td>[got, sent, photo, ruby, alaska, smoke, wildfi...</td>\n",
       "      <td>[got, sent, photo, rubi, alaska, smoke, wildfi...</td>\n",
       "      <td>[got, sent, photo, rubi, alaska, smoke, wildfi...</td>\n",
       "    </tr>\n",
       "  </tbody>\n",
       "</table>\n",
       "</div>"
      ],
      "text/plain": [
       "   id keyword location                                               text  \\\n",
       "0   1     NaN      NaN  Our Deeds are the Reason of this #earthquake M...   \n",
       "1   4     NaN      NaN             Forest fire near La Ronge Sask. Canada   \n",
       "2   5     NaN      NaN  All residents asked to 'shelter in place' are ...   \n",
       "3   6     NaN      NaN  13,000 people receive #wildfires evacuation or...   \n",
       "4   7     NaN      NaN  Just got sent this photo from Ruby #Alaska as ...   \n",
       "\n",
       "   target                                         text_clean  \\\n",
       "0       1  our deeds are the reason of this earthquake ma...   \n",
       "1       1              forest fire near la ronge sask canada   \n",
       "2       1  all residents asked to shelter in place are be...   \n",
       "3       1  13000 people receive wildfires evacuation orde...   \n",
       "4       1  just got sent this photo from ruby alaska as s...   \n",
       "\n",
       "                                           tokenized  \\\n",
       "0  [our, deeds, are, the, reason, of, this, earth...   \n",
       "1      [forest, fire, near, la, ronge, sask, canada]   \n",
       "2  [all, residents, asked, to, shelter, in, place...   \n",
       "3  [13000, people, receive, wildfires, evacuation...   \n",
       "4  [just, got, sent, this, photo, from, ruby, ala...   \n",
       "\n",
       "                                   stopwords_removed  \\\n",
       "0  [deeds, reason, earthquake, may, allah, forgiv...   \n",
       "1      [forest, fire, near, la, ronge, sask, canada]   \n",
       "2  [residents, asked, shelter, place, notified, o...   \n",
       "3  [13000, people, receive, wildfires, evacuation...   \n",
       "4  [got, sent, photo, ruby, alaska, smoke, wildfi...   \n",
       "\n",
       "                                      porter_stemmer  \\\n",
       "0  [deed, reason, earthquak, may, allah, forgiv, us]   \n",
       "1       [forest, fire, near, la, rong, sask, canada]   \n",
       "2  [resid, ask, shelter, place, notifi, offic, ev...   \n",
       "3  [13000, peopl, receiv, wildfir, evacu, order, ...   \n",
       "4  [got, sent, photo, rubi, alaska, smoke, wildfi...   \n",
       "\n",
       "                                    snowball_stemmer  \n",
       "0  [deed, reason, earthquak, may, allah, forgiv, us]  \n",
       "1       [forest, fire, near, la, rong, sask, canada]  \n",
       "2  [resid, ask, shelter, place, notifi, offic, ev...  \n",
       "3  [13000, peopl, receiv, wildfir, evacu, order, ...  \n",
       "4  [got, sent, photo, rubi, alaska, smoke, wildfi...  "
      ]
     },
     "execution_count": 27,
     "metadata": {},
     "output_type": "execute_result"
    }
   ],
   "source": [
    "%time \n",
    "\n",
    "train_df['snowball_stemmer'] = train_df['stopwords_removed'].apply(lambda x: snowball_stemmer(x))\n",
    "train_df.head()"
   ]
  },
  {
   "cell_type": "markdown",
   "execution_count": null,
   "metadata": {
    "papermill": {
     "duration": 0.030677,
     "end_time": "2020-08-26T20:59:39.522686",
     "exception": false,
     "start_time": "2020-08-26T20:59:39.492009",
     "status": "completed"
    },
    "tags": []
   },
   "source": [
    "<a id=\"LancasterStemmer\"></a>\n",
    "### LancasterStemmer\n",
    "[Back To Table of Contents](#top_section)"
   ]
  },
  {
   "cell_type": "code",
   "execution_count": 28,
   "metadata": {
    "execution": {
     "iopub.execute_input": "2020-08-26T20:59:39.592347Z",
     "iopub.status.busy": "2020-08-26T20:59:39.591621Z",
     "iopub.status.idle": "2020-08-26T20:59:39.595163Z",
     "shell.execute_reply": "2020-08-26T20:59:39.594472Z"
    },
    "papermill": {
     "duration": 0.04145,
     "end_time": "2020-08-26T20:59:39.595304",
     "exception": false,
     "start_time": "2020-08-26T20:59:39.553854",
     "status": "completed"
    },
    "scrolled": true,
    "tags": []
   },
   "outputs": [],
   "source": [
    "from nltk.stem import LancasterStemmer\n",
    "\n",
    "def lancaster_stemmer(text):\n",
    "    \"\"\"\n",
    "        Stem words in list of tokenized words with LancasterStemmer\n",
    "    \"\"\"\n",
    "    stemmer = nltk.LancasterStemmer()\n",
    "    stems = [stemmer.stem(i) for i in text]\n",
    "    return stems"
   ]
  },
  {
   "cell_type": "code",
   "execution_count": 29,
   "metadata": {
    "execution": {
     "iopub.execute_input": "2020-08-26T20:59:39.681618Z",
     "iopub.status.busy": "2020-08-26T20:59:39.671306Z",
     "iopub.status.idle": "2020-08-26T20:59:43.131168Z",
     "shell.execute_reply": "2020-08-26T20:59:43.130556Z"
    },
    "papermill": {
     "duration": 3.503899,
     "end_time": "2020-08-26T20:59:43.131289",
     "exception": false,
     "start_time": "2020-08-26T20:59:39.627390",
     "status": "completed"
    },
    "tags": []
   },
   "outputs": [
    {
     "name": "stdout",
     "output_type": "stream",
     "text": [
      "CPU times: user 3 µs, sys: 0 ns, total: 3 µs\n",
      "Wall time: 8.58 µs\n"
     ]
    },
    {
     "data": {
      "text/html": [
       "<div>\n",
       "<style scoped>\n",
       "    .dataframe tbody tr th:only-of-type {\n",
       "        vertical-align: middle;\n",
       "    }\n",
       "\n",
       "    .dataframe tbody tr th {\n",
       "        vertical-align: top;\n",
       "    }\n",
       "\n",
       "    .dataframe thead th {\n",
       "        text-align: right;\n",
       "    }\n",
       "</style>\n",
       "<table border=\"1\" class=\"dataframe\">\n",
       "  <thead>\n",
       "    <tr style=\"text-align: right;\">\n",
       "      <th></th>\n",
       "      <th>id</th>\n",
       "      <th>keyword</th>\n",
       "      <th>location</th>\n",
       "      <th>text</th>\n",
       "      <th>target</th>\n",
       "      <th>text_clean</th>\n",
       "      <th>tokenized</th>\n",
       "      <th>stopwords_removed</th>\n",
       "      <th>porter_stemmer</th>\n",
       "      <th>snowball_stemmer</th>\n",
       "      <th>lancaster_stemmer</th>\n",
       "    </tr>\n",
       "  </thead>\n",
       "  <tbody>\n",
       "    <tr>\n",
       "      <th>0</th>\n",
       "      <td>1</td>\n",
       "      <td>NaN</td>\n",
       "      <td>NaN</td>\n",
       "      <td>Our Deeds are the Reason of this #earthquake M...</td>\n",
       "      <td>1</td>\n",
       "      <td>our deeds are the reason of this earthquake ma...</td>\n",
       "      <td>[our, deeds, are, the, reason, of, this, earth...</td>\n",
       "      <td>[deeds, reason, earthquake, may, allah, forgiv...</td>\n",
       "      <td>[deed, reason, earthquak, may, allah, forgiv, us]</td>\n",
       "      <td>[deed, reason, earthquak, may, allah, forgiv, us]</td>\n",
       "      <td>[dee, reason, earthquak, may, allah, forg, us]</td>\n",
       "    </tr>\n",
       "    <tr>\n",
       "      <th>1</th>\n",
       "      <td>4</td>\n",
       "      <td>NaN</td>\n",
       "      <td>NaN</td>\n",
       "      <td>Forest fire near La Ronge Sask. Canada</td>\n",
       "      <td>1</td>\n",
       "      <td>forest fire near la ronge sask canada</td>\n",
       "      <td>[forest, fire, near, la, ronge, sask, canada]</td>\n",
       "      <td>[forest, fire, near, la, ronge, sask, canada]</td>\n",
       "      <td>[forest, fire, near, la, rong, sask, canada]</td>\n",
       "      <td>[forest, fire, near, la, rong, sask, canada]</td>\n",
       "      <td>[forest, fir, near, la, rong, sask, canad]</td>\n",
       "    </tr>\n",
       "    <tr>\n",
       "      <th>2</th>\n",
       "      <td>5</td>\n",
       "      <td>NaN</td>\n",
       "      <td>NaN</td>\n",
       "      <td>All residents asked to 'shelter in place' are ...</td>\n",
       "      <td>1</td>\n",
       "      <td>all residents asked to shelter in place are be...</td>\n",
       "      <td>[all, residents, asked, to, shelter, in, place...</td>\n",
       "      <td>[residents, asked, shelter, place, notified, o...</td>\n",
       "      <td>[resid, ask, shelter, place, notifi, offic, ev...</td>\n",
       "      <td>[resid, ask, shelter, place, notifi, offic, ev...</td>\n",
       "      <td>[resid, ask, shelt, plac, not, off, evacu, she...</td>\n",
       "    </tr>\n",
       "    <tr>\n",
       "      <th>3</th>\n",
       "      <td>6</td>\n",
       "      <td>NaN</td>\n",
       "      <td>NaN</td>\n",
       "      <td>13,000 people receive #wildfires evacuation or...</td>\n",
       "      <td>1</td>\n",
       "      <td>13000 people receive wildfires evacuation orde...</td>\n",
       "      <td>[13000, people, receive, wildfires, evacuation...</td>\n",
       "      <td>[13000, people, receive, wildfires, evacuation...</td>\n",
       "      <td>[13000, peopl, receiv, wildfir, evacu, order, ...</td>\n",
       "      <td>[13000, peopl, receiv, wildfir, evacu, order, ...</td>\n",
       "      <td>[13000, peopl, receiv, wildfir, evacu, ord, ca...</td>\n",
       "    </tr>\n",
       "    <tr>\n",
       "      <th>4</th>\n",
       "      <td>7</td>\n",
       "      <td>NaN</td>\n",
       "      <td>NaN</td>\n",
       "      <td>Just got sent this photo from Ruby #Alaska as ...</td>\n",
       "      <td>1</td>\n",
       "      <td>just got sent this photo from ruby alaska as s...</td>\n",
       "      <td>[just, got, sent, this, photo, from, ruby, ala...</td>\n",
       "      <td>[got, sent, photo, ruby, alaska, smoke, wildfi...</td>\n",
       "      <td>[got, sent, photo, rubi, alaska, smoke, wildfi...</td>\n",
       "      <td>[got, sent, photo, rubi, alaska, smoke, wildfi...</td>\n",
       "      <td>[got, sent, photo, ruby, alask, smok, wildfir,...</td>\n",
       "    </tr>\n",
       "  </tbody>\n",
       "</table>\n",
       "</div>"
      ],
      "text/plain": [
       "   id keyword location                                               text  \\\n",
       "0   1     NaN      NaN  Our Deeds are the Reason of this #earthquake M...   \n",
       "1   4     NaN      NaN             Forest fire near La Ronge Sask. Canada   \n",
       "2   5     NaN      NaN  All residents asked to 'shelter in place' are ...   \n",
       "3   6     NaN      NaN  13,000 people receive #wildfires evacuation or...   \n",
       "4   7     NaN      NaN  Just got sent this photo from Ruby #Alaska as ...   \n",
       "\n",
       "   target                                         text_clean  \\\n",
       "0       1  our deeds are the reason of this earthquake ma...   \n",
       "1       1              forest fire near la ronge sask canada   \n",
       "2       1  all residents asked to shelter in place are be...   \n",
       "3       1  13000 people receive wildfires evacuation orde...   \n",
       "4       1  just got sent this photo from ruby alaska as s...   \n",
       "\n",
       "                                           tokenized  \\\n",
       "0  [our, deeds, are, the, reason, of, this, earth...   \n",
       "1      [forest, fire, near, la, ronge, sask, canada]   \n",
       "2  [all, residents, asked, to, shelter, in, place...   \n",
       "3  [13000, people, receive, wildfires, evacuation...   \n",
       "4  [just, got, sent, this, photo, from, ruby, ala...   \n",
       "\n",
       "                                   stopwords_removed  \\\n",
       "0  [deeds, reason, earthquake, may, allah, forgiv...   \n",
       "1      [forest, fire, near, la, ronge, sask, canada]   \n",
       "2  [residents, asked, shelter, place, notified, o...   \n",
       "3  [13000, people, receive, wildfires, evacuation...   \n",
       "4  [got, sent, photo, ruby, alaska, smoke, wildfi...   \n",
       "\n",
       "                                      porter_stemmer  \\\n",
       "0  [deed, reason, earthquak, may, allah, forgiv, us]   \n",
       "1       [forest, fire, near, la, rong, sask, canada]   \n",
       "2  [resid, ask, shelter, place, notifi, offic, ev...   \n",
       "3  [13000, peopl, receiv, wildfir, evacu, order, ...   \n",
       "4  [got, sent, photo, rubi, alaska, smoke, wildfi...   \n",
       "\n",
       "                                    snowball_stemmer  \\\n",
       "0  [deed, reason, earthquak, may, allah, forgiv, us]   \n",
       "1       [forest, fire, near, la, rong, sask, canada]   \n",
       "2  [resid, ask, shelter, place, notifi, offic, ev...   \n",
       "3  [13000, peopl, receiv, wildfir, evacu, order, ...   \n",
       "4  [got, sent, photo, rubi, alaska, smoke, wildfi...   \n",
       "\n",
       "                                   lancaster_stemmer  \n",
       "0     [dee, reason, earthquak, may, allah, forg, us]  \n",
       "1         [forest, fir, near, la, rong, sask, canad]  \n",
       "2  [resid, ask, shelt, plac, not, off, evacu, she...  \n",
       "3  [13000, peopl, receiv, wildfir, evacu, ord, ca...  \n",
       "4  [got, sent, photo, ruby, alask, smok, wildfir,...  "
      ]
     },
     "execution_count": 29,
     "metadata": {},
     "output_type": "execute_result"
    }
   ],
   "source": [
    "%time \n",
    "\n",
    "train_df['lancaster_stemmer'] = train_df['stopwords_removed'].apply(lambda x: lancaster_stemmer(x))\n",
    "train_df.head()"
   ]
  },
  {
   "cell_type": "markdown",
   "execution_count": null,
   "metadata": {
    "papermill": {
     "duration": 0.030888,
     "end_time": "2020-08-26T20:59:43.194354",
     "exception": false,
     "start_time": "2020-08-26T20:59:43.163466",
     "status": "completed"
    },
    "tags": []
   },
   "source": [
    "<a id=\"POS_Tagging\"></a>\n",
    "\n",
    "## Part of Speech Tagging (POS Tagging):\n",
    "Part of speech tagging (POS tagging) distinguishes the part of speech (noun, verb, adjective, and etc.) of each word in the text. This is the critical stage for many NLP applications since, by identifying the POS of a word, we can infer its contextual meaning. The NLTK packages offer different POS Tagging algorithms, and in this notebook, we use the combination version of them.\n",
    "\n",
    "- pos_tag/ DefaultTagger\n",
    "- UnigramTagger\n",
    "- BigramTagger\n",
    "- Could also be a combination of the bigram tagger, unigram tagger, and default tagger (source: https://www.nltk.org/book/ch05.html) \n",
    "\n",
    "[Back To Table of Contents](#top_section)"
   ]
  },
  {
   "cell_type": "code",
   "execution_count": 30,
   "metadata": {
    "execution": {
     "iopub.execute_input": "2020-08-26T20:59:43.267965Z",
     "iopub.status.busy": "2020-08-26T20:59:43.265350Z",
     "iopub.status.idle": "2020-08-26T20:59:49.121684Z",
     "shell.execute_reply": "2020-08-26T20:59:49.120958Z"
    },
    "papermill": {
     "duration": 5.896151,
     "end_time": "2020-08-26T20:59:49.121810",
     "exception": false,
     "start_time": "2020-08-26T20:59:43.225659",
     "status": "completed"
    },
    "scrolled": true,
    "tags": []
   },
   "outputs": [],
   "source": [
    "from nltk.corpus import wordnet\n",
    "from nltk.corpus import brown\n",
    "\n",
    "wordnet_map = {\"N\":wordnet.NOUN, \n",
    "               \"V\":wordnet.VERB, \n",
    "               \"J\":wordnet.ADJ, \n",
    "               \"R\":wordnet.ADV\n",
    "              }\n",
    "    \n",
    "train_sents = brown.tagged_sents(categories='news')\n",
    "t0 = nltk.DefaultTagger('NN')\n",
    "t1 = nltk.UnigramTagger(train_sents, backoff=t0)\n",
    "t2 = nltk.BigramTagger(train_sents, backoff=t1)\n",
    "\n",
    "def pos_tag_wordnet(text, pos_tag_type=\"pos_tag\"):\n",
    "    \"\"\"\n",
    "        Create pos_tag with wordnet format\n",
    "    \"\"\"\n",
    "    pos_tagged_text = t2.tag(text)\n",
    "    \n",
    "    # map the pos tagging output with wordnet output \n",
    "    pos_tagged_text = [(word, wordnet_map.get(pos_tag[0])) if pos_tag[0] in wordnet_map.keys() else (word, wordnet.NOUN) for (word, pos_tag) in pos_tagged_text ]\n",
    "    return pos_tagged_text"
   ]
  },
  {
   "cell_type": "code",
   "execution_count": 31,
   "metadata": {
    "execution": {
     "iopub.execute_input": "2020-08-26T20:59:49.193726Z",
     "iopub.status.busy": "2020-08-26T20:59:49.192658Z",
     "iopub.status.idle": "2020-08-26T20:59:49.196338Z",
     "shell.execute_reply": "2020-08-26T20:59:49.196941Z"
    },
    "papermill": {
     "duration": 0.042697,
     "end_time": "2020-08-26T20:59:49.197094",
     "exception": false,
     "start_time": "2020-08-26T20:59:49.154397",
     "status": "completed"
    },
    "scrolled": true,
    "tags": []
   },
   "outputs": [
    {
     "data": {
      "text/plain": [
       "[('residents', 'n'),\n",
       " ('asked', 'v'),\n",
       " ('shelter', 'n'),\n",
       " ('place', 'n'),\n",
       " ('notified', 'n'),\n",
       " ('officers', 'n'),\n",
       " ('evacuation', 'n'),\n",
       " ('shelter', 'n'),\n",
       " ('place', 'n'),\n",
       " ('orders', 'n'),\n",
       " ('expected', 'v')]"
      ]
     },
     "execution_count": 31,
     "metadata": {},
     "output_type": "execute_result"
    }
   ],
   "source": [
    "pos_tag_wordnet(train_df['stopwords_removed'][2])"
   ]
  },
  {
   "cell_type": "code",
   "execution_count": 32,
   "metadata": {
    "execution": {
     "iopub.execute_input": "2020-08-26T20:59:49.286315Z",
     "iopub.status.busy": "2020-08-26T20:59:49.281103Z",
     "iopub.status.idle": "2020-08-26T20:59:49.723385Z",
     "shell.execute_reply": "2020-08-26T20:59:49.722809Z"
    },
    "papermill": {
     "duration": 0.49184,
     "end_time": "2020-08-26T20:59:49.723531",
     "exception": false,
     "start_time": "2020-08-26T20:59:49.231691",
     "status": "completed"
    },
    "tags": []
   },
   "outputs": [
    {
     "name": "stdout",
     "output_type": "stream",
     "text": [
      "CPU times: user 4 µs, sys: 0 ns, total: 4 µs\n",
      "Wall time: 7.87 µs\n"
     ]
    },
    {
     "data": {
      "text/html": [
       "<div>\n",
       "<style scoped>\n",
       "    .dataframe tbody tr th:only-of-type {\n",
       "        vertical-align: middle;\n",
       "    }\n",
       "\n",
       "    .dataframe tbody tr th {\n",
       "        vertical-align: top;\n",
       "    }\n",
       "\n",
       "    .dataframe thead th {\n",
       "        text-align: right;\n",
       "    }\n",
       "</style>\n",
       "<table border=\"1\" class=\"dataframe\">\n",
       "  <thead>\n",
       "    <tr style=\"text-align: right;\">\n",
       "      <th></th>\n",
       "      <th>id</th>\n",
       "      <th>keyword</th>\n",
       "      <th>location</th>\n",
       "      <th>text</th>\n",
       "      <th>target</th>\n",
       "      <th>text_clean</th>\n",
       "      <th>tokenized</th>\n",
       "      <th>stopwords_removed</th>\n",
       "      <th>porter_stemmer</th>\n",
       "      <th>snowball_stemmer</th>\n",
       "      <th>lancaster_stemmer</th>\n",
       "      <th>combined_postag_wnet</th>\n",
       "    </tr>\n",
       "  </thead>\n",
       "  <tbody>\n",
       "    <tr>\n",
       "      <th>0</th>\n",
       "      <td>1</td>\n",
       "      <td>NaN</td>\n",
       "      <td>NaN</td>\n",
       "      <td>Our Deeds are the Reason of this #earthquake M...</td>\n",
       "      <td>1</td>\n",
       "      <td>our deeds are the reason of this earthquake ma...</td>\n",
       "      <td>[our, deeds, are, the, reason, of, this, earth...</td>\n",
       "      <td>[deeds, reason, earthquake, may, allah, forgiv...</td>\n",
       "      <td>[deed, reason, earthquak, may, allah, forgiv, us]</td>\n",
       "      <td>[deed, reason, earthquak, may, allah, forgiv, us]</td>\n",
       "      <td>[dee, reason, earthquak, may, allah, forg, us]</td>\n",
       "      <td>[(deeds, n), (reason, n), (earthquake, n), (ma...</td>\n",
       "    </tr>\n",
       "    <tr>\n",
       "      <th>1</th>\n",
       "      <td>4</td>\n",
       "      <td>NaN</td>\n",
       "      <td>NaN</td>\n",
       "      <td>Forest fire near La Ronge Sask. Canada</td>\n",
       "      <td>1</td>\n",
       "      <td>forest fire near la ronge sask canada</td>\n",
       "      <td>[forest, fire, near, la, ronge, sask, canada]</td>\n",
       "      <td>[forest, fire, near, la, ronge, sask, canada]</td>\n",
       "      <td>[forest, fire, near, la, rong, sask, canada]</td>\n",
       "      <td>[forest, fire, near, la, rong, sask, canada]</td>\n",
       "      <td>[forest, fir, near, la, rong, sask, canad]</td>\n",
       "      <td>[(forest, n), (fire, n), (near, n), (la, n), (...</td>\n",
       "    </tr>\n",
       "    <tr>\n",
       "      <th>2</th>\n",
       "      <td>5</td>\n",
       "      <td>NaN</td>\n",
       "      <td>NaN</td>\n",
       "      <td>All residents asked to 'shelter in place' are ...</td>\n",
       "      <td>1</td>\n",
       "      <td>all residents asked to shelter in place are be...</td>\n",
       "      <td>[all, residents, asked, to, shelter, in, place...</td>\n",
       "      <td>[residents, asked, shelter, place, notified, o...</td>\n",
       "      <td>[resid, ask, shelter, place, notifi, offic, ev...</td>\n",
       "      <td>[resid, ask, shelter, place, notifi, offic, ev...</td>\n",
       "      <td>[resid, ask, shelt, plac, not, off, evacu, she...</td>\n",
       "      <td>[(residents, n), (asked, v), (shelter, n), (pl...</td>\n",
       "    </tr>\n",
       "    <tr>\n",
       "      <th>3</th>\n",
       "      <td>6</td>\n",
       "      <td>NaN</td>\n",
       "      <td>NaN</td>\n",
       "      <td>13,000 people receive #wildfires evacuation or...</td>\n",
       "      <td>1</td>\n",
       "      <td>13000 people receive wildfires evacuation orde...</td>\n",
       "      <td>[13000, people, receive, wildfires, evacuation...</td>\n",
       "      <td>[13000, people, receive, wildfires, evacuation...</td>\n",
       "      <td>[13000, peopl, receiv, wildfir, evacu, order, ...</td>\n",
       "      <td>[13000, peopl, receiv, wildfir, evacu, order, ...</td>\n",
       "      <td>[13000, peopl, receiv, wildfir, evacu, ord, ca...</td>\n",
       "      <td>[(13000, n), (people, n), (receive, v), (wildf...</td>\n",
       "    </tr>\n",
       "    <tr>\n",
       "      <th>4</th>\n",
       "      <td>7</td>\n",
       "      <td>NaN</td>\n",
       "      <td>NaN</td>\n",
       "      <td>Just got sent this photo from Ruby #Alaska as ...</td>\n",
       "      <td>1</td>\n",
       "      <td>just got sent this photo from ruby alaska as s...</td>\n",
       "      <td>[just, got, sent, this, photo, from, ruby, ala...</td>\n",
       "      <td>[got, sent, photo, ruby, alaska, smoke, wildfi...</td>\n",
       "      <td>[got, sent, photo, rubi, alaska, smoke, wildfi...</td>\n",
       "      <td>[got, sent, photo, rubi, alaska, smoke, wildfi...</td>\n",
       "      <td>[got, sent, photo, ruby, alask, smok, wildfir,...</td>\n",
       "      <td>[(got, v), (sent, v), (photo, n), (ruby, n), (...</td>\n",
       "    </tr>\n",
       "  </tbody>\n",
       "</table>\n",
       "</div>"
      ],
      "text/plain": [
       "   id keyword location                                               text  \\\n",
       "0   1     NaN      NaN  Our Deeds are the Reason of this #earthquake M...   \n",
       "1   4     NaN      NaN             Forest fire near La Ronge Sask. Canada   \n",
       "2   5     NaN      NaN  All residents asked to 'shelter in place' are ...   \n",
       "3   6     NaN      NaN  13,000 people receive #wildfires evacuation or...   \n",
       "4   7     NaN      NaN  Just got sent this photo from Ruby #Alaska as ...   \n",
       "\n",
       "   target                                         text_clean  \\\n",
       "0       1  our deeds are the reason of this earthquake ma...   \n",
       "1       1              forest fire near la ronge sask canada   \n",
       "2       1  all residents asked to shelter in place are be...   \n",
       "3       1  13000 people receive wildfires evacuation orde...   \n",
       "4       1  just got sent this photo from ruby alaska as s...   \n",
       "\n",
       "                                           tokenized  \\\n",
       "0  [our, deeds, are, the, reason, of, this, earth...   \n",
       "1      [forest, fire, near, la, ronge, sask, canada]   \n",
       "2  [all, residents, asked, to, shelter, in, place...   \n",
       "3  [13000, people, receive, wildfires, evacuation...   \n",
       "4  [just, got, sent, this, photo, from, ruby, ala...   \n",
       "\n",
       "                                   stopwords_removed  \\\n",
       "0  [deeds, reason, earthquake, may, allah, forgiv...   \n",
       "1      [forest, fire, near, la, ronge, sask, canada]   \n",
       "2  [residents, asked, shelter, place, notified, o...   \n",
       "3  [13000, people, receive, wildfires, evacuation...   \n",
       "4  [got, sent, photo, ruby, alaska, smoke, wildfi...   \n",
       "\n",
       "                                      porter_stemmer  \\\n",
       "0  [deed, reason, earthquak, may, allah, forgiv, us]   \n",
       "1       [forest, fire, near, la, rong, sask, canada]   \n",
       "2  [resid, ask, shelter, place, notifi, offic, ev...   \n",
       "3  [13000, peopl, receiv, wildfir, evacu, order, ...   \n",
       "4  [got, sent, photo, rubi, alaska, smoke, wildfi...   \n",
       "\n",
       "                                    snowball_stemmer  \\\n",
       "0  [deed, reason, earthquak, may, allah, forgiv, us]   \n",
       "1       [forest, fire, near, la, rong, sask, canada]   \n",
       "2  [resid, ask, shelter, place, notifi, offic, ev...   \n",
       "3  [13000, peopl, receiv, wildfir, evacu, order, ...   \n",
       "4  [got, sent, photo, rubi, alaska, smoke, wildfi...   \n",
       "\n",
       "                                   lancaster_stemmer  \\\n",
       "0     [dee, reason, earthquak, may, allah, forg, us]   \n",
       "1         [forest, fir, near, la, rong, sask, canad]   \n",
       "2  [resid, ask, shelt, plac, not, off, evacu, she...   \n",
       "3  [13000, peopl, receiv, wildfir, evacu, ord, ca...   \n",
       "4  [got, sent, photo, ruby, alask, smok, wildfir,...   \n",
       "\n",
       "                                combined_postag_wnet  \n",
       "0  [(deeds, n), (reason, n), (earthquake, n), (ma...  \n",
       "1  [(forest, n), (fire, n), (near, n), (la, n), (...  \n",
       "2  [(residents, n), (asked, v), (shelter, n), (pl...  \n",
       "3  [(13000, n), (people, n), (receive, v), (wildf...  \n",
       "4  [(got, v), (sent, v), (photo, n), (ruby, n), (...  "
      ]
     },
     "execution_count": 32,
     "metadata": {},
     "output_type": "execute_result"
    }
   ],
   "source": [
    "%time \n",
    "\n",
    "train_df['combined_postag_wnet'] = train_df['stopwords_removed'].apply(lambda x: pos_tag_wordnet(x))\n",
    "\n",
    "train_df.head()"
   ]
  },
  {
   "cell_type": "markdown",
   "execution_count": null,
   "metadata": {
    "papermill": {
     "duration": 0.031939,
     "end_time": "2020-08-26T20:59:49.787975",
     "exception": false,
     "start_time": "2020-08-26T20:59:49.756036",
     "status": "completed"
    },
    "tags": []
   },
   "source": [
    "<a id=\"Lemmatization\"></a>\n",
    "\n",
    "## Lemmatization:\n",
    "According to the [Speech and Language Processing](https://web.stanford.edu/~jurafsky/slp3/ed3book.pdf) book:\n",
    "> Lemmatization is the task of determining that two words have the same root, despite their surface differences. The words am, are, and is have the shared lemma be; the words dinner and dinners both have the lemma dinner. Lemmatizing each of these forms to the same lemma will let us ﬁnd all mentions of words in Russian like Moscow. The lemmatized form of a sentence like He is reading detective stories would thus be He be read detective story.\n",
    "\n",
    "and the book [Natural Language Processing in Action](https://www.manning.com/books/natural-language-processing-in-action):\n",
    "> Some lemmatizers use the word’s part of speech (POS) tag in addition to its spelling to help improve accuracy. The POS tag for a word indicates its role in the grammar of a phrase or sentence. For example, the noun POS is for words that refer to “people, places, or things” within a phrase. An adjective POS is for a word that modifies or describes a noun. A verb refers to an action. The POS of a word in isolation cannot be determined. The context of a word must be known for its POS to be identified. So some advanced lemmatizers can’t be run-on words in isolation.\n",
    "\n",
    "For example, the \"good\", \"better\" or \"best\" is lemmatized into good and the verb \"gardening\" should be lemmatized to \"to garden\", while the \"garden\" and \"gardener\" are both different lemmas. In this notebook, we will also explore on both lemmatize on without POS-Tagging and POS-Tagging examples.\n",
    "\n",
    "[Back To Table of Contents](#top_section)"
   ]
  },
  {
   "cell_type": "code",
   "execution_count": 33,
   "metadata": {
    "execution": {
     "iopub.execute_input": "2020-08-26T20:59:49.860347Z",
     "iopub.status.busy": "2020-08-26T20:59:49.859397Z",
     "iopub.status.idle": "2020-08-26T20:59:49.862339Z",
     "shell.execute_reply": "2020-08-26T20:59:49.861774Z"
    },
    "papermill": {
     "duration": 0.041889,
     "end_time": "2020-08-26T20:59:49.862484",
     "exception": false,
     "start_time": "2020-08-26T20:59:49.820595",
     "status": "completed"
    },
    "scrolled": true,
    "tags": []
   },
   "outputs": [],
   "source": [
    "from nltk.stem import WordNetLemmatizer\n",
    "\n",
    "def lemmatize_word(text):\n",
    "    \"\"\"\n",
    "        Lemmatize the tokenized words\n",
    "    \"\"\"\n",
    "\n",
    "    lemmatizer = WordNetLemmatizer()\n",
    "    lemma = [lemmatizer.lemmatize(word, tag) for word, tag in text]\n",
    "    return lemma"
   ]
  },
  {
   "cell_type": "markdown",
   "execution_count": null,
   "metadata": {
    "papermill": {
     "duration": 0.032579,
     "end_time": "2020-08-26T20:59:49.927664",
     "exception": false,
     "start_time": "2020-08-26T20:59:49.895085",
     "status": "completed"
    },
    "tags": []
   },
   "source": [
    "<a id=\"Lemmatization_wo_pos\"></a>\n",
    "\n",
    "### Lemmatization without POS Tagging:\n",
    "[Back To Table of Contents](#top_section)"
   ]
  },
  {
   "cell_type": "code",
   "execution_count": 34,
   "metadata": {
    "execution": {
     "iopub.execute_input": "2020-08-26T20:59:50.024510Z",
     "iopub.status.busy": "2020-08-26T20:59:50.001134Z",
     "iopub.status.idle": "2020-08-26T20:59:50.609857Z",
     "shell.execute_reply": "2020-08-26T20:59:50.609119Z"
    },
    "papermill": {
     "duration": 0.649858,
     "end_time": "2020-08-26T20:59:50.609981",
     "exception": false,
     "start_time": "2020-08-26T20:59:49.960123",
     "status": "completed"
    },
    "tags": []
   },
   "outputs": [
    {
     "name": "stdout",
     "output_type": "stream",
     "text": [
      "CPU times: user 4 µs, sys: 0 ns, total: 4 µs\n",
      "Wall time: 8.11 µs\n"
     ]
    },
    {
     "data": {
      "text/html": [
       "<div>\n",
       "<style scoped>\n",
       "    .dataframe tbody tr th:only-of-type {\n",
       "        vertical-align: middle;\n",
       "    }\n",
       "\n",
       "    .dataframe tbody tr th {\n",
       "        vertical-align: top;\n",
       "    }\n",
       "\n",
       "    .dataframe thead th {\n",
       "        text-align: right;\n",
       "    }\n",
       "</style>\n",
       "<table border=\"1\" class=\"dataframe\">\n",
       "  <thead>\n",
       "    <tr style=\"text-align: right;\">\n",
       "      <th></th>\n",
       "      <th>id</th>\n",
       "      <th>keyword</th>\n",
       "      <th>location</th>\n",
       "      <th>text</th>\n",
       "      <th>target</th>\n",
       "      <th>text_clean</th>\n",
       "      <th>tokenized</th>\n",
       "      <th>stopwords_removed</th>\n",
       "      <th>porter_stemmer</th>\n",
       "      <th>snowball_stemmer</th>\n",
       "      <th>lancaster_stemmer</th>\n",
       "      <th>combined_postag_wnet</th>\n",
       "      <th>lemmatize_word_wo_pos</th>\n",
       "    </tr>\n",
       "  </thead>\n",
       "  <tbody>\n",
       "    <tr>\n",
       "      <th>0</th>\n",
       "      <td>1</td>\n",
       "      <td>NaN</td>\n",
       "      <td>NaN</td>\n",
       "      <td>Our Deeds are the Reason of this #earthquake M...</td>\n",
       "      <td>1</td>\n",
       "      <td>our deeds are the reason of this earthquake ma...</td>\n",
       "      <td>[our, deeds, are, the, reason, of, this, earth...</td>\n",
       "      <td>[deeds, reason, earthquake, may, allah, forgiv...</td>\n",
       "      <td>[deed, reason, earthquak, may, allah, forgiv, us]</td>\n",
       "      <td>[deed, reason, earthquak, may, allah, forgiv, us]</td>\n",
       "      <td>[dee, reason, earthquak, may, allah, forg, us]</td>\n",
       "      <td>[(deeds, n), (reason, n), (earthquake, n), (ma...</td>\n",
       "      <td>[deed, reason, earthquake, may, allah, forgive...</td>\n",
       "    </tr>\n",
       "    <tr>\n",
       "      <th>1</th>\n",
       "      <td>4</td>\n",
       "      <td>NaN</td>\n",
       "      <td>NaN</td>\n",
       "      <td>Forest fire near La Ronge Sask. Canada</td>\n",
       "      <td>1</td>\n",
       "      <td>forest fire near la ronge sask canada</td>\n",
       "      <td>[forest, fire, near, la, ronge, sask, canada]</td>\n",
       "      <td>[forest, fire, near, la, ronge, sask, canada]</td>\n",
       "      <td>[forest, fire, near, la, rong, sask, canada]</td>\n",
       "      <td>[forest, fire, near, la, rong, sask, canada]</td>\n",
       "      <td>[forest, fir, near, la, rong, sask, canad]</td>\n",
       "      <td>[(forest, n), (fire, n), (near, n), (la, n), (...</td>\n",
       "      <td>[forest, fire, near, la, ronge, sask, canada]</td>\n",
       "    </tr>\n",
       "    <tr>\n",
       "      <th>2</th>\n",
       "      <td>5</td>\n",
       "      <td>NaN</td>\n",
       "      <td>NaN</td>\n",
       "      <td>All residents asked to 'shelter in place' are ...</td>\n",
       "      <td>1</td>\n",
       "      <td>all residents asked to shelter in place are be...</td>\n",
       "      <td>[all, residents, asked, to, shelter, in, place...</td>\n",
       "      <td>[residents, asked, shelter, place, notified, o...</td>\n",
       "      <td>[resid, ask, shelter, place, notifi, offic, ev...</td>\n",
       "      <td>[resid, ask, shelter, place, notifi, offic, ev...</td>\n",
       "      <td>[resid, ask, shelt, plac, not, off, evacu, she...</td>\n",
       "      <td>[(residents, n), (asked, v), (shelter, n), (pl...</td>\n",
       "      <td>[resident, asked, shelter, place, notified, of...</td>\n",
       "    </tr>\n",
       "    <tr>\n",
       "      <th>3</th>\n",
       "      <td>6</td>\n",
       "      <td>NaN</td>\n",
       "      <td>NaN</td>\n",
       "      <td>13,000 people receive #wildfires evacuation or...</td>\n",
       "      <td>1</td>\n",
       "      <td>13000 people receive wildfires evacuation orde...</td>\n",
       "      <td>[13000, people, receive, wildfires, evacuation...</td>\n",
       "      <td>[13000, people, receive, wildfires, evacuation...</td>\n",
       "      <td>[13000, peopl, receiv, wildfir, evacu, order, ...</td>\n",
       "      <td>[13000, peopl, receiv, wildfir, evacu, order, ...</td>\n",
       "      <td>[13000, peopl, receiv, wildfir, evacu, ord, ca...</td>\n",
       "      <td>[(13000, n), (people, n), (receive, v), (wildf...</td>\n",
       "      <td>[13000, people, receive, wildfire, evacuation,...</td>\n",
       "    </tr>\n",
       "    <tr>\n",
       "      <th>4</th>\n",
       "      <td>7</td>\n",
       "      <td>NaN</td>\n",
       "      <td>NaN</td>\n",
       "      <td>Just got sent this photo from Ruby #Alaska as ...</td>\n",
       "      <td>1</td>\n",
       "      <td>just got sent this photo from ruby alaska as s...</td>\n",
       "      <td>[just, got, sent, this, photo, from, ruby, ala...</td>\n",
       "      <td>[got, sent, photo, ruby, alaska, smoke, wildfi...</td>\n",
       "      <td>[got, sent, photo, rubi, alaska, smoke, wildfi...</td>\n",
       "      <td>[got, sent, photo, rubi, alaska, smoke, wildfi...</td>\n",
       "      <td>[got, sent, photo, ruby, alask, smok, wildfir,...</td>\n",
       "      <td>[(got, v), (sent, v), (photo, n), (ruby, n), (...</td>\n",
       "      <td>[got, sent, photo, ruby, alaska, smoke, wildfi...</td>\n",
       "    </tr>\n",
       "  </tbody>\n",
       "</table>\n",
       "</div>"
      ],
      "text/plain": [
       "   id keyword location                                               text  \\\n",
       "0   1     NaN      NaN  Our Deeds are the Reason of this #earthquake M...   \n",
       "1   4     NaN      NaN             Forest fire near La Ronge Sask. Canada   \n",
       "2   5     NaN      NaN  All residents asked to 'shelter in place' are ...   \n",
       "3   6     NaN      NaN  13,000 people receive #wildfires evacuation or...   \n",
       "4   7     NaN      NaN  Just got sent this photo from Ruby #Alaska as ...   \n",
       "\n",
       "   target                                         text_clean  \\\n",
       "0       1  our deeds are the reason of this earthquake ma...   \n",
       "1       1              forest fire near la ronge sask canada   \n",
       "2       1  all residents asked to shelter in place are be...   \n",
       "3       1  13000 people receive wildfires evacuation orde...   \n",
       "4       1  just got sent this photo from ruby alaska as s...   \n",
       "\n",
       "                                           tokenized  \\\n",
       "0  [our, deeds, are, the, reason, of, this, earth...   \n",
       "1      [forest, fire, near, la, ronge, sask, canada]   \n",
       "2  [all, residents, asked, to, shelter, in, place...   \n",
       "3  [13000, people, receive, wildfires, evacuation...   \n",
       "4  [just, got, sent, this, photo, from, ruby, ala...   \n",
       "\n",
       "                                   stopwords_removed  \\\n",
       "0  [deeds, reason, earthquake, may, allah, forgiv...   \n",
       "1      [forest, fire, near, la, ronge, sask, canada]   \n",
       "2  [residents, asked, shelter, place, notified, o...   \n",
       "3  [13000, people, receive, wildfires, evacuation...   \n",
       "4  [got, sent, photo, ruby, alaska, smoke, wildfi...   \n",
       "\n",
       "                                      porter_stemmer  \\\n",
       "0  [deed, reason, earthquak, may, allah, forgiv, us]   \n",
       "1       [forest, fire, near, la, rong, sask, canada]   \n",
       "2  [resid, ask, shelter, place, notifi, offic, ev...   \n",
       "3  [13000, peopl, receiv, wildfir, evacu, order, ...   \n",
       "4  [got, sent, photo, rubi, alaska, smoke, wildfi...   \n",
       "\n",
       "                                    snowball_stemmer  \\\n",
       "0  [deed, reason, earthquak, may, allah, forgiv, us]   \n",
       "1       [forest, fire, near, la, rong, sask, canada]   \n",
       "2  [resid, ask, shelter, place, notifi, offic, ev...   \n",
       "3  [13000, peopl, receiv, wildfir, evacu, order, ...   \n",
       "4  [got, sent, photo, rubi, alaska, smoke, wildfi...   \n",
       "\n",
       "                                   lancaster_stemmer  \\\n",
       "0     [dee, reason, earthquak, may, allah, forg, us]   \n",
       "1         [forest, fir, near, la, rong, sask, canad]   \n",
       "2  [resid, ask, shelt, plac, not, off, evacu, she...   \n",
       "3  [13000, peopl, receiv, wildfir, evacu, ord, ca...   \n",
       "4  [got, sent, photo, ruby, alask, smok, wildfir,...   \n",
       "\n",
       "                                combined_postag_wnet  \\\n",
       "0  [(deeds, n), (reason, n), (earthquake, n), (ma...   \n",
       "1  [(forest, n), (fire, n), (near, n), (la, n), (...   \n",
       "2  [(residents, n), (asked, v), (shelter, n), (pl...   \n",
       "3  [(13000, n), (people, n), (receive, v), (wildf...   \n",
       "4  [(got, v), (sent, v), (photo, n), (ruby, n), (...   \n",
       "\n",
       "                               lemmatize_word_wo_pos  \n",
       "0  [deed, reason, earthquake, may, allah, forgive...  \n",
       "1      [forest, fire, near, la, ronge, sask, canada]  \n",
       "2  [resident, asked, shelter, place, notified, of...  \n",
       "3  [13000, people, receive, wildfire, evacuation,...  \n",
       "4  [got, sent, photo, ruby, alaska, smoke, wildfi...  "
      ]
     },
     "execution_count": 34,
     "metadata": {},
     "output_type": "execute_result"
    }
   ],
   "source": [
    "%time \n",
    "\n",
    "# Test without POS Tagging\n",
    "lemmatizer = WordNetLemmatizer()\n",
    "\n",
    "train_df['lemmatize_word_wo_pos'] = train_df['stopwords_removed'].apply(lambda x: [lemmatizer.lemmatize(word) for word in x])\n",
    "train_df['lemmatize_word_wo_pos'] = train_df['lemmatize_word_wo_pos'].apply(lambda x: [word for word in x if word not in stop])\n",
    "train_df.head()"
   ]
  },
  {
   "cell_type": "code",
   "execution_count": 35,
   "metadata": {
    "execution": {
     "iopub.execute_input": "2020-08-26T20:59:50.684271Z",
     "iopub.status.busy": "2020-08-26T20:59:50.683165Z",
     "iopub.status.idle": "2020-08-26T20:59:50.688194Z",
     "shell.execute_reply": "2020-08-26T20:59:50.687101Z"
    },
    "papermill": {
     "duration": 0.044418,
     "end_time": "2020-08-26T20:59:50.688323",
     "exception": false,
     "start_time": "2020-08-26T20:59:50.643905",
     "status": "completed"
    },
    "scrolled": true,
    "tags": []
   },
   "outputs": [
    {
     "name": "stdout",
     "output_type": "stream",
     "text": [
      "[('emergency', 'n'), ('evacuation', 'n'), ('happening', 'v'), ('building', 'n'), ('across', 'n'), ('street', 'n')]\n",
      "['emergency', 'evacuation', 'happening', 'building', 'across', 'street']\n"
     ]
    }
   ],
   "source": [
    "print(train_df[\"combined_postag_wnet\"][8])\n",
    "print(train_df[\"lemmatize_word_wo_pos\"][8])"
   ]
  },
  {
   "cell_type": "markdown",
   "execution_count": null,
   "metadata": {
    "papermill": {
     "duration": 0.033049,
     "end_time": "2020-08-26T20:59:50.755268",
     "exception": false,
     "start_time": "2020-08-26T20:59:50.722219",
     "status": "completed"
    },
    "tags": []
   },
   "source": [
    "<a id=\"Lemmatization_w_pos\"></a>\n",
    "\n",
    "### Lemmatization with POS Tagging:\n",
    "[Back To Table of Contents](#top_section)"
   ]
  },
  {
   "cell_type": "code",
   "execution_count": 36,
   "metadata": {
    "execution": {
     "iopub.execute_input": "2020-08-26T20:59:50.844382Z",
     "iopub.status.busy": "2020-08-26T20:59:50.830191Z",
     "iopub.status.idle": "2020-08-26T20:59:51.477838Z",
     "shell.execute_reply": "2020-08-26T20:59:51.477130Z"
    },
    "papermill": {
     "duration": 0.689579,
     "end_time": "2020-08-26T20:59:51.477965",
     "exception": false,
     "start_time": "2020-08-26T20:59:50.788386",
     "status": "completed"
    },
    "tags": []
   },
   "outputs": [
    {
     "name": "stdout",
     "output_type": "stream",
     "text": [
      "CPU times: user 3 µs, sys: 0 ns, total: 3 µs\n",
      "Wall time: 7.63 µs\n"
     ]
    },
    {
     "data": {
      "text/html": [
       "<div>\n",
       "<style scoped>\n",
       "    .dataframe tbody tr th:only-of-type {\n",
       "        vertical-align: middle;\n",
       "    }\n",
       "\n",
       "    .dataframe tbody tr th {\n",
       "        vertical-align: top;\n",
       "    }\n",
       "\n",
       "    .dataframe thead th {\n",
       "        text-align: right;\n",
       "    }\n",
       "</style>\n",
       "<table border=\"1\" class=\"dataframe\">\n",
       "  <thead>\n",
       "    <tr style=\"text-align: right;\">\n",
       "      <th></th>\n",
       "      <th>id</th>\n",
       "      <th>keyword</th>\n",
       "      <th>location</th>\n",
       "      <th>text</th>\n",
       "      <th>target</th>\n",
       "      <th>text_clean</th>\n",
       "      <th>tokenized</th>\n",
       "      <th>stopwords_removed</th>\n",
       "      <th>porter_stemmer</th>\n",
       "      <th>snowball_stemmer</th>\n",
       "      <th>lancaster_stemmer</th>\n",
       "      <th>combined_postag_wnet</th>\n",
       "      <th>lemmatize_word_wo_pos</th>\n",
       "      <th>lemmatize_word_w_pos</th>\n",
       "      <th>lemmatize_text</th>\n",
       "    </tr>\n",
       "  </thead>\n",
       "  <tbody>\n",
       "    <tr>\n",
       "      <th>0</th>\n",
       "      <td>1</td>\n",
       "      <td>NaN</td>\n",
       "      <td>NaN</td>\n",
       "      <td>Our Deeds are the Reason of this #earthquake M...</td>\n",
       "      <td>1</td>\n",
       "      <td>our deeds are the reason of this earthquake ma...</td>\n",
       "      <td>[our, deeds, are, the, reason, of, this, earth...</td>\n",
       "      <td>[deeds, reason, earthquake, may, allah, forgiv...</td>\n",
       "      <td>[deed, reason, earthquak, may, allah, forgiv, us]</td>\n",
       "      <td>[deed, reason, earthquak, may, allah, forgiv, us]</td>\n",
       "      <td>[dee, reason, earthquak, may, allah, forg, us]</td>\n",
       "      <td>[(deeds, n), (reason, n), (earthquake, n), (ma...</td>\n",
       "      <td>[deed, reason, earthquake, may, allah, forgive...</td>\n",
       "      <td>[deed, reason, earthquake, may, allah, forgive...</td>\n",
       "      <td>deed reason earthquake may allah forgive u</td>\n",
       "    </tr>\n",
       "    <tr>\n",
       "      <th>1</th>\n",
       "      <td>4</td>\n",
       "      <td>NaN</td>\n",
       "      <td>NaN</td>\n",
       "      <td>Forest fire near La Ronge Sask. Canada</td>\n",
       "      <td>1</td>\n",
       "      <td>forest fire near la ronge sask canada</td>\n",
       "      <td>[forest, fire, near, la, ronge, sask, canada]</td>\n",
       "      <td>[forest, fire, near, la, ronge, sask, canada]</td>\n",
       "      <td>[forest, fire, near, la, rong, sask, canada]</td>\n",
       "      <td>[forest, fire, near, la, rong, sask, canada]</td>\n",
       "      <td>[forest, fir, near, la, rong, sask, canad]</td>\n",
       "      <td>[(forest, n), (fire, n), (near, n), (la, n), (...</td>\n",
       "      <td>[forest, fire, near, la, ronge, sask, canada]</td>\n",
       "      <td>[forest, fire, near, la, ronge, sask, canada]</td>\n",
       "      <td>forest fire near la ronge sask canada</td>\n",
       "    </tr>\n",
       "    <tr>\n",
       "      <th>2</th>\n",
       "      <td>5</td>\n",
       "      <td>NaN</td>\n",
       "      <td>NaN</td>\n",
       "      <td>All residents asked to 'shelter in place' are ...</td>\n",
       "      <td>1</td>\n",
       "      <td>all residents asked to shelter in place are be...</td>\n",
       "      <td>[all, residents, asked, to, shelter, in, place...</td>\n",
       "      <td>[residents, asked, shelter, place, notified, o...</td>\n",
       "      <td>[resid, ask, shelter, place, notifi, offic, ev...</td>\n",
       "      <td>[resid, ask, shelter, place, notifi, offic, ev...</td>\n",
       "      <td>[resid, ask, shelt, plac, not, off, evacu, she...</td>\n",
       "      <td>[(residents, n), (asked, v), (shelter, n), (pl...</td>\n",
       "      <td>[resident, asked, shelter, place, notified, of...</td>\n",
       "      <td>[resident, ask, shelter, place, notified, offi...</td>\n",
       "      <td>resident ask shelter place notified officer ev...</td>\n",
       "    </tr>\n",
       "    <tr>\n",
       "      <th>3</th>\n",
       "      <td>6</td>\n",
       "      <td>NaN</td>\n",
       "      <td>NaN</td>\n",
       "      <td>13,000 people receive #wildfires evacuation or...</td>\n",
       "      <td>1</td>\n",
       "      <td>13000 people receive wildfires evacuation orde...</td>\n",
       "      <td>[13000, people, receive, wildfires, evacuation...</td>\n",
       "      <td>[13000, people, receive, wildfires, evacuation...</td>\n",
       "      <td>[13000, peopl, receiv, wildfir, evacu, order, ...</td>\n",
       "      <td>[13000, peopl, receiv, wildfir, evacu, order, ...</td>\n",
       "      <td>[13000, peopl, receiv, wildfir, evacu, ord, ca...</td>\n",
       "      <td>[(13000, n), (people, n), (receive, v), (wildf...</td>\n",
       "      <td>[13000, people, receive, wildfire, evacuation,...</td>\n",
       "      <td>[13000, people, receive, wildfire, evacuation,...</td>\n",
       "      <td>13000 people receive wildfire evacuation order...</td>\n",
       "    </tr>\n",
       "    <tr>\n",
       "      <th>4</th>\n",
       "      <td>7</td>\n",
       "      <td>NaN</td>\n",
       "      <td>NaN</td>\n",
       "      <td>Just got sent this photo from Ruby #Alaska as ...</td>\n",
       "      <td>1</td>\n",
       "      <td>just got sent this photo from ruby alaska as s...</td>\n",
       "      <td>[just, got, sent, this, photo, from, ruby, ala...</td>\n",
       "      <td>[got, sent, photo, ruby, alaska, smoke, wildfi...</td>\n",
       "      <td>[got, sent, photo, rubi, alaska, smoke, wildfi...</td>\n",
       "      <td>[got, sent, photo, rubi, alaska, smoke, wildfi...</td>\n",
       "      <td>[got, sent, photo, ruby, alask, smok, wildfir,...</td>\n",
       "      <td>[(got, v), (sent, v), (photo, n), (ruby, n), (...</td>\n",
       "      <td>[got, sent, photo, ruby, alaska, smoke, wildfi...</td>\n",
       "      <td>[get, send, photo, ruby, alaska, smoke, wildfi...</td>\n",
       "      <td>get send photo ruby alaska smoke wildfire pour...</td>\n",
       "    </tr>\n",
       "  </tbody>\n",
       "</table>\n",
       "</div>"
      ],
      "text/plain": [
       "   id keyword location                                               text  \\\n",
       "0   1     NaN      NaN  Our Deeds are the Reason of this #earthquake M...   \n",
       "1   4     NaN      NaN             Forest fire near La Ronge Sask. Canada   \n",
       "2   5     NaN      NaN  All residents asked to 'shelter in place' are ...   \n",
       "3   6     NaN      NaN  13,000 people receive #wildfires evacuation or...   \n",
       "4   7     NaN      NaN  Just got sent this photo from Ruby #Alaska as ...   \n",
       "\n",
       "   target                                         text_clean  \\\n",
       "0       1  our deeds are the reason of this earthquake ma...   \n",
       "1       1              forest fire near la ronge sask canada   \n",
       "2       1  all residents asked to shelter in place are be...   \n",
       "3       1  13000 people receive wildfires evacuation orde...   \n",
       "4       1  just got sent this photo from ruby alaska as s...   \n",
       "\n",
       "                                           tokenized  \\\n",
       "0  [our, deeds, are, the, reason, of, this, earth...   \n",
       "1      [forest, fire, near, la, ronge, sask, canada]   \n",
       "2  [all, residents, asked, to, shelter, in, place...   \n",
       "3  [13000, people, receive, wildfires, evacuation...   \n",
       "4  [just, got, sent, this, photo, from, ruby, ala...   \n",
       "\n",
       "                                   stopwords_removed  \\\n",
       "0  [deeds, reason, earthquake, may, allah, forgiv...   \n",
       "1      [forest, fire, near, la, ronge, sask, canada]   \n",
       "2  [residents, asked, shelter, place, notified, o...   \n",
       "3  [13000, people, receive, wildfires, evacuation...   \n",
       "4  [got, sent, photo, ruby, alaska, smoke, wildfi...   \n",
       "\n",
       "                                      porter_stemmer  \\\n",
       "0  [deed, reason, earthquak, may, allah, forgiv, us]   \n",
       "1       [forest, fire, near, la, rong, sask, canada]   \n",
       "2  [resid, ask, shelter, place, notifi, offic, ev...   \n",
       "3  [13000, peopl, receiv, wildfir, evacu, order, ...   \n",
       "4  [got, sent, photo, rubi, alaska, smoke, wildfi...   \n",
       "\n",
       "                                    snowball_stemmer  \\\n",
       "0  [deed, reason, earthquak, may, allah, forgiv, us]   \n",
       "1       [forest, fire, near, la, rong, sask, canada]   \n",
       "2  [resid, ask, shelter, place, notifi, offic, ev...   \n",
       "3  [13000, peopl, receiv, wildfir, evacu, order, ...   \n",
       "4  [got, sent, photo, rubi, alaska, smoke, wildfi...   \n",
       "\n",
       "                                   lancaster_stemmer  \\\n",
       "0     [dee, reason, earthquak, may, allah, forg, us]   \n",
       "1         [forest, fir, near, la, rong, sask, canad]   \n",
       "2  [resid, ask, shelt, plac, not, off, evacu, she...   \n",
       "3  [13000, peopl, receiv, wildfir, evacu, ord, ca...   \n",
       "4  [got, sent, photo, ruby, alask, smok, wildfir,...   \n",
       "\n",
       "                                combined_postag_wnet  \\\n",
       "0  [(deeds, n), (reason, n), (earthquake, n), (ma...   \n",
       "1  [(forest, n), (fire, n), (near, n), (la, n), (...   \n",
       "2  [(residents, n), (asked, v), (shelter, n), (pl...   \n",
       "3  [(13000, n), (people, n), (receive, v), (wildf...   \n",
       "4  [(got, v), (sent, v), (photo, n), (ruby, n), (...   \n",
       "\n",
       "                               lemmatize_word_wo_pos  \\\n",
       "0  [deed, reason, earthquake, may, allah, forgive...   \n",
       "1      [forest, fire, near, la, ronge, sask, canada]   \n",
       "2  [resident, asked, shelter, place, notified, of...   \n",
       "3  [13000, people, receive, wildfire, evacuation,...   \n",
       "4  [got, sent, photo, ruby, alaska, smoke, wildfi...   \n",
       "\n",
       "                                lemmatize_word_w_pos  \\\n",
       "0  [deed, reason, earthquake, may, allah, forgive...   \n",
       "1      [forest, fire, near, la, ronge, sask, canada]   \n",
       "2  [resident, ask, shelter, place, notified, offi...   \n",
       "3  [13000, people, receive, wildfire, evacuation,...   \n",
       "4  [get, send, photo, ruby, alaska, smoke, wildfi...   \n",
       "\n",
       "                                      lemmatize_text  \n",
       "0         deed reason earthquake may allah forgive u  \n",
       "1              forest fire near la ronge sask canada  \n",
       "2  resident ask shelter place notified officer ev...  \n",
       "3  13000 people receive wildfire evacuation order...  \n",
       "4  get send photo ruby alaska smoke wildfire pour...  "
      ]
     },
     "execution_count": 36,
     "metadata": {},
     "output_type": "execute_result"
    }
   ],
   "source": [
    "%time \n",
    "\n",
    "# Test with POS Tagging\n",
    "lemmatizer = WordNetLemmatizer()\n",
    "\n",
    "train_df['lemmatize_word_w_pos'] = train_df['combined_postag_wnet'].apply(lambda x: lemmatize_word(x))\n",
    "train_df['lemmatize_word_w_pos'] = train_df['lemmatize_word_w_pos'].apply(lambda x: [word for word in x if word not in stop]) # double check to remove stop words\n",
    "train_df['lemmatize_text'] = [' '.join(map(str, l)) for l in train_df['lemmatize_word_w_pos']] # join back to text\n",
    "\n",
    "train_df.head()"
   ]
  },
  {
   "cell_type": "markdown",
   "execution_count": null,
   "metadata": {
    "papermill": {
     "duration": 0.033379,
     "end_time": "2020-08-26T20:59:51.545204",
     "exception": false,
     "start_time": "2020-08-26T20:59:51.511825",
     "status": "completed"
    },
    "tags": []
   },
   "source": [
    "Comparing the output of Lemmatization on non-POS-Tagging and POS-Tagging output. We can see in the original text, the word \\\" happening\\\" is a verb and was corrected assigned as a verb by POS-tagging stage, then Lemmatize accurately with back as \\\"happen\\\" but lemmatized without-POS-tagging resulted in \\\"happening\\\" is not correct. "
   ]
  },
  {
   "cell_type": "code",
   "execution_count": 37,
   "metadata": {
    "execution": {
     "iopub.execute_input": "2020-08-26T20:59:51.621662Z",
     "iopub.status.busy": "2020-08-26T20:59:51.620730Z",
     "iopub.status.idle": "2020-08-26T20:59:51.625895Z",
     "shell.execute_reply": "2020-08-26T20:59:51.625054Z"
    },
    "papermill": {
     "duration": 0.046845,
     "end_time": "2020-08-26T20:59:51.626059",
     "exception": false,
     "start_time": "2020-08-26T20:59:51.579214",
     "status": "completed"
    },
    "tags": []
   },
   "outputs": [
    {
     "name": "stdout",
     "output_type": "stream",
     "text": [
      "There's an emergency evacuation happening now in the building across the street\n",
      "[('emergency', 'n'), ('evacuation', 'n'), ('happening', 'v'), ('building', 'n'), ('across', 'n'), ('street', 'n')]\n",
      "['emergency', 'evacuation', 'happening', 'building', 'across', 'street']\n",
      "['emergency', 'evacuation', 'happen', 'building', 'across', 'street']\n"
     ]
    }
   ],
   "source": [
    "print(train_df[\"text\"][8])\n",
    "print(train_df[\"combined_postag_wnet\"][8])\n",
    "print(train_df[\"lemmatize_word_wo_pos\"][8])\n",
    "print(train_df[\"lemmatize_word_w_pos\"][8])"
   ]
  },
  {
   "cell_type": "markdown",
   "execution_count": null,
   "metadata": {
    "papermill": {
     "duration": 0.03355,
     "end_time": "2020-08-26T20:59:51.694091",
     "exception": false,
     "start_time": "2020-08-26T20:59:51.660541",
     "status": "completed"
    },
    "tags": []
   },
   "source": [
    "Comparison between original text and the lammatized text:"
   ]
  },
  {
   "cell_type": "code",
   "execution_count": 38,
   "metadata": {
    "execution": {
     "iopub.execute_input": "2020-08-26T20:59:51.772881Z",
     "iopub.status.busy": "2020-08-26T20:59:51.771976Z",
     "iopub.status.idle": "2020-08-26T20:59:51.791431Z",
     "shell.execute_reply": "2020-08-26T20:59:51.790716Z"
    },
    "papermill": {
     "duration": 0.061663,
     "end_time": "2020-08-26T20:59:51.791558",
     "exception": false,
     "start_time": "2020-08-26T20:59:51.729895",
     "status": "completed"
    },
    "tags": []
   },
   "outputs": [
    {
     "data": {
      "text/plain": [
       "'Our Deeds are the Reason of this #earthquake May ALLAH Forgive us all'"
      ]
     },
     "metadata": {},
     "output_type": "display_data"
    },
    {
     "data": {
      "text/plain": [
       "'deed reason earthquake may allah forgive u'"
      ]
     },
     "metadata": {},
     "output_type": "display_data"
    },
    {
     "data": {
      "text/plain": [
       "'#RockyFire Update => California Hwy. 20 closed in both directions due to Lake County fire - #CAfire #wildfires'"
      ]
     },
     "metadata": {},
     "output_type": "display_data"
    },
    {
     "data": {
      "text/plain": [
       "'rockyfire update california hwy 20 close direction due lake county fire cafire wildfire'"
      ]
     },
     "metadata": {},
     "output_type": "display_data"
    },
    {
     "data": {
      "text/plain": [
       "'Three people died from the heat wave so far'"
      ]
     },
     "metadata": {},
     "output_type": "display_data"
    },
    {
     "data": {
      "text/plain": [
       "'three people die heat wave far'"
      ]
     },
     "metadata": {},
     "output_type": "display_data"
    },
    {
     "data": {
      "text/plain": [
       "\"What's up man?\""
      ]
     },
     "metadata": {},
     "output_type": "display_data"
    },
    {
     "data": {
      "text/plain": [
       "'man'"
      ]
     },
     "metadata": {},
     "output_type": "display_data"
    },
    {
     "data": {
      "text/plain": [
       "'this is ridiculous....'"
      ]
     },
     "metadata": {},
     "output_type": "display_data"
    },
    {
     "data": {
      "text/plain": [
       "'ridiculous'"
      ]
     },
     "metadata": {},
     "output_type": "display_data"
    }
   ],
   "source": [
    "display(train_df[\"text\"][0], train_df[\"lemmatize_text\"][0])\n",
    "display(train_df[\"text\"][5], train_df[\"lemmatize_text\"][5])\n",
    "display(train_df[\"text\"][10], train_df[\"lemmatize_text\"][10])\n",
    "display(train_df[\"text\"][15], train_df[\"lemmatize_text\"][15])\n",
    "display(train_df[\"text\"][20], train_df[\"lemmatize_text\"][20])"
   ]
  },
  {
   "cell_type": "markdown",
   "execution_count": null,
   "metadata": {
    "papermill": {
     "duration": 0.034818,
     "end_time": "2020-08-26T20:59:51.861479",
     "exception": false,
     "start_time": "2020-08-26T20:59:51.826661",
     "status": "completed"
    },
    "tags": []
   },
   "source": [
    "<a id=\"Other_Text_Preprocessing\"></a>\n",
    "\n",
    "## Other (Optional) Text Preprocessing Techniques:\n",
    "- language detection\n",
    "- Code mixing and transliteration\n",
    "\n",
    "<a id=\"Language_Detection\"></a>\n",
    "### Language Detection:\n",
    "We will use the package [polyglot](https://github.com/aboSamoor/polyglot) for language detection\n",
    "\n",
    "[Back To Table of Contents](#top_section)"
   ]
  },
  {
   "cell_type": "code",
   "execution_count": 39,
   "metadata": {
    "execution": {
     "iopub.execute_input": "2020-08-26T20:59:51.940311Z",
     "iopub.status.busy": "2020-08-26T20:59:51.939555Z",
     "iopub.status.idle": "2020-08-26T21:01:37.950575Z",
     "shell.execute_reply": "2020-08-26T21:01:37.949748Z"
    },
    "papermill": {
     "duration": 106.054097,
     "end_time": "2020-08-26T21:01:37.950709",
     "exception": false,
     "start_time": "2020-08-26T20:59:51.896612",
     "status": "completed"
    },
    "scrolled": true,
    "tags": []
   },
   "outputs": [
    {
     "name": "stdout",
     "output_type": "stream",
     "text": [
      "Collecting pyicu\r\n",
      "  Downloading PyICU-2.5.tar.gz (225 kB)\r\n",
      "\u001b[K     |████████████████████████████████| 225 kB 605 kB/s \r\n",
      "\u001b[?25hBuilding wheels for collected packages: pyicu\r\n",
      "  Building wheel for pyicu (setup.py) ... \u001b[?25l-\b \b\\\b \b|\b \b/\b \b-\b \b\\\b \b|\b \b/\b \b-\b \b\\\b \b|\b \b/\b \b-\b \b\\\b \b|\b \b/\b \b-\b \b\\\b \b|\b \b/\b \b-\b \b\\\b \b|\b \b/\b \b-\b \b\\\b \b|\b \b/\b \b-\b \b\\\b \b|\b \b/\b \b-\b \bdone\r\n",
      "\u001b[?25h  Created wheel for pyicu: filename=PyICU-2.5-cp37-cp37m-linux_x86_64.whl size=1390001 sha256=036c4bf2b9cf94c9f8db3bfee2a46513c68f44d8a4f5dd62c0d4d9df3a3783ed\r\n",
      "  Stored in directory: /root/.cache/pip/wheels/35/7a/5d/1c1d6dfc4db8ecd2682b753146b7d1c8af1f1babfd2babf834\r\n",
      "Successfully built pyicu\r\n",
      "Installing collected packages: pyicu\r\n",
      "Successfully installed pyicu-2.5\r\n",
      "\u001b[33mWARNING: You are using pip version 20.2.1; however, version 20.2.2 is available.\r\n",
      "You should consider upgrading via the '/opt/conda/bin/python3.7 -m pip install --upgrade pip' command.\u001b[0m\r\n",
      "Collecting pycld2\r\n",
      "  Downloading pycld2-0.41.tar.gz (41.4 MB)\r\n",
      "\u001b[K     |████████████████████████████████| 41.4 MB 157 kB/s \r\n",
      "\u001b[?25hBuilding wheels for collected packages: pycld2\r\n",
      "  Building wheel for pycld2 (setup.py) ... \u001b[?25l-\b \b\\\b \b|\b \b/\b \b-\b \b\\\b \b|\b \b/\b \b-\b \b\\\b \b|\b \b/\b \b-\b \b\\\b \b|\b \b/\b \b-\b \b\\\b \b|\b \b/\b \b-\b \b\\\b \b|\b \b/\b \bdone\r\n",
      "\u001b[?25h  Created wheel for pycld2: filename=pycld2-0.41-cp37-cp37m-linux_x86_64.whl size=9834287 sha256=bb75e3381c947270826c97ba87b47baf71e43966cd1aab26650c614b0b23640b\r\n",
      "  Stored in directory: /root/.cache/pip/wheels/ed/e4/58/ed2e9f43c07d617cc81fe7aff0fc6e42b16c9cf6afe960b614\r\n",
      "Successfully built pycld2\r\n",
      "Installing collected packages: pycld2\r\n",
      "Successfully installed pycld2-0.41\r\n",
      "\u001b[33mWARNING: You are using pip version 20.2.1; however, version 20.2.2 is available.\r\n",
      "You should consider upgrading via the '/opt/conda/bin/python3.7 -m pip install --upgrade pip' command.\u001b[0m\r\n",
      "Requirement already satisfied: polyglot in /opt/conda/lib/python3.7/site-packages (16.7.4)\r\n",
      "\u001b[33mWARNING: You are using pip version 20.2.1; however, version 20.2.2 is available.\r\n",
      "You should consider upgrading via the '/opt/conda/bin/python3.7 -m pip install --upgrade pip' command.\u001b[0m\r\n"
     ]
    }
   ],
   "source": [
    "# Install the main polygot and other neccesary packages\n",
    "!pip install pyicu\n",
    "!pip install pycld2\n",
    "!pip install polyglot"
   ]
  },
  {
   "cell_type": "markdown",
   "execution_count": null,
   "metadata": {
    "papermill": {
     "duration": 0.052664,
     "end_time": "2020-08-26T21:01:38.056979",
     "exception": false,
     "start_time": "2020-08-26T21:01:38.004315",
     "status": "completed"
    },
    "tags": []
   },
   "source": [
    "We will use the \"Jigsaw Multilingual Toxic Comment Classification\" dataset for this case as the dataset is multilingual"
   ]
  },
  {
   "cell_type": "code",
   "execution_count": 40,
   "metadata": {
    "execution": {
     "iopub.execute_input": "2020-08-26T21:01:38.170693Z",
     "iopub.status.busy": "2020-08-26T21:01:38.169892Z",
     "iopub.status.idle": "2020-08-26T21:01:39.459301Z",
     "shell.execute_reply": "2020-08-26T21:01:39.459920Z"
    },
    "papermill": {
     "duration": 1.350156,
     "end_time": "2020-08-26T21:01:39.460079",
     "exception": false,
     "start_time": "2020-08-26T21:01:38.109923",
     "status": "completed"
    },
    "scrolled": true,
    "tags": []
   },
   "outputs": [
    {
     "name": "stdout",
     "output_type": "stream",
     "text": [
      "(223549, 8)\n"
     ]
    },
    {
     "data": {
      "text/html": [
       "<div>\n",
       "<style scoped>\n",
       "    .dataframe tbody tr th:only-of-type {\n",
       "        vertical-align: middle;\n",
       "    }\n",
       "\n",
       "    .dataframe tbody tr th {\n",
       "        vertical-align: top;\n",
       "    }\n",
       "\n",
       "    .dataframe thead th {\n",
       "        text-align: right;\n",
       "    }\n",
       "</style>\n",
       "<table border=\"1\" class=\"dataframe\">\n",
       "  <thead>\n",
       "    <tr style=\"text-align: right;\">\n",
       "      <th></th>\n",
       "      <th>id</th>\n",
       "      <th>comment_text</th>\n",
       "      <th>toxic</th>\n",
       "      <th>severe_toxic</th>\n",
       "      <th>obscene</th>\n",
       "      <th>threat</th>\n",
       "      <th>insult</th>\n",
       "      <th>identity_hate</th>\n",
       "    </tr>\n",
       "  </thead>\n",
       "  <tbody>\n",
       "    <tr>\n",
       "      <th>0</th>\n",
       "      <td>0000997932d777bf</td>\n",
       "      <td>Explanation\\nWhy the edits made under my usern...</td>\n",
       "      <td>0</td>\n",
       "      <td>0</td>\n",
       "      <td>0</td>\n",
       "      <td>0</td>\n",
       "      <td>0</td>\n",
       "      <td>0</td>\n",
       "    </tr>\n",
       "    <tr>\n",
       "      <th>1</th>\n",
       "      <td>000103f0d9cfb60f</td>\n",
       "      <td>D'aww! He matches this background colour I'm s...</td>\n",
       "      <td>0</td>\n",
       "      <td>0</td>\n",
       "      <td>0</td>\n",
       "      <td>0</td>\n",
       "      <td>0</td>\n",
       "      <td>0</td>\n",
       "    </tr>\n",
       "    <tr>\n",
       "      <th>2</th>\n",
       "      <td>000113f07ec002fd</td>\n",
       "      <td>Hey man, I'm really not trying to edit war. It...</td>\n",
       "      <td>0</td>\n",
       "      <td>0</td>\n",
       "      <td>0</td>\n",
       "      <td>0</td>\n",
       "      <td>0</td>\n",
       "      <td>0</td>\n",
       "    </tr>\n",
       "    <tr>\n",
       "      <th>3</th>\n",
       "      <td>0001b41b1c6bb37e</td>\n",
       "      <td>\"\\nMore\\nI can't make any real suggestions on ...</td>\n",
       "      <td>0</td>\n",
       "      <td>0</td>\n",
       "      <td>0</td>\n",
       "      <td>0</td>\n",
       "      <td>0</td>\n",
       "      <td>0</td>\n",
       "    </tr>\n",
       "    <tr>\n",
       "      <th>4</th>\n",
       "      <td>0001d958c54c6e35</td>\n",
       "      <td>You, sir, are my hero. Any chance you remember...</td>\n",
       "      <td>0</td>\n",
       "      <td>0</td>\n",
       "      <td>0</td>\n",
       "      <td>0</td>\n",
       "      <td>0</td>\n",
       "      <td>0</td>\n",
       "    </tr>\n",
       "  </tbody>\n",
       "</table>\n",
       "</div>"
      ],
      "text/plain": [
       "                 id                                       comment_text  toxic  \\\n",
       "0  0000997932d777bf  Explanation\\nWhy the edits made under my usern...      0   \n",
       "1  000103f0d9cfb60f  D'aww! He matches this background colour I'm s...      0   \n",
       "2  000113f07ec002fd  Hey man, I'm really not trying to edit war. It...      0   \n",
       "3  0001b41b1c6bb37e  \"\\nMore\\nI can't make any real suggestions on ...      0   \n",
       "4  0001d958c54c6e35  You, sir, are my hero. Any chance you remember...      0   \n",
       "\n",
       "   severe_toxic  obscene  threat  insult  identity_hate  \n",
       "0             0        0       0       0              0  \n",
       "1             0        0       0       0              0  \n",
       "2             0        0       0       0              0  \n",
       "3             0        0       0       0              0  \n",
       "4             0        0       0       0              0  "
      ]
     },
     "execution_count": 40,
     "metadata": {},
     "output_type": "execute_result"
    }
   ],
   "source": [
    "train_df_jmtc = pd.read_csv(\"../input/jigsaw-multilingual-toxic-comment-classification/jigsaw-toxic-comment-train.csv\")\n",
    "print(train_df_jmtc.shape)\n",
    "train_df_jmtc.head()"
   ]
  },
  {
   "cell_type": "code",
   "execution_count": 41,
   "metadata": {
    "execution": {
     "iopub.execute_input": "2020-08-26T21:01:39.581174Z",
     "iopub.status.busy": "2020-08-26T21:01:39.580393Z",
     "iopub.status.idle": "2020-08-26T21:02:08.154616Z",
     "shell.execute_reply": "2020-08-26T21:02:08.155213Z"
    },
    "papermill": {
     "duration": 28.642268,
     "end_time": "2020-08-26T21:02:08.155379",
     "exception": false,
     "start_time": "2020-08-26T21:01:39.513111",
     "status": "completed"
    },
    "tags": []
   },
   "outputs": [
    {
     "name": "stdout",
     "output_type": "stream",
     "text": [
      "CPU times: user 4 µs, sys: 0 ns, total: 4 µs\n",
      "Wall time: 8.58 µs\n"
     ]
    },
    {
     "data": {
      "text/html": [
       "<div>\n",
       "<style scoped>\n",
       "    .dataframe tbody tr th:only-of-type {\n",
       "        vertical-align: middle;\n",
       "    }\n",
       "\n",
       "    .dataframe tbody tr th {\n",
       "        vertical-align: top;\n",
       "    }\n",
       "\n",
       "    .dataframe thead th {\n",
       "        text-align: right;\n",
       "    }\n",
       "</style>\n",
       "<table border=\"1\" class=\"dataframe\">\n",
       "  <thead>\n",
       "    <tr style=\"text-align: right;\">\n",
       "      <th></th>\n",
       "      <th>id</th>\n",
       "      <th>comment_text</th>\n",
       "      <th>toxic</th>\n",
       "      <th>severe_toxic</th>\n",
       "      <th>obscene</th>\n",
       "      <th>threat</th>\n",
       "      <th>insult</th>\n",
       "      <th>identity_hate</th>\n",
       "      <th>lang</th>\n",
       "    </tr>\n",
       "  </thead>\n",
       "  <tbody>\n",
       "    <tr>\n",
       "      <th>823</th>\n",
       "      <td>0232e2de22311164</td>\n",
       "      <td>Barnes                  Aus     1             ...</td>\n",
       "      <td>0</td>\n",
       "      <td>0</td>\n",
       "      <td>0</td>\n",
       "      <td>0</td>\n",
       "      <td>0</td>\n",
       "      <td>0</td>\n",
       "      <td>de</td>\n",
       "    </tr>\n",
       "    <tr>\n",
       "      <th>7926</th>\n",
       "      <td>151aa1666765c07e</td>\n",
       "      <td>Ludwig Gaston von Sachsen tranlsation</td>\n",
       "      <td>0</td>\n",
       "      <td>0</td>\n",
       "      <td>0</td>\n",
       "      <td>0</td>\n",
       "      <td>0</td>\n",
       "      <td>0</td>\n",
       "      <td>de</td>\n",
       "    </tr>\n",
       "    <tr>\n",
       "      <th>8130</th>\n",
       "      <td>15a16bd0a05f4149</td>\n",
       "      <td>Achtung y'all...</td>\n",
       "      <td>0</td>\n",
       "      <td>0</td>\n",
       "      <td>0</td>\n",
       "      <td>0</td>\n",
       "      <td>0</td>\n",
       "      <td>0</td>\n",
       "      <td>de</td>\n",
       "    </tr>\n",
       "    <tr>\n",
       "      <th>14511</th>\n",
       "      <td>264de751867452ba</td>\n",
       "      <td>No problem, in fact looking back I didn't ment...</td>\n",
       "      <td>0</td>\n",
       "      <td>0</td>\n",
       "      <td>0</td>\n",
       "      <td>0</td>\n",
       "      <td>0</td>\n",
       "      <td>0</td>\n",
       "      <td>de</td>\n",
       "    </tr>\n",
       "    <tr>\n",
       "      <th>20385</th>\n",
       "      <td>35cf8f60fe8bf9f9</td>\n",
       "      <td>Today is the day, were we lost 2 Mio people \\n...</td>\n",
       "      <td>0</td>\n",
       "      <td>0</td>\n",
       "      <td>0</td>\n",
       "      <td>0</td>\n",
       "      <td>0</td>\n",
       "      <td>0</td>\n",
       "      <td>de</td>\n",
       "    </tr>\n",
       "  </tbody>\n",
       "</table>\n",
       "</div>"
      ],
      "text/plain": [
       "                     id                                       comment_text  \\\n",
       "823    0232e2de22311164  Barnes                  Aus     1             ...   \n",
       "7926   151aa1666765c07e              Ludwig Gaston von Sachsen tranlsation   \n",
       "8130   15a16bd0a05f4149                                   Achtung y'all...   \n",
       "14511  264de751867452ba  No problem, in fact looking back I didn't ment...   \n",
       "20385  35cf8f60fe8bf9f9  Today is the day, were we lost 2 Mio people \\n...   \n",
       "\n",
       "       toxic  severe_toxic  obscene  threat  insult  identity_hate lang  \n",
       "823        0             0        0       0       0              0   de  \n",
       "7926       0             0        0       0       0              0   de  \n",
       "8130       0             0        0       0       0              0   de  \n",
       "14511      0             0        0       0       0              0   de  \n",
       "20385      0             0        0       0       0              0   de  "
      ]
     },
     "metadata": {},
     "output_type": "display_data"
    },
    {
     "name": "stdout",
     "output_type": "stream",
     "text": [
      "Barnes                  Aus     1                       1       8\n",
      "Achtung y'all...\n",
      "No problem, in fact looking back I didn't mention in the summary the it was mentioned twice elsewhere, only that it shouldn't be in the into. Ist ja nix passiert. Und danke dafür dass du die Warnung durchgestrichen hast. talk\n"
     ]
    }
   ],
   "source": [
    "%time \n",
    "from polyglot.detect import Detector\n",
    "\n",
    "def get_language(text):\n",
    "    return Detector(\"\".join(x for x in text if x.isprintable()), quiet=True).languages[0].name\n",
    "\n",
    "train_df_jmtc[\"lang\"] = train_df_jmtc[\"comment_text\"].apply(lambda x: get_language(x))\n",
    "\n",
    "#Test\n",
    "display(train_df_jmtc[train_df_jmtc[\"lang\"] == \"de\"].head())\n",
    "print(train_df_jmtc[\"comment_text\"][823])\n",
    "print(train_df_jmtc[\"comment_text\"][8130])\n",
    "print(train_df_jmtc[\"comment_text\"][14511])"
   ]
  },
  {
   "cell_type": "code",
   "execution_count": 42,
   "metadata": {
    "execution": {
     "iopub.execute_input": "2020-08-26T21:02:08.281522Z",
     "iopub.status.busy": "2020-08-26T21:02:08.280475Z",
     "iopub.status.idle": "2020-08-26T21:02:08.283979Z",
     "shell.execute_reply": "2020-08-26T21:02:08.283384Z"
    },
    "papermill": {
     "duration": 0.075611,
     "end_time": "2020-08-26T21:02:08.284108",
     "exception": false,
     "start_time": "2020-08-26T21:02:08.208497",
     "status": "completed"
    },
    "tags": []
   },
   "outputs": [],
   "source": [
    "# save disk space\n",
    "del train_df_jmtc"
   ]
  },
  {
   "cell_type": "markdown",
   "execution_count": null,
   "metadata": {
    "papermill": {
     "duration": 0.052797,
     "end_time": "2020-08-26T21:02:08.390119",
     "exception": false,
     "start_time": "2020-08-26T21:02:08.337322",
     "status": "completed"
    },
    "tags": []
   },
   "source": [
    "### code mixing and transliteration:\n",
    "This situation should be considered in case of multilingual text such as the mixed up between English and other languages."
   ]
  },
  {
   "cell_type": "markdown",
   "execution_count": null,
   "metadata": {
    "papermill": {
     "duration": 0.052555,
     "end_time": "2020-08-26T21:02:08.495911",
     "exception": false,
     "start_time": "2020-08-26T21:02:08.443356",
     "status": "completed"
    },
    "tags": []
   },
   "source": [
    "<a id=\"Text_Features_Extraction\"></a>\n",
    "\n",
    "# Text Features Extraction:\n",
    "\n",
    "<a id=\"BoW\"></a>\n",
    "## Weighted Words - Bag of Words (BoW) - Bag of n-grams:\n",
    "* N-gram is a sequence that contains n-elements (characters, words, etc). A single word such a \"apple\", \"orange\" is a Uni-gram; hence, \"red apple\" \"big orange\" is bi-gram and \"red ripped apple\", \"big orange bag\" is tri-gram. \n",
    "* Bags of words: Vectors of word counts or frequencies \n",
    "* Bags of n-grams: Counts of word pairs (bigrams), triplets (trigrams), and so on\n",
    "\n",
    "> The bag-of-words/ bag-of-n-gram model is a reduced and simpliﬁed representation of a text document from selected parts of the text, based on speciﬁc criteria, such as word frequency.\n",
    "> \n",
    "> In a BoW, a body of text, such as a document or a sentence, is thought of like a bag of words. Lists of words are created in the BoW process. These words in a matrix are not sentences which structure sentences and grammar, and the semantic relationship between these words are ignored in their collection and construction. The words are often representative of the content of a sentence. While grammar and order of appearance are ignored, multiplicity is counted and may be used later to determine the focus points of the documents.\n",
    "> \n",
    "> Example:\n",
    "> Document\n",
    "> \n",
    "> “As the home to UVA’s recognized undergraduate and graduate degree programs in systems engineering. In the UVA Department of Systems and Information Engineering, our students are exposed to a wide range of range”\n",
    "> \n",
    "> Bag-of-Words (BoW):\n",
    "> {“As”, “the”, “home”, “to”, “UVA’s”, “recognized”, “undergraduate”, “and”, “graduate”, “degree”, “program”, “in”, “systems”, “engineering”, “in”, “Department”, “Information”,“students”, “ ”,“are”, “exposed”, “wide”, “range” }\n",
    "> \n",
    "> Bag-of-Feature (BoF)\n",
    "> Feature = {1,1,1,3,2,1,2,1,2,3,1,1,1,2,1,1,1,1,1,1}\n",
    "\n",
    "(source:[Text Classification Algorithms: A Survey](https://arxiv.org/abs/1904.08067))\n",
    "\n",
    "<a id=\"CountVectorizer\"></a>\n",
    "### Frequency Vectors - CountVectorizer:\n",
    "We will implement the Bag of Words/ Bag of n-grams text representation via sklearn - CountVectorizer function.\n",
    "The code will test with a sample corpus of the first five sentence of the dataset, then print out the output of uni-gram, bi-gram and tri-gram. Finaly, we also run on the whole dataset.\n",
    "\n",
    "[Back To Table of Contents](#top_section)"
   ]
  },
  {
   "cell_type": "code",
   "execution_count": 43,
   "metadata": {
    "execution": {
     "iopub.execute_input": "2020-08-26T21:02:08.611153Z",
     "iopub.status.busy": "2020-08-26T21:02:08.610433Z",
     "iopub.status.idle": "2020-08-26T21:02:08.614145Z",
     "shell.execute_reply": "2020-08-26T21:02:08.613462Z"
    },
    "papermill": {
     "duration": 0.065048,
     "end_time": "2020-08-26T21:02:08.614268",
     "exception": false,
     "start_time": "2020-08-26T21:02:08.549220",
     "status": "completed"
    },
    "scrolled": true,
    "tags": []
   },
   "outputs": [],
   "source": [
    "from sklearn.feature_extraction.text import CountVectorizer\n",
    "\n",
    "def cv(data, ngram = 1, MAX_NB_WORDS = 75000):\n",
    "    count_vectorizer = CountVectorizer(ngram_range = (ngram, ngram), max_features = MAX_NB_WORDS)\n",
    "    emb = count_vectorizer.fit_transform(data).toarray()\n",
    "    print(\"count vectorize with\", str(np.array(emb).shape[1]), \"features\")\n",
    "    return emb, count_vectorizer"
   ]
  },
  {
   "cell_type": "code",
   "execution_count": 44,
   "metadata": {
    "execution": {
     "iopub.execute_input": "2020-08-26T21:02:08.731407Z",
     "iopub.status.busy": "2020-08-26T21:02:08.730612Z",
     "iopub.status.idle": "2020-08-26T21:02:08.734107Z",
     "shell.execute_reply": "2020-08-26T21:02:08.733351Z"
    },
    "papermill": {
     "duration": 0.066357,
     "end_time": "2020-08-26T21:02:08.734232",
     "exception": false,
     "start_time": "2020-08-26T21:02:08.667875",
     "status": "completed"
    },
    "scrolled": false,
    "tags": []
   },
   "outputs": [],
   "source": [
    "def print_out(emb, feat, ngram, compared_sentence=0):\n",
    "    print(ngram,\"bag-of-words: \")\n",
    "    print(feat.get_feature_names(), \"\\n\")\n",
    "    print(ngram,\"bag-of-feature: \")\n",
    "    print(test_cv_1gram.vocabulary_, \"\\n\")\n",
    "    print(\"BoW matrix:\")\n",
    "    print(pd.DataFrame(emb.transpose(), index = feat.get_feature_names()).head(), \"\\n\")\n",
    "    print(ngram,\"vector example:\")\n",
    "    print(train_df[\"lemmatize_text\"][compared_sentence])\n",
    "    print(emb[compared_sentence], \"\\n\")"
   ]
  },
  {
   "cell_type": "code",
   "execution_count": 45,
   "metadata": {
    "execution": {
     "iopub.execute_input": "2020-08-26T21:02:08.860262Z",
     "iopub.status.busy": "2020-08-26T21:02:08.859481Z",
     "iopub.status.idle": "2020-08-26T21:02:08.864360Z",
     "shell.execute_reply": "2020-08-26T21:02:08.862958Z"
    },
    "papermill": {
     "duration": 0.077238,
     "end_time": "2020-08-26T21:02:08.864571",
     "exception": false,
     "start_time": "2020-08-26T21:02:08.787333",
     "status": "completed"
    },
    "scrolled": false,
    "tags": []
   },
   "outputs": [
    {
     "name": "stdout",
     "output_type": "stream",
     "text": [
      "The test corpus:  ['deed reason earthquake may allah forgive u', 'forest fire near la ronge sask canada', 'resident ask shelter place notified officer evacuation shelter place order expect', '13000 people receive wildfire evacuation order california', 'get send photo ruby alaska smoke wildfire pours school'] \n",
      "\n",
      "count vectorize with 35 features\n",
      "Uni-gram bag-of-words: \n",
      "['13000', 'alaska', 'allah', 'ask', 'california', 'canada', 'deed', 'earthquake', 'evacuation', 'expect', 'fire', 'forest', 'forgive', 'get', 'la', 'may', 'near', 'notified', 'officer', 'order', 'people', 'photo', 'place', 'pours', 'reason', 'receive', 'resident', 'ronge', 'ruby', 'sask', 'school', 'send', 'shelter', 'smoke', 'wildfire'] \n",
      "\n",
      "Uni-gram bag-of-feature: \n",
      "{'deed': 6, 'reason': 24, 'earthquake': 7, 'may': 15, 'allah': 2, 'forgive': 12, 'forest': 11, 'fire': 10, 'near': 16, 'la': 14, 'ronge': 27, 'sask': 29, 'canada': 5, 'resident': 26, 'ask': 3, 'shelter': 32, 'place': 22, 'notified': 17, 'officer': 18, 'evacuation': 8, 'order': 19, 'expect': 9, '13000': 0, 'people': 20, 'receive': 25, 'wildfire': 34, 'california': 4, 'get': 13, 'send': 31, 'photo': 21, 'ruby': 28, 'alaska': 1, 'smoke': 33, 'pours': 23, 'school': 30} \n",
      "\n",
      "BoW matrix:\n",
      "            0  1  2  3  4\n",
      "13000       0  0  0  1  0\n",
      "alaska      0  0  0  0  1\n",
      "allah       1  0  0  0  0\n",
      "ask         0  0  1  0  0\n",
      "california  0  0  0  1  0 \n",
      "\n",
      "Uni-gram vector example:\n",
      "deed reason earthquake may allah forgive u\n",
      "[0 0 1 0 0 0 1 1 0 0 0 0 1 0 0 1 0 0 0 0 0 0 0 0 1 0 0 0 0 0 0 0 0 0 0] \n",
      "\n"
     ]
    }
   ],
   "source": [
    "test_corpus = train_df[\"lemmatize_text\"][:5].tolist()\n",
    "print(\"The test corpus: \", test_corpus, \"\\n\")\n",
    "\n",
    "test_cv_em_1gram, test_cv_1gram = cv(test_corpus, ngram=1)\n",
    "print_out(test_cv_em_1gram, test_cv_1gram, ngram=\"Uni-gram\")"
   ]
  },
  {
   "cell_type": "code",
   "execution_count": 46,
   "metadata": {
    "execution": {
     "iopub.execute_input": "2020-08-26T21:02:08.982614Z",
     "iopub.status.busy": "2020-08-26T21:02:08.977919Z",
     "iopub.status.idle": "2020-08-26T21:02:08.989102Z",
     "shell.execute_reply": "2020-08-26T21:02:08.988184Z"
    },
    "papermill": {
     "duration": 0.070954,
     "end_time": "2020-08-26T21:02:08.989286",
     "exception": false,
     "start_time": "2020-08-26T21:02:08.918332",
     "status": "completed"
    },
    "tags": []
   },
   "outputs": [
    {
     "name": "stdout",
     "output_type": "stream",
     "text": [
      "count vectorize with 34 features\n",
      "Bi-gram bag-of-words: \n",
      "['13000 people', 'alaska smoke', 'allah forgive', 'ask shelter', 'deed reason', 'earthquake may', 'evacuation order', 'evacuation shelter', 'fire near', 'forest fire', 'get send', 'la ronge', 'may allah', 'near la', 'notified officer', 'officer evacuation', 'order california', 'order expect', 'people receive', 'photo ruby', 'place notified', 'place order', 'pours school', 'reason earthquake', 'receive wildfire', 'resident ask', 'ronge sask', 'ruby alaska', 'sask canada', 'send photo', 'shelter place', 'smoke wildfire', 'wildfire evacuation', 'wildfire pours'] \n",
      "\n",
      "Bi-gram bag-of-feature: \n",
      "{'deed': 6, 'reason': 24, 'earthquake': 7, 'may': 15, 'allah': 2, 'forgive': 12, 'forest': 11, 'fire': 10, 'near': 16, 'la': 14, 'ronge': 27, 'sask': 29, 'canada': 5, 'resident': 26, 'ask': 3, 'shelter': 32, 'place': 22, 'notified': 17, 'officer': 18, 'evacuation': 8, 'order': 19, 'expect': 9, '13000': 0, 'people': 20, 'receive': 25, 'wildfire': 34, 'california': 4, 'get': 13, 'send': 31, 'photo': 21, 'ruby': 28, 'alaska': 1, 'smoke': 33, 'pours': 23, 'school': 30} \n",
      "\n",
      "BoW matrix:\n",
      "               0  1  2  3  4\n",
      "13000 people   0  0  0  1  0\n",
      "alaska smoke   0  0  0  0  1\n",
      "allah forgive  1  0  0  0  0\n",
      "ask shelter    0  0  1  0  0\n",
      "deed reason    1  0  0  0  0 \n",
      "\n",
      "Bi-gram vector example:\n",
      "deed reason earthquake may allah forgive u\n",
      "[0 0 1 0 1 1 0 0 0 0 0 0 1 0 0 0 0 0 0 0 0 0 0 1 0 0 0 0 0 0 0 0 0 0] \n",
      "\n"
     ]
    }
   ],
   "source": [
    "test_cv_em_2gram, test_cv_2gram = cv(test_corpus, ngram=2)\n",
    "print_out(test_cv_em_2gram, test_cv_2gram, ngram=\"Bi-gram\")"
   ]
  },
  {
   "cell_type": "code",
   "execution_count": 47,
   "metadata": {
    "execution": {
     "iopub.execute_input": "2020-08-26T21:02:09.108709Z",
     "iopub.status.busy": "2020-08-26T21:02:09.107799Z",
     "iopub.status.idle": "2020-08-26T21:02:09.113114Z",
     "shell.execute_reply": "2020-08-26T21:02:09.111755Z"
    },
    "papermill": {
     "duration": 0.070342,
     "end_time": "2020-08-26T21:02:09.113297",
     "exception": false,
     "start_time": "2020-08-26T21:02:09.042955",
     "status": "completed"
    },
    "tags": []
   },
   "outputs": [
    {
     "name": "stdout",
     "output_type": "stream",
     "text": [
      "count vectorize with 30 features\n",
      "Tri-gram bag-of-words: \n",
      "['13000 people', 'alaska smoke', 'allah forgive', 'ask shelter', 'deed reason', 'earthquake may', 'evacuation order', 'evacuation shelter', 'fire near', 'forest fire', 'get send', 'la ronge', 'may allah', 'near la', 'notified officer', 'officer evacuation', 'order california', 'order expect', 'people receive', 'photo ruby', 'place notified', 'place order', 'pours school', 'reason earthquake', 'receive wildfire', 'resident ask', 'ronge sask', 'ruby alaska', 'sask canada', 'send photo', 'shelter place', 'smoke wildfire', 'wildfire evacuation', 'wildfire pours'] \n",
      "\n",
      "Tri-gram bag-of-feature: \n",
      "{'deed': 6, 'reason': 24, 'earthquake': 7, 'may': 15, 'allah': 2, 'forgive': 12, 'forest': 11, 'fire': 10, 'near': 16, 'la': 14, 'ronge': 27, 'sask': 29, 'canada': 5, 'resident': 26, 'ask': 3, 'shelter': 32, 'place': 22, 'notified': 17, 'officer': 18, 'evacuation': 8, 'order': 19, 'expect': 9, '13000': 0, 'people': 20, 'receive': 25, 'wildfire': 34, 'california': 4, 'get': 13, 'send': 31, 'photo': 21, 'ruby': 28, 'alaska': 1, 'smoke': 33, 'pours': 23, 'school': 30} \n",
      "\n",
      "BoW matrix:\n",
      "               0  1  2  3  4\n",
      "13000 people   0  0  0  1  0\n",
      "alaska smoke   0  0  0  0  1\n",
      "allah forgive  1  0  0  0  0\n",
      "ask shelter    0  0  1  0  0\n",
      "deed reason    1  0  0  0  0 \n",
      "\n",
      "Tri-gram vector example:\n",
      "deed reason earthquake may allah forgive u\n",
      "[0 0 1 0 1 1 0 0 0 0 0 0 1 0 0 0 0 0 0 0 0 0 0 1 0 0 0 0 0 0 0 0 0 0] \n",
      "\n"
     ]
    }
   ],
   "source": [
    "test_cv_em_3gram, test_cv_3gram = cv(test_corpus, ngram=3)\n",
    "print_out(test_cv_em_2gram, test_cv_2gram, ngram=\"Tri-gram\")"
   ]
  },
  {
   "cell_type": "code",
   "execution_count": 48,
   "metadata": {
    "execution": {
     "iopub.execute_input": "2020-08-26T21:02:09.239045Z",
     "iopub.status.busy": "2020-08-26T21:02:09.233848Z",
     "iopub.status.idle": "2020-08-26T21:02:14.965474Z",
     "shell.execute_reply": "2020-08-26T21:02:14.966268Z"
    },
    "papermill": {
     "duration": 5.798687,
     "end_time": "2020-08-26T21:02:14.966512",
     "exception": false,
     "start_time": "2020-08-26T21:02:09.167825",
     "status": "completed"
    },
    "scrolled": true,
    "tags": []
   },
   "outputs": [
    {
     "name": "stdout",
     "output_type": "stream",
     "text": [
      "CPU times: user 4 µs, sys: 0 ns, total: 4 µs\n",
      "Wall time: 7.63 µs\n",
      "count vectorize with 15527 features\n",
      "count vectorize with 45570 features\n",
      "count vectorize with 43751 features\n",
      "7613\n",
      "(7613, 15527)\n",
      "(7613, 45570)\n",
      "(7613, 43751)\n"
     ]
    }
   ],
   "source": [
    "%time \n",
    "\n",
    "# implement into the whole dataset\n",
    "train_df_corpus = train_df[\"lemmatize_text\"].tolist()\n",
    "train_df_em_1gram, vc_1gram = cv(train_df_corpus, 1)\n",
    "train_df_em_2gram, vc_2gram = cv(train_df_corpus, 2)\n",
    "train_df_em_3gram, vc_3gram = cv(train_df_corpus, 3)\n",
    "\n",
    "print(len(train_df_corpus))\n",
    "print(train_df_em_1gram.shape)\n",
    "print(train_df_em_2gram.shape)\n",
    "print(train_df_em_3gram.shape)"
   ]
  },
  {
   "cell_type": "code",
   "execution_count": 49,
   "metadata": {
    "execution": {
     "iopub.execute_input": "2020-08-26T21:02:15.126103Z",
     "iopub.status.busy": "2020-08-26T21:02:15.125320Z",
     "iopub.status.idle": "2020-08-26T21:02:15.128920Z",
     "shell.execute_reply": "2020-08-26T21:02:15.128157Z"
    },
    "papermill": {
     "duration": 0.106775,
     "end_time": "2020-08-26T21:02:15.129050",
     "exception": false,
     "start_time": "2020-08-26T21:02:15.022275",
     "status": "completed"
    },
    "tags": []
   },
   "outputs": [],
   "source": [
    "del train_df_em_1gram, train_df_em_2gram, train_df_em_3gram"
   ]
  },
  {
   "cell_type": "markdown",
   "execution_count": null,
   "metadata": {
    "papermill": {
     "duration": 0.053796,
     "end_time": "2020-08-26T21:02:15.238106",
     "exception": false,
     "start_time": "2020-08-26T21:02:15.184310",
     "status": "completed"
    },
    "tags": []
   },
   "source": [
    "<a id=\"TF_IDF\"></a>\n",
    "\n",
    "### Term Frequency-Inverse Document Frequency (TF-IDF):\n",
    "> The Inverse Document Frequency (IDF) as a method to be used in conjunction with term frequency in order to lessen the effect of implicitly common words in the corpus. IDF assigns a higher weight to words with either high or low frequencies term in the document. This combination of TF and IDF is well known as Term Frequency-Inverse document frequency (TF-IDF). The mathematical representation of the weight of a term in a document by TF-IDF is given in Equation: \n",
    "> $$ W(d,t) = TF(d,t) * log \\frac{N}{df(t)}$$\n",
    "> Here N is the number of documents and $df(t)$ is the number of documents containing the term t in the corpus. The ﬁrst term in the equation improves the recall while the second term improves the precision of the word embedding. Although TF-IDF tries to overcome the problem of common terms in the document, it still suffers from some other descriptive limitations. Namely, TF-IDF cannot account for the similarity between the words in the document since each word is independently presented as an index. However, with the development of more complex models in recent years, new methods, such as word embedding, have been presented that can incorporate concepts such as similarity of words and part of speech tagging.\n",
    "\n",
    "(source: [Text Classification Algorithms: A Survey](https://arxiv.org/abs/1904.08067))\n",
    "\n",
    "We also implement the TF-IDF via sklearn TfidfVectorizer function, the experiments are similar to the previous [Frequency Vectors - CountVectorizer](#CountVectorizer) section\n",
    "\n",
    "[Back To Table of Contents](#top_section)"
   ]
  },
  {
   "cell_type": "code",
   "execution_count": 50,
   "metadata": {
    "execution": {
     "iopub.execute_input": "2020-08-26T21:02:15.380341Z",
     "iopub.status.busy": "2020-08-26T21:02:15.379160Z",
     "iopub.status.idle": "2020-08-26T21:02:15.388886Z",
     "shell.execute_reply": "2020-08-26T21:02:15.387964Z"
    },
    "papermill": {
     "duration": 0.086785,
     "end_time": "2020-08-26T21:02:15.389068",
     "exception": false,
     "start_time": "2020-08-26T21:02:15.302283",
     "status": "completed"
    },
    "scrolled": true,
    "tags": []
   },
   "outputs": [],
   "source": [
    "from sklearn.feature_extraction.text import TfidfVectorizer\n",
    "\n",
    "def TFIDF(data, ngram = 1, MAX_NB_WORDS = 75000):\n",
    "    tfidf_x = TfidfVectorizer(ngram_range = (ngram, ngram), max_features = MAX_NB_WORDS)\n",
    "    emb = tfidf_x.fit_transform(data).toarray()\n",
    "    print(\"tf-idf with\", str(np.array(emb).shape[1]), \"features\")\n",
    "    return emb, tfidf_x"
   ]
  },
  {
   "cell_type": "code",
   "execution_count": 51,
   "metadata": {
    "execution": {
     "iopub.execute_input": "2020-08-26T21:02:15.519784Z",
     "iopub.status.busy": "2020-08-26T21:02:15.513571Z",
     "iopub.status.idle": "2020-08-26T21:02:15.532409Z",
     "shell.execute_reply": "2020-08-26T21:02:15.533348Z"
    },
    "papermill": {
     "duration": 0.081297,
     "end_time": "2020-08-26T21:02:15.533559",
     "exception": false,
     "start_time": "2020-08-26T21:02:15.452262",
     "status": "completed"
    },
    "scrolled": false,
    "tags": []
   },
   "outputs": [
    {
     "name": "stdout",
     "output_type": "stream",
     "text": [
      "The test corpus:  ['deed reason earthquake may allah forgive u', 'forest fire near la ronge sask canada', 'resident ask shelter place notified officer evacuation shelter place order expect', '13000 people receive wildfire evacuation order california', 'get send photo ruby alaska smoke wildfire pours school'] \n",
      "\n",
      "tf-idf with 35 features\n",
      "Uni-gram bag-of-words: \n",
      "['13000', 'alaska', 'allah', 'ask', 'california', 'canada', 'deed', 'earthquake', 'evacuation', 'expect', 'fire', 'forest', 'forgive', 'get', 'la', 'may', 'near', 'notified', 'officer', 'order', 'people', 'photo', 'place', 'pours', 'reason', 'receive', 'resident', 'ronge', 'ruby', 'sask', 'school', 'send', 'shelter', 'smoke', 'wildfire'] \n",
      "\n",
      "Uni-gram bag-of-feature: \n",
      "{'deed': 6, 'reason': 24, 'earthquake': 7, 'may': 15, 'allah': 2, 'forgive': 12, 'forest': 11, 'fire': 10, 'near': 16, 'la': 14, 'ronge': 27, 'sask': 29, 'canada': 5, 'resident': 26, 'ask': 3, 'shelter': 32, 'place': 22, 'notified': 17, 'officer': 18, 'evacuation': 8, 'order': 19, 'expect': 9, '13000': 0, 'people': 20, 'receive': 25, 'wildfire': 34, 'california': 4, 'get': 13, 'send': 31, 'photo': 21, 'ruby': 28, 'alaska': 1, 'smoke': 33, 'pours': 23, 'school': 30} \n",
      "\n",
      "BoW matrix:\n",
      "                   0    1         2         3         4\n",
      "13000       0.000000  0.0  0.000000  0.409865  0.000000\n",
      "alaska      0.000000  0.0  0.000000  0.000000  0.339992\n",
      "allah       0.408248  0.0  0.000000  0.000000  0.000000\n",
      "ask         0.000000  0.0  0.264426  0.000000  0.000000\n",
      "california  0.000000  0.0  0.000000  0.409865  0.000000 \n",
      "\n",
      "Uni-gram vector example:\n",
      "deed reason earthquake may allah forgive u\n",
      "[0.         0.         0.40824829 0.         0.         0.\n",
      " 0.40824829 0.40824829 0.         0.         0.         0.\n",
      " 0.40824829 0.         0.         0.40824829 0.         0.\n",
      " 0.         0.         0.         0.         0.         0.\n",
      " 0.40824829 0.         0.         0.         0.         0.\n",
      " 0.         0.         0.         0.         0.        ] \n",
      "\n"
     ]
    }
   ],
   "source": [
    "test_corpus = train_df[\"lemmatize_text\"][:5].tolist()\n",
    "print(\"The test corpus: \", test_corpus, \"\\n\")\n",
    "\n",
    "test_tfidf_em_1gram, test_tfidf_1gram = TFIDF(test_corpus, ngram=1)\n",
    "print_out(test_tfidf_em_1gram, test_tfidf_1gram, ngram=\"Uni-gram\")"
   ]
  },
  {
   "cell_type": "code",
   "execution_count": 52,
   "metadata": {
    "execution": {
     "iopub.execute_input": "2020-08-26T21:02:15.657063Z",
     "iopub.status.busy": "2020-08-26T21:02:15.656288Z",
     "iopub.status.idle": "2020-08-26T21:02:15.665188Z",
     "shell.execute_reply": "2020-08-26T21:02:15.664552Z"
    },
    "papermill": {
     "duration": 0.07682,
     "end_time": "2020-08-26T21:02:15.665328",
     "exception": false,
     "start_time": "2020-08-26T21:02:15.588508",
     "status": "completed"
    },
    "tags": []
   },
   "outputs": [
    {
     "name": "stdout",
     "output_type": "stream",
     "text": [
      "tf-idf with 34 features\n",
      "Bi-gram bag-of-words: \n",
      "['13000 people', 'alaska smoke', 'allah forgive', 'ask shelter', 'deed reason', 'earthquake may', 'evacuation order', 'evacuation shelter', 'fire near', 'forest fire', 'get send', 'la ronge', 'may allah', 'near la', 'notified officer', 'officer evacuation', 'order california', 'order expect', 'people receive', 'photo ruby', 'place notified', 'place order', 'pours school', 'reason earthquake', 'receive wildfire', 'resident ask', 'ronge sask', 'ruby alaska', 'sask canada', 'send photo', 'shelter place', 'smoke wildfire', 'wildfire evacuation', 'wildfire pours'] \n",
      "\n",
      "Bi-gram bag-of-feature: \n",
      "{'deed': 6, 'reason': 24, 'earthquake': 7, 'may': 15, 'allah': 2, 'forgive': 12, 'forest': 11, 'fire': 10, 'near': 16, 'la': 14, 'ronge': 27, 'sask': 29, 'canada': 5, 'resident': 26, 'ask': 3, 'shelter': 32, 'place': 22, 'notified': 17, 'officer': 18, 'evacuation': 8, 'order': 19, 'expect': 9, '13000': 0, 'people': 20, 'receive': 25, 'wildfire': 34, 'california': 4, 'get': 13, 'send': 31, 'photo': 21, 'ruby': 28, 'alaska': 1, 'smoke': 33, 'pours': 23, 'school': 30} \n",
      "\n",
      "BoW matrix:\n",
      "                      0    1         2         3         4\n",
      "13000 people   0.000000  0.0  0.000000  0.408248  0.000000\n",
      "alaska smoke   0.000000  0.0  0.000000  0.000000  0.353553\n",
      "allah forgive  0.447214  0.0  0.000000  0.000000  0.000000\n",
      "ask shelter    0.000000  0.0  0.288675  0.000000  0.000000\n",
      "deed reason    0.447214  0.0  0.000000  0.000000  0.000000 \n",
      "\n",
      "Bi-gram vector example:\n",
      "deed reason earthquake may allah forgive u\n",
      "[0.        0.        0.4472136 0.        0.4472136 0.4472136 0.\n",
      " 0.        0.        0.        0.        0.        0.4472136 0.\n",
      " 0.        0.        0.        0.        0.        0.        0.\n",
      " 0.        0.        0.4472136 0.        0.        0.        0.\n",
      " 0.        0.        0.        0.        0.        0.       ] \n",
      "\n"
     ]
    }
   ],
   "source": [
    "test_tfidf_em_2gram, test_tfidf_2gram = TFIDF(test_corpus, ngram=2)\n",
    "print_out(test_tfidf_em_2gram, test_tfidf_2gram, ngram=\"Bi-gram\")"
   ]
  },
  {
   "cell_type": "code",
   "execution_count": 53,
   "metadata": {
    "execution": {
     "iopub.execute_input": "2020-08-26T21:02:15.788716Z",
     "iopub.status.busy": "2020-08-26T21:02:15.787668Z",
     "iopub.status.idle": "2020-08-26T21:02:15.792085Z",
     "shell.execute_reply": "2020-08-26T21:02:15.792960Z"
    },
    "papermill": {
     "duration": 0.073328,
     "end_time": "2020-08-26T21:02:15.793184",
     "exception": false,
     "start_time": "2020-08-26T21:02:15.719856",
     "status": "completed"
    },
    "tags": []
   },
   "outputs": [
    {
     "name": "stdout",
     "output_type": "stream",
     "text": [
      "tf-idf with 30 features\n",
      "Tri-gram bag-of-words: \n",
      "['13000 people receive', 'alaska smoke wildfire', 'ask shelter place', 'deed reason earthquake', 'earthquake may allah', 'evacuation order california', 'evacuation shelter place', 'fire near la', 'forest fire near', 'get send photo', 'la ronge sask', 'may allah forgive', 'near la ronge', 'notified officer evacuation', 'officer evacuation shelter', 'people receive wildfire', 'photo ruby alaska', 'place notified officer', 'place order expect', 'reason earthquake may', 'receive wildfire evacuation', 'resident ask shelter', 'ronge sask canada', 'ruby alaska smoke', 'send photo ruby', 'shelter place notified', 'shelter place order', 'smoke wildfire pours', 'wildfire evacuation order', 'wildfire pours school'] \n",
      "\n",
      "Tri-gram bag-of-feature: \n",
      "{'deed': 6, 'reason': 24, 'earthquake': 7, 'may': 15, 'allah': 2, 'forgive': 12, 'forest': 11, 'fire': 10, 'near': 16, 'la': 14, 'ronge': 27, 'sask': 29, 'canada': 5, 'resident': 26, 'ask': 3, 'shelter': 32, 'place': 22, 'notified': 17, 'officer': 18, 'evacuation': 8, 'order': 19, 'expect': 9, '13000': 0, 'people': 20, 'receive': 25, 'wildfire': 34, 'california': 4, 'get': 13, 'send': 31, 'photo': 21, 'ruby': 28, 'alaska': 1, 'smoke': 33, 'pours': 23, 'school': 30} \n",
      "\n",
      "BoW matrix:\n",
      "                          0    1         2         3         4\n",
      "13000 people receive    0.0  0.0  0.000000  0.447214  0.000000\n",
      "alaska smoke wildfire   0.0  0.0  0.000000  0.000000  0.377964\n",
      "ask shelter place       0.0  0.0  0.333333  0.000000  0.000000\n",
      "deed reason earthquake  0.5  0.0  0.000000  0.000000  0.000000\n",
      "earthquake may allah    0.5  0.0  0.000000  0.000000  0.000000 \n",
      "\n",
      "Tri-gram vector example:\n",
      "deed reason earthquake may allah forgive u\n",
      "[0.  0.  0.  0.5 0.5 0.  0.  0.  0.  0.  0.  0.5 0.  0.  0.  0.  0.  0.\n",
      " 0.  0.5 0.  0.  0.  0.  0.  0.  0.  0.  0.  0. ] \n",
      "\n"
     ]
    }
   ],
   "source": [
    "test_tfidf_em_3gram, test_tfidf_3gram = TFIDF(test_corpus, ngram=3)\n",
    "print_out(test_tfidf_em_3gram, test_tfidf_3gram, ngram=\"Tri-gram\")"
   ]
  },
  {
   "cell_type": "code",
   "execution_count": 54,
   "metadata": {
    "execution": {
     "iopub.execute_input": "2020-08-26T21:02:15.924180Z",
     "iopub.status.busy": "2020-08-26T21:02:15.917210Z",
     "iopub.status.idle": "2020-08-26T21:02:21.443169Z",
     "shell.execute_reply": "2020-08-26T21:02:21.444246Z"
    },
    "papermill": {
     "duration": 5.593389,
     "end_time": "2020-08-26T21:02:21.444443",
     "exception": false,
     "start_time": "2020-08-26T21:02:15.851054",
     "status": "completed"
    },
    "scrolled": true,
    "tags": []
   },
   "outputs": [
    {
     "name": "stdout",
     "output_type": "stream",
     "text": [
      "CPU times: user 4 µs, sys: 0 ns, total: 4 µs\n",
      "Wall time: 8.34 µs\n",
      "tf-idf with 15527 features\n",
      "tf-idf with 45570 features\n",
      "tf-idf with 43751 features\n",
      "7613\n",
      "(7613, 15527)\n",
      "(7613, 15527)\n",
      "(7613, 15527)\n"
     ]
    }
   ],
   "source": [
    "%time \n",
    "\n",
    "# implement into the whole dataset\n",
    "train_df_corpus = train_df[\"lemmatize_text\"].tolist()\n",
    "train_df_tfidf_1gram, tfidf_1gram = TFIDF(train_df_corpus, 1)\n",
    "train_df_tfidf_2gram, tfidf_2gram = TFIDF(train_df_corpus, 2)\n",
    "train_df_tfidf_3gram, tfidf_3gram = TFIDF(train_df_corpus, 3)\n",
    "\n",
    "print(len(train_df_corpus))\n",
    "print(train_df_tfidf_1gram.shape)\n",
    "print(train_df_tfidf_1gram.shape)\n",
    "print(train_df_tfidf_1gram.shape)"
   ]
  },
  {
   "cell_type": "code",
   "execution_count": 55,
   "metadata": {
    "execution": {
     "iopub.execute_input": "2020-08-26T21:02:21.605633Z",
     "iopub.status.busy": "2020-08-26T21:02:21.572487Z",
     "iopub.status.idle": "2020-08-26T21:02:21.609940Z",
     "shell.execute_reply": "2020-08-26T21:02:21.609158Z"
    },
    "papermill": {
     "duration": 0.108425,
     "end_time": "2020-08-26T21:02:21.610076",
     "exception": false,
     "start_time": "2020-08-26T21:02:21.501651",
     "status": "completed"
    },
    "tags": []
   },
   "outputs": [],
   "source": [
    "del train_df_tfidf_1gram, train_df_tfidf_2gram, train_df_tfidf_3gram"
   ]
  },
  {
   "cell_type": "markdown",
   "execution_count": null,
   "metadata": {
    "papermill": {
     "duration": 0.054799,
     "end_time": "2020-08-26T21:02:21.720069",
     "exception": false,
     "start_time": "2020-08-26T21:02:21.665270",
     "status": "completed"
    },
    "tags": []
   },
   "source": [
    "<a id=\"Word_Embedding\"></a>\n",
    "\n",
    "## Word Embedding:\n",
    "\n",
    "> **Word vectors** are numerical vector representations of word semantics, or meaning, including literal and implied meaning. So word vectors can capture the connotation of words, like “peopleness,” “animalness,” “placeness,” “thingness,” and even “conceptness.” And they combine all that into a dense vector (no zeros) of floating point values. This dense vector enables queries and logical reasoning.\n",
    "\n",
    "(source: [Natural Language Processing in Action](https://www.manning.com/books/natural-language-processing-in-action))\n",
    "\n",
    "> Even though we have syntactic word representations, it does not mean that the model captures the semantics meaning of the words. On the other hand, bag-of-word models do not respect the semantics of the word. For example, words “airplane”, “aeroplane”, “plane”, and “aircraft” are often used in the same context. However, the vectors corresponding to these words are orthogonal in the bag-of-words model. This issue presents a serious problem to understanding sentences within the model. The other problem in the bag-of-word is that the order of words in the phrase is not respected. The n-gram does not solve this problem so a similarity needs to be found for each word in the sentence. Many researchers worked on word embedding to solve this problem. The Word2Vec propose a simple single-layer architecture based on the inner product between two word vectors.\n",
    "\n",
    "> Word embedding is a feature learning technique in which each word or phrase from the vocabulary is mapped to a N dimension vector of real numbers. Various word embedding methods have been proposed to translate unigrams into understandable input for machine learning algorithms. This work focuses on Word2Vec, GloVe, and FastText, three of the most common methods that have been successfully used for deep learning techniques.\n",
    "\n",
    "(source: [Text Classification Algorithms: A Survey](https://arxiv.org/abs/1904.08067))\n",
    "\n",
    "<a id=\"Basic_Word_Embedding\"></a>\n",
    "### Basic Word Embedding Methods:\n",
    "\n",
    "<a id=\"Word2Vec\"></a>\n",
    "#### Word2Vec:\n",
    "\n",
    "[T. Mikolov et al.](https://papers.nips.cc/paper/5021-distributed-representations-of-words-and-phrases-and-their-compositionality.pdf) presented the Word2vec in 2013, which learns the meaning of words merely by processing a large corpus of unlabeled text. The Word2Vec approach uses shallow neural networks with two hidden layers, continuous bag-of-words (CBOW), and the Skip-gram model to create a high dimension vector for each word. This unsupervised nature of Word2vec is what makes it so powerful. The world is full of unlabeled, uncategorized, unstructured natural language text.\n",
    "\n",
    "We will implement the Word2vec via gensim libary with the pre-trained word vectors on the dataset Google News corpus (source: https://code.google.com/archive/p/word2vec/) and see the embedding output on the sample sentence from the our dataset. \n",
    "\n",
    "[Back To Table of Contents](#top_section)"
   ]
  },
  {
   "cell_type": "code",
   "execution_count": 56,
   "metadata": {
    "execution": {
     "iopub.execute_input": "2020-08-26T21:02:21.839807Z",
     "iopub.status.busy": "2020-08-26T21:02:21.838848Z",
     "iopub.status.idle": "2020-08-26T21:02:24.605009Z",
     "shell.execute_reply": "2020-08-26T21:02:24.604167Z"
    },
    "papermill": {
     "duration": 2.829854,
     "end_time": "2020-08-26T21:02:24.605143",
     "exception": false,
     "start_time": "2020-08-26T21:02:21.775289",
     "status": "completed"
    },
    "scrolled": true,
    "tags": []
   },
   "outputs": [
    {
     "name": "stdout",
     "output_type": "stream",
     "text": [
      "CPU times: user 3 µs, sys: 1 µs, total: 4 µs\n",
      "Wall time: 7.87 µs\n",
      "gensim version: 3.8.3\n"
     ]
    }
   ],
   "source": [
    "%time \n",
    "\n",
    "import gensim\n",
    "print(\"gensim version:\", gensim.__version__)\n",
    "\n",
    "word2vec_path = \"../input/googlenewsvectorsnegative300/GoogleNews-vectors-negative300.bin\"\n",
    "\n",
    "# we only load 200k most common words from Google News corpus \n",
    "word2vec_model = gensim.models.KeyedVectors.load_word2vec_format(word2vec_path, binary=True, limit=200000) "
   ]
  },
  {
   "cell_type": "markdown",
   "execution_count": null,
   "metadata": {
    "papermill": {
     "duration": 0.054763,
     "end_time": "2020-08-26T21:02:24.714993",
     "exception": false,
     "start_time": "2020-08-26T21:02:24.660230",
     "status": "completed"
    },
    "tags": []
   },
   "source": [
    "Compare the similarity between \"cat\" vs. \"kitten\" and \"cat\" vs. \"cats\""
   ]
  },
  {
   "cell_type": "code",
   "execution_count": 57,
   "metadata": {
    "execution": {
     "iopub.execute_input": "2020-08-26T21:02:24.834171Z",
     "iopub.status.busy": "2020-08-26T21:02:24.832986Z",
     "iopub.status.idle": "2020-08-26T21:02:24.839127Z",
     "shell.execute_reply": "2020-08-26T21:02:24.838146Z"
    },
    "papermill": {
     "duration": 0.069253,
     "end_time": "2020-08-26T21:02:24.839312",
     "exception": false,
     "start_time": "2020-08-26T21:02:24.770059",
     "status": "completed"
    },
    "tags": []
   },
   "outputs": [
    {
     "name": "stdout",
     "output_type": "stream",
     "text": [
      "0.74649847\n",
      "0.80993783\n"
     ]
    }
   ],
   "source": [
    "print(word2vec_model.similarity('cat', 'kitten'))\n",
    "print(word2vec_model.similarity('cat', 'cats'))"
   ]
  },
  {
   "cell_type": "code",
   "execution_count": 58,
   "metadata": {
    "execution": {
     "iopub.execute_input": "2020-08-26T21:02:24.963633Z",
     "iopub.status.busy": "2020-08-26T21:02:24.959849Z",
     "iopub.status.idle": "2020-08-26T21:02:24.967105Z",
     "shell.execute_reply": "2020-08-26T21:02:24.966410Z"
    },
    "papermill": {
     "duration": 0.072005,
     "end_time": "2020-08-26T21:02:24.967228",
     "exception": false,
     "start_time": "2020-08-26T21:02:24.895223",
     "status": "completed"
    },
    "scrolled": true,
    "tags": []
   },
   "outputs": [],
   "source": [
    "def get_average_vec(tokens_list, vector, generate_missing=False, k=300):\n",
    "    \"\"\"\n",
    "        Calculate average embedding value of sentence from each word vector\n",
    "    \"\"\"\n",
    "    \n",
    "    if len(tokens_list)<1:\n",
    "        return np.zeros(k)\n",
    "    \n",
    "    if generate_missing:\n",
    "        vectorized = [vector[word] if word in vector else np.random.rand(k) for word in tokens_list]\n",
    "    else:\n",
    "        vectorized = [vector[word] if word in vector else np.zeros(k) for word in tokens_list]\n",
    "    \n",
    "    length = len(vectorized)\n",
    "    summed = np.sum(vectorized, axis=0)\n",
    "    averaged = np.divide(summed, length)\n",
    "    return averaged\n",
    "\n",
    "def get_embeddings(vectors, text, generate_missing=False, k=300):\n",
    "    \"\"\"\n",
    "        create the sentence embedding\n",
    "    \"\"\"\n",
    "    embeddings = text.apply(lambda x: get_average_vec(x, vectors, generate_missing=generate_missing, k=k))\n",
    "    return list(embeddings)"
   ]
  },
  {
   "cell_type": "code",
   "execution_count": 59,
   "metadata": {
    "execution": {
     "iopub.execute_input": "2020-08-26T21:02:25.092224Z",
     "iopub.status.busy": "2020-08-26T21:02:25.090867Z",
     "iopub.status.idle": "2020-08-26T21:02:27.040119Z",
     "shell.execute_reply": "2020-08-26T21:02:27.039222Z"
    },
    "papermill": {
     "duration": 2.016192,
     "end_time": "2020-08-26T21:02:27.040294",
     "exception": false,
     "start_time": "2020-08-26T21:02:25.024102",
     "status": "completed"
    },
    "tags": []
   },
   "outputs": [
    {
     "name": "stdout",
     "output_type": "stream",
     "text": [
      "CPU times: user 3 µs, sys: 1e+03 ns, total: 4 µs\n",
      "Wall time: 7.87 µs\n",
      "Embedding matrix size 7613 300\n",
      "The sentence: \"deed reason earthquake may allah forgive u\" got embedding values: \n",
      "[-0.10973104  0.09386771  0.02338518  0.08328102 -0.0219574   0.02885873\n",
      " -0.08006577 -0.04429408 -0.04224214  0.02420189 -0.03073424 -0.06804257\n",
      " -0.16214498  0.04603213 -0.10248093  0.07793608  0.0992388   0.11692011\n",
      " -0.01385716  0.01890346 -0.19027274 -0.03666796  0.06822132  0.0259938\n",
      " -0.06404114  0.01582078 -0.16466123  0.02864947 -0.00298782 -0.0321074\n",
      " -0.03302729  0.0175467  -0.05769275 -0.08599418 -0.09155273  0.0423119\n",
      " -0.14993068  0.07241385 -0.04759707  0.06599499 -0.02213396 -0.01985386\n",
      "  0.03608922  0.0730242   0.04145477 -0.0592204  -0.03368414 -0.14240374\n",
      " -0.11207799  0.04079474 -0.13815162  0.18583752 -0.0264631   0.13613746\n",
      "  0.04344395  0.10146368 -0.1568371  -0.09093766  0.01943534 -0.12862142\n",
      " -0.09729658 -0.08818272 -0.1499038  -0.02244436 -0.04221671 -0.14467076\n",
      " -0.08727664  0.08703323 -0.03724452  0.03713844  0.00841413 -0.03819638\n",
      "  0.04871187  0.00458563 -0.00879088 -0.01597087  0.09444028  0.0128588\n",
      "  0.00474766 -0.07494536 -0.1058989   0.0075887  -0.01565479 -0.01770601\n",
      "  0.09909348  0.05438378 -0.00987607  0.16372826  0.04281544  0.07157389\n",
      "  0.02041335 -0.01892671 -0.03254191 -0.07805089  0.03469703  0.0835237\n",
      " -0.05856469  0.07807995  0.18223935 -0.03905814 -0.06559826  0.00441778\n",
      " -0.04765683  0.00174967 -0.0499442   0.08921596 -0.05202811  0.02542405\n",
      "  0.02564639  0.03856695 -0.08229138 -0.13677761 -0.03282129 -0.00445811\n",
      "  0.02180172  0.11124965  0.06431825 -0.01736886 -0.0168537  -0.02965527\n",
      "  0.09707932  0.06195359 -0.00590007  0.01967657  0.10620698 -0.11439151\n",
      " -0.08102853 -0.02657209  0.03414045  0.09706279 -0.04822213 -0.02752686\n",
      " -0.05930801 -0.04303269 -0.11006728  0.07374627 -0.02335757  0.02132161\n",
      "  0.16190592  0.10704259  0.1453654  -0.04960033  0.01669021 -0.0568092\n",
      " -0.0281808  -0.08471525 -0.04839943  0.12519764 -0.04938035  0.01867639\n",
      "  0.05154128 -0.21320452 -0.04382438 -0.02979388 -0.07316953 -0.07876006\n",
      "  0.0666137   0.11970738 -0.02038502 -0.02043225 -0.00854492  0.06244187\n",
      "  0.00406247 -0.01388695 -0.00756109 -0.00510007  0.11270578 -0.00383032\n",
      " -0.07336771  0.05388387 -0.06600226 -0.08736456 -0.03554935 -0.02983529\n",
      " -0.02234432  0.16597493  0.20271229 -0.15409924  0.02767508 -0.06028275\n",
      "  0.01874506  0.00330793  0.01029487 -0.05950346 -0.03407215  0.05586279\n",
      " -0.05255999  0.06726728 -0.03091867  0.03321257  0.09562029 -0.0280878\n",
      " -0.18580264 -0.00352623  0.09402902  0.04684158 -0.06187584 -0.01583354\n",
      "  0.04801396 -0.06676665 -0.07035755  0.01950655 -0.13340541 -0.09078544\n",
      "  0.05690802 -0.08546084 -0.01820592  0.07843744 -0.03812554  0.11159842\n",
      "  0.11969721  0.0449335  -0.10582152  0.00232224 -0.05729457  0.03292856\n",
      "  0.10434396 -0.05161422 -0.12914458 -0.00114223 -0.09456671  0.08707973\n",
      "  0.03819348 -0.02696519 -0.02721441 -0.08526757  0.04842413  0.01009987\n",
      "  0.01225503 -0.11512538  0.02444313 -0.03519767 -0.05714451  0.00021944\n",
      " -0.00073242  0.00945232  0.02562932  0.08069402  0.05912563  0.06553432\n",
      "  0.04624358  0.05097017  0.21736072 -0.03040495 -0.01796759  0.03606669\n",
      " -0.11412993  0.12206305  0.030553   -0.05254146  0.03547015  0.01890128\n",
      "  0.06088838  0.08702923 -0.02756319 -0.09857505 -0.04788281  0.05559721\n",
      "  0.02226257 -0.06011454  0.04666101  0.00855019  0.0753697  -0.00653367\n",
      " -0.0653454   0.00939142  0.00217983 -0.00272115 -0.01113456 -0.02284095\n",
      " -0.05891854 -0.00576637 -0.01346842  0.02164714  0.04594494 -0.06361171\n",
      " -0.12094988 -0.09827241 -0.05226789  0.04806519 -0.06530035  0.07831682\n",
      " -0.00723557 -0.01486896 -0.00217438  0.04452805 -0.00202724  0.02008347\n",
      " -0.03751337 -0.02039809  0.05640811 -0.01563081 -0.08022272  0.06058466\n",
      " -0.02697173 -0.09694708 -0.0692749  -0.01718285 -0.10185896  0.12101673]\n"
     ]
    }
   ],
   "source": [
    "%time \n",
    "\n",
    "embeddings_word2vec = get_embeddings(word2vec_model, train_df[\"lemmatize_text\"], k=300)\n",
    "\n",
    "print(\"Embedding matrix size\", len(embeddings_word2vec), len(embeddings_word2vec[0]))\n",
    "print(\"The sentence: \\\"%s\\\" got embedding values: \" % train_df[\"lemmatize_text\"][0])\n",
    "print(embeddings_word2vec[0])"
   ]
  },
  {
   "cell_type": "code",
   "execution_count": 60,
   "metadata": {
    "execution": {
     "iopub.execute_input": "2020-08-26T21:02:27.167950Z",
     "iopub.status.busy": "2020-08-26T21:02:27.167153Z",
     "iopub.status.idle": "2020-08-26T21:02:27.171239Z",
     "shell.execute_reply": "2020-08-26T21:02:27.170374Z"
    },
    "papermill": {
     "duration": 0.07035,
     "end_time": "2020-08-26T21:02:27.171389",
     "exception": false,
     "start_time": "2020-08-26T21:02:27.101039",
     "status": "completed"
    },
    "tags": []
   },
   "outputs": [],
   "source": [
    "del embeddings_word2vec"
   ]
  },
  {
   "cell_type": "markdown",
   "execution_count": null,
   "metadata": {
    "papermill": {
     "duration": 0.05537,
     "end_time": "2020-08-26T21:02:27.282356",
     "exception": false,
     "start_time": "2020-08-26T21:02:27.226986",
     "status": "completed"
    },
    "tags": []
   },
   "source": [
    "<a id=\"GloVe\"></a>\n",
    "\n",
    "#### Global Vectors for Word Representation (GloVe):\n",
    "> Another powerful word embedding technique that has been used for text classiﬁcation is [Global Vectors (GloVe)](https://nlp.stanford.edu/pubs/glove.pdf). The approach is very similar to the Word2Vec method, where each word is presented by a high dimension vector and trained based on the surrounding words over a huge corpus. The pre-trained word embedding used in many works is based on 400,000 vocabularies trained over Wikipedia 2014 and Gigaword 5 as the corpus and 50 dimensions for word presentation. GloVe also provides other pre-trained word vectorizations with 100, 200, 300 dimensions which are trained over even bigger corpora, including Twitter content.\n",
    "\n",
    "(source: [Text Classification Algorithms: A Survey](https://arxiv.org/abs/1904.08067))\n",
    "\n",
    "We will create our GloVe's sentence embeddings  via gensim libary with the pre-trained word vectors on the dataset from Wikipedia 2014 + Gigaword 5 (source: https://github.com/stanfordnlp/GloVe) and see the embedding output on the sample sentence from the our dataset. \n",
    "\n",
    "\n",
    "[Back To Table of Contents](#top_section)"
   ]
  },
  {
   "cell_type": "code",
   "execution_count": 61,
   "metadata": {
    "execution": {
     "iopub.execute_input": "2020-08-26T21:02:27.403192Z",
     "iopub.status.busy": "2020-08-26T21:02:27.402410Z",
     "iopub.status.idle": "2020-08-26T21:04:25.586507Z",
     "shell.execute_reply": "2020-08-26T21:04:25.585637Z"
    },
    "papermill": {
     "duration": 118.248598,
     "end_time": "2020-08-26T21:04:25.586649",
     "exception": false,
     "start_time": "2020-08-26T21:02:27.338051",
     "status": "completed"
    },
    "scrolled": true,
    "tags": []
   },
   "outputs": [
    {
     "name": "stdout",
     "output_type": "stream",
     "text": [
      "CPU times: user 3 µs, sys: 0 ns, total: 3 µs\n",
      "Wall time: 7.39 µs\n"
     ]
    }
   ],
   "source": [
    "%time \n",
    "\n",
    "from gensim.scripts.glove2word2vec import glove2word2vec\n",
    "\n",
    "glove_input_file = \"../input/glove6b/glove.6B.300d.txt\"\n",
    "word2vec_output_file = \"glove.6B.100d.txt.word2vec\"\n",
    "glove2word2vec(glove_input_file, word2vec_output_file)\n",
    "\n",
    "# we only load 200k most common words from Google New corpus \n",
    "glove_model = gensim.models.KeyedVectors.load_word2vec_format(word2vec_output_file, binary=False, limit=200000) "
   ]
  },
  {
   "cell_type": "markdown",
   "execution_count": null,
   "metadata": {
    "papermill": {
     "duration": 0.055426,
     "end_time": "2020-08-26T21:04:25.698628",
     "exception": false,
     "start_time": "2020-08-26T21:04:25.643202",
     "status": "completed"
    },
    "tags": []
   },
   "source": [
    "Compare the similarity between \"cat\" vs. \"kitten\" and \"cat\" vs. \"cats\" from GloVe"
   ]
  },
  {
   "cell_type": "code",
   "execution_count": 62,
   "metadata": {
    "execution": {
     "iopub.execute_input": "2020-08-26T21:04:25.818156Z",
     "iopub.status.busy": "2020-08-26T21:04:25.817343Z",
     "iopub.status.idle": "2020-08-26T21:04:25.822056Z",
     "shell.execute_reply": "2020-08-26T21:04:25.821028Z"
    },
    "papermill": {
     "duration": 0.067616,
     "end_time": "2020-08-26T21:04:25.822175",
     "exception": false,
     "start_time": "2020-08-26T21:04:25.754559",
     "status": "completed"
    },
    "tags": []
   },
   "outputs": [
    {
     "name": "stdout",
     "output_type": "stream",
     "text": [
      "0.43046176\n",
      "0.68158364\n"
     ]
    }
   ],
   "source": [
    "print(glove_model.similarity('cat', 'kitten'))\n",
    "print(glove_model.similarity('cat', 'cats'))"
   ]
  },
  {
   "cell_type": "code",
   "execution_count": 63,
   "metadata": {
    "execution": {
     "iopub.execute_input": "2020-08-26T21:04:25.947945Z",
     "iopub.status.busy": "2020-08-26T21:04:25.946549Z",
     "iopub.status.idle": "2020-08-26T21:04:27.919277Z",
     "shell.execute_reply": "2020-08-26T21:04:27.917686Z"
    },
    "papermill": {
     "duration": 2.041385,
     "end_time": "2020-08-26T21:04:27.919481",
     "exception": false,
     "start_time": "2020-08-26T21:04:25.878096",
     "status": "completed"
    },
    "tags": []
   },
   "outputs": [
    {
     "name": "stdout",
     "output_type": "stream",
     "text": [
      "CPU times: user 3 µs, sys: 0 ns, total: 3 µs\n",
      "Wall time: 8.11 µs\n",
      "Embedding matrix size 7613 300\n",
      "The sentence: \"deed reason earthquake may allah forgive u\" got embedding values: \n",
      "[-0.24644262  0.05410434 -0.27450693 -0.06188807 -0.46284731 -0.00939752\n",
      " -0.05414152  0.13743693 -0.22479226 -0.98268882  0.09007366  0.053033\n",
      " -0.28044198  0.02101397 -0.03703022 -0.12029742 -0.21756712  0.35917495\n",
      "  0.18462457 -0.04608281 -0.10460077 -0.08015574 -0.02202645  0.11273405\n",
      " -0.12068953  0.12194095  0.14686729  0.15968064  0.29633239 -0.30258431\n",
      " -0.11143976  0.35128362 -0.19570481 -0.0432561  -0.57752143  0.05718431\n",
      "  0.197115   -0.36596643 -0.14253749  0.14517167 -0.01787278  0.07752722\n",
      " -0.35558786  0.49918029 -0.25823491 -0.20787183  0.17671538 -0.06122703\n",
      "  0.01860436  0.00956815  0.01008621  0.18646614 -0.05261453  0.09435026\n",
      "  0.0347649   0.18527218  0.03771786 -0.00734357  0.0737335  -0.39638246\n",
      "  0.32128479  0.18159559  0.14429088  0.09128076 -0.08779434 -0.09699717\n",
      " -0.1332329   0.12811359  0.27261617 -0.19983245 -0.22432424  0.30098066\n",
      "  0.21411909  0.19618864 -0.35851928 -0.01115563  0.08871338  0.03321581\n",
      " -0.11715221 -0.06390755  0.00750943  0.13400405  0.08955424 -0.29467391\n",
      "  0.19223043 -0.00956457 -0.08053248  0.30163783  0.16781715 -0.09792755\n",
      "  0.06121541  0.14780828 -0.26734736 -0.4799519   0.44974211  0.00547195\n",
      " -0.11386152 -0.19388585  0.15504426 -0.3430764  -0.18080548  0.02703006\n",
      "  0.02656172  0.00977372 -0.13361909 -0.2695421   0.03165559  0.19874452\n",
      "  0.02720112 -0.04047843 -0.05929754  0.004465    0.13214997  0.14946143\n",
      " -0.03419677 -0.03892947 -0.12146793  0.14878701  0.026138   -0.20635574\n",
      "  0.32135731 -0.09797952  0.06083302 -0.22842523  0.05208716  0.03916695\n",
      " -0.0091469  -0.04971609 -0.1306325  -0.07322298 -0.00625898 -0.06776672\n",
      " -0.37868106  0.13359631  0.02006941 -0.1823457   0.03398151 -0.11830674\n",
      "  0.25474224  0.00383509 -0.13836982  0.25385852  0.12717466 -0.12527455\n",
      " -0.26967638 -0.14525832 -0.14603553 -0.21627412  0.17391181 -0.00804538\n",
      "  0.30386562 -0.226707   -0.00765572 -0.14370598  0.14693362 -0.05099271\n",
      "  0.33213786  0.02589677 -0.02876512 -0.10015471 -0.04301088 -0.09792962\n",
      " -0.15504143 -0.02825298 -0.184125    0.10993841 -0.10068296  0.05863607\n",
      " -0.03233979  0.17498674  0.11034614  0.19454436 -0.20126238  0.41948241\n",
      " -0.06973424 -0.10141514 -0.1716199  -0.18086144  0.16927838  0.27039857\n",
      " -0.20696674  0.23673779 -0.23383974 -0.11874885 -0.24187862 -0.33531259\n",
      " -0.2729604   0.25319156  0.27512729  0.20223805  0.38602323  0.17234014\n",
      "  0.09181362  0.33784298 -0.20905902  0.12970068  0.23867529 -0.06172933\n",
      " -0.1371971  -0.23060961  0.64804857 -0.03137886  0.16687753  0.21376819\n",
      "  0.20223686 -0.30625039 -0.41005391  0.18221493  0.1989264  -0.21287819\n",
      " -0.44964124 -0.08526969 -0.09927881  0.28774888 -0.39598062  0.06931664\n",
      "  0.15262799 -0.06269991 -0.18952476 -0.25693967 -0.03312668  0.07652547\n",
      "  0.12247071  0.21092231  0.07411659 -0.00878913  0.05192205  0.11616807\n",
      "  0.01890945  0.16390775 -0.05940847  0.32672243  0.01322132 -0.31820233\n",
      "  0.3624456   0.03607643 -0.10797226 -0.01568449  0.11246433  0.22883244\n",
      " -0.03727892 -0.27945359  0.03126107  0.01948552 -0.11679155  0.00608724\n",
      "  0.12348241 -0.08846772  0.00449286  0.13035464 -0.08091357  0.20209481\n",
      " -0.19915275 -0.14215569 -0.10643229 -0.10194643  0.04980072 -0.34128969\n",
      "  0.1241266   0.13883121  0.31312359 -0.21269181  0.00545436 -0.01445191\n",
      " -0.11558493 -0.08211789  0.31031359  0.11739394  0.27564005  0.46395119\n",
      " -0.18802405 -0.37081216  0.17815643 -0.30986419 -0.14509519  0.28417212\n",
      " -0.77160123  0.0543655  -0.00673003  0.02862609 -0.2549555  -0.14697521\n",
      " -0.37401531 -0.19827481  0.05608169 -0.05057823 -0.06009693  0.09846479\n",
      "  0.20159338  0.25996468 -0.09709268  0.03946936 -0.12543315 -0.05813071\n",
      "  0.13049043  0.09774433  0.39701905 -0.42363026 -0.13919324  0.08395088]\n"
     ]
    }
   ],
   "source": [
    "%time \n",
    "\n",
    "embeddings_glove = get_embeddings(glove_model, train_df[\"lemmatize_text\"], k=300)\n",
    "\n",
    "print(\"Embedding matrix size\", len(embeddings_glove), len(embeddings_glove[0]))\n",
    "print(\"The sentence: \\\"%s\\\" got embedding values: \" % train_df[\"lemmatize_text\"][0])\n",
    "print(embeddings_glove[0])"
   ]
  },
  {
   "cell_type": "code",
   "execution_count": 64,
   "metadata": {
    "execution": {
     "iopub.execute_input": "2020-08-26T21:04:28.047252Z",
     "iopub.status.busy": "2020-08-26T21:04:28.046086Z",
     "iopub.status.idle": "2020-08-26T21:04:28.049832Z",
     "shell.execute_reply": "2020-08-26T21:04:28.049125Z"
    },
    "papermill": {
     "duration": 0.070771,
     "end_time": "2020-08-26T21:04:28.049982",
     "exception": false,
     "start_time": "2020-08-26T21:04:27.979211",
     "status": "completed"
    },
    "tags": []
   },
   "outputs": [],
   "source": [
    "del embeddings_glove"
   ]
  },
  {
   "cell_type": "markdown",
   "execution_count": null,
   "metadata": {
    "papermill": {
     "duration": 0.05656,
     "end_time": "2020-08-26T21:04:28.163189",
     "exception": false,
     "start_time": "2020-08-26T21:04:28.106629",
     "status": "completed"
    },
    "tags": []
   },
   "source": [
    "<a id=\"FastText\"></a>\n",
    "\n",
    "#### FastText:\n",
    "> Many other word embedding representations ignore the morphology of words by assigning a distinct vector to each word ([Enriching Word Vectors with Subword Information](https://arxiv.org/abs/1607.04606)). Facebook AI Research lab released a novel technique to solve this issue by introducing a new word embedding method called FastText. Each word, w, is represented as a bag of character n-gram. For example, given the word “introduce” and n = 3, FastText will produce the following representation composed of character tri-grams: < in, int, ntr, tro, rod, odu, duc, uce, ce >\n",
    "> Note that the sequence <int>, corresponding to the word here is different from the tri-gram “int” from the word introduce.\n",
    "\n",
    "(source: [Text Classification Algorithms: A Survey](https://arxiv.org/abs/1904.08067))\n",
    "\n",
    "We will create our FastText's sentence embeddings via gensim libary with the pre-trained word vectors from the Wikipedia 2017, UMBC webbase corpus and statmt.org news dataset (source: https://fasttext.cc/docs/en/english-vectors.html) and see the embedding output on the sample sentence from the our dataset. \n",
    "\n",
    "\n",
    "[Back To Table of Contents](#top_section)"
   ]
  },
  {
   "cell_type": "code",
   "execution_count": 65,
   "metadata": {
    "execution": {
     "iopub.execute_input": "2020-08-26T21:04:28.284690Z",
     "iopub.status.busy": "2020-08-26T21:04:28.283934Z",
     "iopub.status.idle": "2020-08-26T21:06:21.324245Z",
     "shell.execute_reply": "2020-08-26T21:06:21.323270Z"
    },
    "papermill": {
     "duration": 113.105056,
     "end_time": "2020-08-26T21:06:21.324446",
     "exception": false,
     "start_time": "2020-08-26T21:04:28.219390",
     "status": "completed"
    },
    "scrolled": true,
    "tags": []
   },
   "outputs": [
    {
     "name": "stdout",
     "output_type": "stream",
     "text": [
      "CPU times: user 4 µs, sys: 1e+03 ns, total: 5 µs\n",
      "Wall time: 7.87 µs\n"
     ]
    }
   ],
   "source": [
    "%time \n",
    "\n",
    "from gensim.models.fasttext import FastText\n",
    "\n",
    "fasttext_path = \"../input/fasttext-wikinews/wiki-news-300d-1M.vec\"\n",
    "fasttext_model = gensim.models.KeyedVectors.load_word2vec_format(fasttext_path, binary=False, limit=200000)"
   ]
  },
  {
   "cell_type": "markdown",
   "execution_count": null,
   "metadata": {
    "papermill": {
     "duration": 0.056443,
     "end_time": "2020-08-26T21:06:21.439518",
     "exception": false,
     "start_time": "2020-08-26T21:06:21.383075",
     "status": "completed"
    },
    "tags": []
   },
   "source": [
    "Compare the similarity between \"cat\" vs. \"kitten\" and \"cat\" vs. \"cats\" from FastText"
   ]
  },
  {
   "cell_type": "code",
   "execution_count": 66,
   "metadata": {
    "execution": {
     "iopub.execute_input": "2020-08-26T21:06:21.562264Z",
     "iopub.status.busy": "2020-08-26T21:06:21.561390Z",
     "iopub.status.idle": "2020-08-26T21:06:21.567144Z",
     "shell.execute_reply": "2020-08-26T21:06:21.566194Z"
    },
    "papermill": {
     "duration": 0.069688,
     "end_time": "2020-08-26T21:06:21.567355",
     "exception": false,
     "start_time": "2020-08-26T21:06:21.497667",
     "status": "completed"
    },
    "tags": []
   },
   "outputs": [
    {
     "name": "stdout",
     "output_type": "stream",
     "text": [
      "0.7353649\n",
      "0.8552809\n"
     ]
    }
   ],
   "source": [
    "print(fasttext_model.similarity('cat', 'kitten'))\n",
    "print(fasttext_model.similarity('cat', 'cats'))"
   ]
  },
  {
   "cell_type": "code",
   "execution_count": 67,
   "metadata": {
    "execution": {
     "iopub.execute_input": "2020-08-26T21:06:21.697079Z",
     "iopub.status.busy": "2020-08-26T21:06:21.695895Z",
     "iopub.status.idle": "2020-08-26T21:06:23.608772Z",
     "shell.execute_reply": "2020-08-26T21:06:23.608104Z"
    },
    "papermill": {
     "duration": 1.978434,
     "end_time": "2020-08-26T21:06:23.608912",
     "exception": false,
     "start_time": "2020-08-26T21:06:21.630478",
     "status": "completed"
    },
    "tags": []
   },
   "outputs": [
    {
     "name": "stdout",
     "output_type": "stream",
     "text": [
      "Embedding matrix size 7613 300\n",
      "The sentence: \"deed reason earthquake may allah forgive u\" got embedding values: \n",
      "[-8.09166668e-02  2.61404759e-02 -8.73142836e-02 -3.69428569e-02\n",
      "  1.73714293e-02  4.03738089e-02  1.19119056e-02 -2.96238094e-02\n",
      "  1.21804762e-01  4.34142850e-02 -2.36714286e-02 -2.98738095e-02\n",
      "  5.00333325e-02 -2.49952377e-02 -2.62000006e-02  2.73166672e-02\n",
      " -1.57404756e-02 -1.61595243e-02 -2.85976184e-02  7.77619022e-02\n",
      " -1.63690476e-02 -1.13026191e-01 -3.10547621e-02 -2.75714294e-02\n",
      " -6.89023813e-02 -5.33142867e-02  2.94666670e-02  1.26283331e-01\n",
      "  3.59476194e-02 -9.56166665e-02  4.42857155e-02  2.53380938e-02\n",
      " -1.39238087e-02 -2.98023802e-02  5.93452381e-02  6.58619040e-02\n",
      " -1.11547623e-02  1.53952374e-02  5.92904766e-02 -1.74500004e-02\n",
      " -2.33333374e-03 -9.57619045e-03 -9.73023806e-02 -3.89999918e-03\n",
      "  2.21000003e-02  1.47904770e-02  4.90023823e-02  2.88071422e-02\n",
      "  8.64047606e-02  3.05714297e-03 -1.81666667e-02 -4.32404758e-02\n",
      " -5.74880958e-01 -4.76190484e-03  1.78571507e-03  5.96190463e-03\n",
      " -7.99999836e-04 -9.34619041e-02  5.42380883e-03 -2.31666604e-03\n",
      "  1.85404762e-02  1.76595233e-02 -1.57778573e-01  4.48833325e-02\n",
      " -3.58809517e-02 -2.47214290e-02  4.40095242e-02  2.98309520e-02\n",
      "  3.23642852e-02  5.24619048e-02  1.51547627e-02 -1.32761908e-02\n",
      "  2.10095238e-02  1.50040474e-01  1.93047614e-02 -4.03571388e-03\n",
      " -5.91261903e-02 -1.90238092e-02  3.94095237e-02 -8.10119056e-02\n",
      "  1.22333335e-02 -1.63928571e-02 -6.08333396e-03 -1.18854762e-01\n",
      "  1.85023812e-02  2.22166662e-02 -6.20333342e-02  1.24119048e-02\n",
      "  2.72238107e-02 -4.28428577e-02  4.58404764e-02  2.52214282e-02\n",
      "  4.67428578e-02 -6.18333340e-02 -2.93333303e-03  3.91785722e-02\n",
      "  3.22309522e-02 -2.98333329e-02 -1.15523810e-02 -2.83334146e-04\n",
      " -1.57207144e-01 -9.74761843e-03 -2.93095258e-03 -9.84285681e-03\n",
      " -7.68523802e-02  1.80357150e-02  4.69071407e-02  1.51190480e-02\n",
      " -8.97309527e-02 -2.44333342e-02 -2.22928570e-02  2.20238109e-03\n",
      "  8.87952396e-02  4.39285726e-02 -4.41071433e-02  5.92119054e-02\n",
      "  1.95119035e-02 -7.48785725e-02 -6.03238098e-02 -2.65961904e-01\n",
      "  2.31119053e-02 -1.87547626e-02 -1.92880952e-02 -6.99690467e-02\n",
      " -3.20761907e-02  1.63716669e-01  3.84000000e-02  5.32142836e-03\n",
      " -3.99547629e-02  2.29809527e-02  1.75880954e-02  3.33761912e-02\n",
      "  3.59761898e-02  4.93857131e-02 -5.94404758e-02 -1.39450000e-01\n",
      " -5.92142876e-03 -1.01619044e-02 -4.32904763e-02  2.35785715e-02\n",
      "  3.56904700e-03 -7.57142836e-03  5.80000009e-02  2.36421428e-01\n",
      "  3.52666676e-02 -4.38666667e-02  5.65428577e-02  7.51428558e-02\n",
      "  3.42142869e-02  1.10952378e-03  1.58357141e-02  5.00761900e-02\n",
      " -3.63261901e-02  3.60952380e-03 -2.46190482e-02  4.78738091e-02\n",
      "  2.04285703e-03  8.73333297e-03 -4.32666671e-02 -7.10714309e-03\n",
      "  1.35309529e-02 -2.25761906e-02  4.16714291e-02  1.71207142e-01\n",
      " -3.28928582e-02  3.25761900e-02  1.38064284e-01 -2.80333335e-02\n",
      " -1.68095237e-02 -7.23571420e-03  4.00880949e-02 -5.26904726e-03\n",
      " -2.37833326e-02  1.47666670e-02  2.31119058e-02  2.10738094e-02\n",
      "  1.86942857e-01 -7.15714183e-03 -9.38095314e-03 -8.60476179e-03\n",
      "  2.15619037e-02  5.68261901e-02 -2.52523807e-02 -3.76190444e-03\n",
      " -2.91238090e-02 -5.85642854e-02 -3.53404757e-02 -2.57857142e-02\n",
      "  1.39666669e-02  6.91190469e-02  6.11357138e-02  8.65404758e-02\n",
      " -2.64666667e-02  5.13333308e-03 -3.12690476e-02 -4.03880952e-02\n",
      " -3.74380951e-02 -4.73595234e-02  6.42309520e-02 -1.14999986e-03\n",
      "  2.95738095e-02 -9.12857142e-02 -1.66500011e-02 -7.64523819e-03\n",
      "  2.99999973e-04  2.78285714e-02  1.77476186e-02  2.48404759e-02\n",
      "  2.88595242e-02 -3.41119046e-02 -1.61738098e-02 -1.27380963e-02\n",
      " -5.64999943e-03  3.40476186e-02  3.37619047e-02 -6.19428575e-02\n",
      "  1.17735713e-01 -2.08571436e-02 -8.08547635e-02  1.11997618e-01\n",
      " -7.10595230e-02 -3.78833323e-02 -5.70000003e-02 -5.37380936e-02\n",
      " -4.76547623e-02 -1.11830953e-01 -5.19428577e-02  1.74285725e-03\n",
      "  7.24047613e-03 -9.04833336e-02  2.97857144e-02 -1.62190479e-02\n",
      "  2.83530953e-01 -1.18140477e-01  6.94047685e-03 -3.50571431e-02\n",
      " -1.33190472e-02 -9.52452367e-02 -1.73821428e-01 -5.55880951e-02\n",
      "  5.33690458e-02 -2.13309512e-02  2.95000032e-03 -9.39047636e-03\n",
      " -5.94238100e-02  1.11971428e-01  5.07119043e-02 -3.16166669e-02\n",
      "  6.64404747e-02  2.75476190e-01  3.32285713e-02 -3.63523814e-02\n",
      "  1.28280952e-01  3.08809490e-03  3.50428562e-02 -7.12857095e-03\n",
      " -2.11357134e-02 -2.14785713e-02 -2.46714284e-02  4.19523779e-03\n",
      " -5.78095226e-03 -1.01476185e-02  4.82142829e-03  3.13476199e-02\n",
      " -2.66540474e-01  5.98571437e-02  2.34404770e-02 -1.99095237e-02\n",
      "  1.23619061e-02 -2.66809530e-02 -3.52690477e-02  2.13214292e-02\n",
      "  2.06976189e-02  4.77285711e-02 -2.65857133e-02  4.95714291e-03\n",
      " -7.58190487e-02 -8.61452384e-02  3.80499995e-02  3.11595234e-02\n",
      "  2.68809508e-03  5.83547609e-02  2.36285714e-02 -2.55952385e-02\n",
      "  1.26690477e-02 -3.88809529e-02  1.18414287e-01 -1.03952383e-02\n",
      "  9.16666659e-03  4.35738095e-02  2.62380946e-02  1.23714284e-02\n",
      " -4.50238077e-03  4.60690471e-02  2.82595239e-02  2.25785720e-02\n",
      "  1.77857139e-02 -2.51190479e-02  2.50714419e-03  6.78095219e-03]\n"
     ]
    }
   ],
   "source": [
    "embeddings_fasttext = get_embeddings(fasttext_model, train_df[\"lemmatize_text\"], k=300)\n",
    "\n",
    "print(\"Embedding matrix size\", len(embeddings_fasttext), len(embeddings_fasttext[0]))\n",
    "print(\"The sentence: \\\"%s\\\" got embedding values: \" % train_df[\"lemmatize_text\"][0])\n",
    "print(embeddings_fasttext[0])"
   ]
  },
  {
   "cell_type": "code",
   "execution_count": 68,
   "metadata": {
    "execution": {
     "iopub.execute_input": "2020-08-26T21:06:23.735633Z",
     "iopub.status.busy": "2020-08-26T21:06:23.734852Z",
     "iopub.status.idle": "2020-08-26T21:06:23.738591Z",
     "shell.execute_reply": "2020-08-26T21:06:23.737824Z"
    },
    "papermill": {
     "duration": 0.071531,
     "end_time": "2020-08-26T21:06:23.738722",
     "exception": false,
     "start_time": "2020-08-26T21:06:23.667191",
     "status": "completed"
    },
    "tags": []
   },
   "outputs": [],
   "source": [
    "del embeddings_fasttext"
   ]
  },
  {
   "cell_type": "markdown",
   "execution_count": null,
   "metadata": {
    "papermill": {
     "duration": 0.057593,
     "end_time": "2020-08-26T21:06:23.853803",
     "exception": false,
     "start_time": "2020-08-26T21:06:23.796210",
     "status": "completed"
    },
    "tags": []
   },
   "source": [
    "<a id=\"Advanced_methods\"></a>\n",
    "\n",
    "### Advanced Word Embedding Methods - Deep Contextualized Word Representations: \n",
    "\n",
    "<a id=\"BERT\"></a>\n",
    "#### Bidirectional Encoder Representations from Transformers (BERT):\n",
    "> BERT is a deep learning model that has given state-of-the-art results on a wide variety of natural language processing tasks. It stands for Bidirectional Encoder Representations for Transformers. It has been pre-trained on Wikipedia and BooksCorpus and requires task-specific fine-tuning.\n",
    "\n",
    "> Lets understand BERT by breaking BERT abbreviation:\n",
    "> * **Bidirectional**: BERT takes whole text passage as input and reads passage in both direction to understand the meaning of each word.\n",
    "> * **Transformers**: BERT is based on a Deep Transformer network. Transformer network is a type of network that can process efficiently long texts by using attention. An attention is a mechanism to learn contextual relations between words (or sub-words) in a text.\n",
    "> * **Encoder Representation**: Originally Transformer includes two separate mechanisms — an encoder that reads the text input and a decoder that produces a prediction for the task, since BERT’s goal is to generate a language model only the encoder mechanism is necessary hence 'encoder representation'\n",
    "\n",
    "> BERT is a multi-layer bidirectional Transformer encoder. There are two models introduced in the paper.\n",
    "> * BERT base – 12 layers (transformer blocks), 12 attention heads, and 110 million parameters.\n",
    "> * BERT Large – 24 layers, 16 attention heads and, 340 million parameters.\n",
    "\n",
    "\n",
    "> How BERT performs Bidirectional training?\n",
    "> \n",
    "> BERT uses following two prediction models simultaneously with the goal of minimizing the combined loss function of the two strategies:\n",
    "> \n",
    "> * **Masked Language Model**: Before feeding word sequences into BERT, 15% of the words in each sequence are replaced with a [MASK] token. The model then attempts to predict the original value of the masked words, based on the context provided by the other, non-masked, words in the sequence.\n",
    "> * **Next Sentence Prediction**: The model receives pairs of sentences as input and learns to predict if the second sentence in the pair is the subsequent sentence in the original document. During training, 50% of the inputs are a pair in which the second sentence is the subsequent sentence in the original document, while in the other 50% a random sentence from the corpus is chosen as the second sentence. The assumption is that the random sentence will be disconnected from the first sentence.\n",
    "\n",
    "Resources and further reading on BERT's explanation could be found in the great Kaggle notebooks and Blogs here:\n",
    "* https://www.kaggle.com/abhinand05/bert-for-humans-tutorial-baseline-version-2\n",
    "* https://www.kaggle.com/ratan123/in-depth-guide-to-google-s-bert\n",
    "* https://www.kaggle.com/kksienc/comprehensive-nlp-tutorial-3-bert\n",
    "* https://yashuseth.blog/2019/06/12/bert-explained-faqs-understand-bert-working/\n",
    "\n",
    "We will create our sentence embeddings by BERT's pre-trained word vectors (Uncased) via Tensorflow (source: https://github.com/google-research/bert) and see the embedding output on the sample sentence from the our dataset. Noted that we will use the BERT isself tonkenizer. \n",
    "\n",
    "[Back To Table of Contents](#top_section)"
   ]
  },
  {
   "cell_type": "code",
   "execution_count": 69,
   "metadata": {
    "execution": {
     "iopub.execute_input": "2020-08-26T21:06:23.978892Z",
     "iopub.status.busy": "2020-08-26T21:06:23.978095Z",
     "iopub.status.idle": "2020-08-26T21:06:31.667775Z",
     "shell.execute_reply": "2020-08-26T21:06:31.666992Z"
    },
    "papermill": {
     "duration": 7.756564,
     "end_time": "2020-08-26T21:06:31.667901",
     "exception": false,
     "start_time": "2020-08-26T21:06:23.911337",
     "status": "completed"
    },
    "scrolled": true,
    "tags": []
   },
   "outputs": [
    {
     "name": "stdout",
     "output_type": "stream",
     "text": [
      "CPU times: user 4 µs, sys: 0 ns, total: 4 µs\n",
      "Wall time: 9.06 µs\n"
     ]
    }
   ],
   "source": [
    "%time \n",
    "\n",
    "import tensorflow_hub as hub\n",
    "\n",
    "# download the tonkenizer \n",
    "!wget --quiet https://raw.githubusercontent.com/tensorflow/models/master/official/nlp/bert/tokenization.py\n",
    "import tokenization"
   ]
  },
  {
   "cell_type": "code",
   "execution_count": 70,
   "metadata": {
    "execution": {
     "iopub.execute_input": "2020-08-26T21:06:31.790408Z",
     "iopub.status.busy": "2020-08-26T21:06:31.789349Z",
     "iopub.status.idle": "2020-08-26T21:07:10.903364Z",
     "shell.execute_reply": "2020-08-26T21:07:10.902635Z"
    },
    "papermill": {
     "duration": 39.177872,
     "end_time": "2020-08-26T21:07:10.903516",
     "exception": false,
     "start_time": "2020-08-26T21:06:31.725644",
     "status": "completed"
    },
    "tags": []
   },
   "outputs": [],
   "source": [
    "module_url = \"https://tfhub.dev/tensorflow/bert_en_uncased_L-24_H-1024_A-16/1\"\n",
    "bert_layer = hub.KerasLayer(module_url, trainable=True)"
   ]
  },
  {
   "cell_type": "code",
   "execution_count": 71,
   "metadata": {
    "execution": {
     "iopub.execute_input": "2020-08-26T21:07:11.031841Z",
     "iopub.status.busy": "2020-08-26T21:07:11.030748Z",
     "iopub.status.idle": "2020-08-26T21:07:11.033786Z",
     "shell.execute_reply": "2020-08-26T21:07:11.034313Z"
    },
    "papermill": {
     "duration": 0.073128,
     "end_time": "2020-08-26T21:07:11.034499",
     "exception": false,
     "start_time": "2020-08-26T21:07:10.961371",
     "status": "completed"
    },
    "tags": []
   },
   "outputs": [],
   "source": [
    "def bert_encode(texts, tokenizer, max_len=512):\n",
    "    all_tokens = []\n",
    "    all_masks = []\n",
    "    all_segments = []\n",
    "    \n",
    "    for text in texts:\n",
    "        text = tokenizer.tokenize(text)\n",
    "            \n",
    "        text = text[:max_len-2]\n",
    "        input_sequence = [\"[CLS]\"] + text + [\"[SEP]\"]\n",
    "        pad_len = max_len - len(input_sequence)\n",
    "        \n",
    "        tokens = tokenizer.convert_tokens_to_ids(input_sequence)\n",
    "        tokens += [0] * pad_len\n",
    "        pad_masks = [1] * len(input_sequence) + [0] * pad_len\n",
    "        segment_ids = [0] * max_len\n",
    "        \n",
    "        all_tokens.append(tokens)\n",
    "        all_masks.append(pad_masks)\n",
    "        all_segments.append(segment_ids)\n",
    "    \n",
    "    return np.array(all_tokens), np.array(all_masks), np.array(all_segments)"
   ]
  },
  {
   "cell_type": "code",
   "execution_count": 72,
   "metadata": {
    "execution": {
     "iopub.execute_input": "2020-08-26T21:07:11.162448Z",
     "iopub.status.busy": "2020-08-26T21:07:11.161561Z",
     "iopub.status.idle": "2020-08-26T21:07:18.525305Z",
     "shell.execute_reply": "2020-08-26T21:07:18.525920Z"
    },
    "papermill": {
     "duration": 7.433166,
     "end_time": "2020-08-26T21:07:18.526094",
     "exception": false,
     "start_time": "2020-08-26T21:07:11.092928",
     "status": "completed"
    },
    "tags": []
   },
   "outputs": [
    {
     "name": "stdout",
     "output_type": "stream",
     "text": [
      "CPU times: user 4 µs, sys: 0 ns, total: 4 µs\n",
      "Wall time: 8.82 µs\n"
     ]
    }
   ],
   "source": [
    "%time \n",
    "\n",
    "vocab_file = bert_layer.resolved_object.vocab_file.asset_path.numpy()\n",
    "do_lower_case = bert_layer.resolved_object.do_lower_case.numpy()\n",
    "tokenizer = tokenization.FullTokenizer(vocab_file, do_lower_case)\n",
    "\n",
    "bert_input = bert_encode(train_df[\"text\"].values, tokenizer, max_len=300)"
   ]
  },
  {
   "cell_type": "code",
   "execution_count": 73,
   "metadata": {
    "execution": {
     "iopub.execute_input": "2020-08-26T21:07:18.653348Z",
     "iopub.status.busy": "2020-08-26T21:07:18.652263Z",
     "iopub.status.idle": "2020-08-26T21:07:18.657178Z",
     "shell.execute_reply": "2020-08-26T21:07:18.656279Z"
    },
    "papermill": {
     "duration": 0.071296,
     "end_time": "2020-08-26T21:07:18.657317",
     "exception": false,
     "start_time": "2020-08-26T21:07:18.586021",
     "status": "completed"
    },
    "tags": []
   },
   "outputs": [
    {
     "name": "stdout",
     "output_type": "stream",
     "text": [
      "Embedding tensor size 3 7613 300\n",
      "The sentence: \"deed reason earthquake may allah forgive u\" got embedding values: \n",
      "[[  101  2256 15616 ...     0     0     0]\n",
      " [  101  3224  2543 ...     0     0     0]\n",
      " [  101  2035  3901 ...     0     0     0]\n",
      " ...\n",
      " [  101 23290  1012 ...     0     0     0]\n",
      " [  101  2610 11538 ...     0     0     0]\n",
      " [  101  1996  6745 ...     0     0     0]]\n"
     ]
    }
   ],
   "source": [
    "print(\"Embedding tensor size\", len(bert_input), len(bert_input[0]), len(bert_input[0][0]))\n",
    "print(\"The sentence: \\\"%s\\\" got embedding values: \" % train_df[\"lemmatize_text\"][0])\n",
    "print(bert_input[0])"
   ]
  },
  {
   "cell_type": "markdown",
   "execution_count": null,
   "metadata": {
    "papermill": {
     "duration": 0.05812,
     "end_time": "2020-08-26T21:07:18.773891",
     "exception": false,
     "start_time": "2020-08-26T21:07:18.715771",
     "status": "completed"
    },
    "tags": []
   },
   "source": [
    "<a id=\"Comparison\"></a>\n",
    "## Comparison of Feature Extraction Techniques\n",
    "Please refer to the below table as the Comparison between Feature Extraction Techniques, thanks to the paper [Text Classification Algorithms: A Survey](https://arxiv.org/abs/1904.08067) for all of their awesome works.\n",
    "\n",
    "[Back To Table of Contents](#top_section)"
   ]
  },
  {
   "cell_type": "markdown",
   "execution_count": null,
   "metadata": {
    "papermill": {
     "duration": 0.060534,
     "end_time": "2020-08-26T21:07:18.892719",
     "exception": false,
     "start_time": "2020-08-26T21:07:18.832185",
     "status": "completed"
    },
    "tags": []
   },
   "source": [
    "| Model                               \t| Advantages                                                                                                                                                                                                                                                                             \t| Limitation                                                                                                                                                                                                                                                                                                                                                                  \t|\n",
    "|-------------------------------------\t|----------------------------------------------------------------------------------------------------------------------------------------------------------------------------------------------------------------------------------------------------------------------------------------\t|-----------------------------------------------------------------------------------------------------------------------------------------------------------------------------------------------------------------------------------------------------------------------------------------------------------------------------------------------------------------------------\t|\n",
    "| Weighted Words                      \t| * Easy to compute<br>* Easy to compute the similarity between 2 documents using it<br>* Basic metric to extract the most descriptive terms in a document<br>* Works with an unknown word (e.g., New words in languages)                                                                \t| * It does not capture the position in the text (syntactic)<br>* It does not capture meaning in the text (semantics)<br>* Common words effect on the results (e.g., “am”, “is”, etc.)                                                                                                                                                                                        \t|\n",
    "| TF-IDF                              \t| * Easy to compute<br>* Easy to compute the similarity between 2 documents using it<br>* Basic metric to extract the most descriptive terms in a document<br>* Common words do not affect the results due to IDF (e.g., “am”, “is”, etc.)                                               \t| * It does not capture the position in the text (syntactic)<br>* It does not capture meaning in the text (semantics)                                                                                                                                                                                                                                                         \t|\n",
    "| Word2Vec                            \t| * It captures the position of the words in the text (syntactic)<br>* It captures meaning in the words (semantics)                                                                                                                                                                      \t| * It cannot capture the meaning of the word from the text (fails to capture polysemy)<br>* It cannot capture out-of-vocabulary words from corpus                                                                                                                                                                                                                            \t|\n",
    "| GloVe (Pre-Trained)                 \t| * It captures the position of the words in the text (syntactic)<br>* It captures meaning in the words (semantics)<br>* Trained on huge corpus                                                                                                                                          \t| * It cannot capture the meaning of the word from the text (fails to capture polysemy)<br>* Memory consumption for storage<br>* It cannot capture out-of-vocabulary words from corpus                                                                                                                                                                                        \t|\n",
    "| GloVe (Trained)                     \t| * It is very straightforward, e.g., to enforce the word vectors to capture sub-linear relationships in the vector space (performs better than Word2vec)<br>* Lower weight for highly frequent word pairs, such as stop words like “am”, “is”, etc. Will not dominate training progress \t| * Memory consumption for storage<br>* Needs huge corpus to learn<br>* It cannot capture out-of-vocabulary words from the corpus<br>* It cannot capture the meaning of the word from the text (fails to capture polysemy)                                                                                                                                                    \t|\n",
    "| FastText                            \t| * Works for rare words (rare in their character n-grams which are still shared with other words<br>* Solves out of vocabulary words with n-gram in character level                                                                                                                     \t| * It cannot capture the meaning of the word from the text (fails to capture polysemy)<br>* Memory consumption for storage<br>* Computationally is more expensive in comparing with GloVe and Word2Vec                                                                                                                                                                       \t|\n",
    "| Contextualized Word Representations \t| * It captures the meaning of the word from the text (incorporates context, handling polysemy)                                                                                                                                                                                          \t| * Memory consumption for storage<br>* Improves performance notably on downstream tasks. Computationally is more expensive in comparison to others<br>* Needs another word embedding for all LSTM and feedforward layers<br>* It cannot capture out-of-vocabulary words from a corpus<br>* Works only sentence and document level (it cannot work for individual word level) \t|"
   ]
  },
  {
   "cell_type": "markdown",
   "execution_count": null,
   "metadata": {
    "papermill": {
     "duration": 0.058322,
     "end_time": "2020-08-26T21:07:19.009957",
     "exception": false,
     "start_time": "2020-08-26T21:07:18.951635",
     "status": "completed"
    },
    "tags": []
   },
   "source": [
    "<a id=\"References\"></a>\n",
    "\n",
    "# References:\n",
    "<a id=\"Paper\"></a>\n",
    "## Paper:\n",
    "* [Text Classification Algorithms: A Survey](https://arxiv.org/abs/1904.08067)\n",
    "\n",
    "<a id=\"Books\"></a>\n",
    "## Books:\n",
    "* [Natural Language Processing in Action](https://www.manning.com/books/natural-language-processing-in-action)\n",
    "* [Speech and Language Processing](https://web.stanford.edu/~jurafsky/slp3/ed3book.pdf)\n",
    "\n",
    "<a id=\"Blogs_Notebooks\"></a>\n",
    "## Blogs/ Notebooks:\n",
    "* https://www.kaggle.com/abhinand05/bert-for-humans-tutorial-baseline-version-2\n",
    "* https://www.kaggle.com/amar09/text-pre-processing-and-feature-extraction \n",
    "* https://www.kaggle.com/ashishpatel26/beginner-to-intermediate-nlp-tutorial \n",
    "* https://www.kaggle.com/ashutosh3060/nlp-basic-feature-creation-and-preprocessing \n",
    "* https://www.kaggle.com/datafan07/disaster-tweets-nlp-eda-bert-with-transformers \n",
    "* https://www.kaggle.com/gunesevitan/nlp-with-disaster-tweets-eda-cleaning-and-bert \n",
    "* https://www.kaggle.com/kksienc/comprehensive-nlp-tutorial-3-bert\n",
    "* https://www.kaggle.com/liananapalkova/simply-about-word2vec \n",
    "* https://www.kaggle.com/ratan123/in-depth-guide-to-google-s-bert \n",
    "* https://www.kaggle.com/sudalairajkumar/getting-started-with-text-preprocessing\n",
    "* https://www.kaggle.com/vbmokin/nlp-eda-bag-of-words-tf-idf-glove-bert \n",
    "* https://www.kdnuggets.com/2018/08/practitioners-guide-processing-understanding-text-2.html \n",
    "* https://yashuseth.blog/2019/06/12/bert-explained-faqs-understand-bert-working/\n",
    "* https://gist.github.com/MrEliptik/b3f16179aa2f530781ef8ca9a16499af \n",
    "* https://github.com/hundredblocks/concrete_NLP_tutorial/blob/master/NLP_notebook.ipynb \n",
    "* https://machinelearningmastery.com/gentle-introduction-bag-words-model/ \n",
    "* https://towardsdatascience.com/natural-language-processing-pipeline-93df02ecd03f\n",
    "\n",
    "\n",
    "### I really appreciate your feedbacks, there would be some areas can be fixed and improved.\n",
    "## If you liked my work please Upvote!\n",
    "[Back To Table of Contents](#top_section)"
   ]
  }
 ],
 "metadata": {
  "kernelspec": {
   "display_name": "Python 3",
   "language": "python",
   "name": "python3"
  },
  "language_info": {
   "codemirror_mode": {
    "name": "ipython",
    "version": 3
   },
   "file_extension": ".py",
   "mimetype": "text/x-python",
   "name": "python",
   "nbconvert_exporter": "python",
   "pygments_lexer": "ipython3",
   "version": "3.7.6"
  },
  "papermill": {
   "duration": 500.435762,
   "end_time": "2020-08-26T21:07:20.093709",
   "environment_variables": {},
   "exception": null,
   "input_path": "__notebook__.ipynb",
   "output_path": "__notebook__.ipynb",
   "parameters": {},
   "start_time": "2020-08-26T20:58:59.657947",
   "version": "2.1.0"
  }
 },
 "nbformat": 4,
 "nbformat_minor": 4
}
